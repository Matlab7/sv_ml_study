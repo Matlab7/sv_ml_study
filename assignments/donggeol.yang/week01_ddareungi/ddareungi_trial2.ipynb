{
 "cells": [
  {
   "cell_type": "markdown",
   "metadata": {},
   "source": [
    "# Ddareungi Challenge"
   ]
  },
  {
   "cell_type": "markdown",
   "metadata": {},
   "source": [
    "한 시간 전 데이터를 통해 현재의 자전거 대여량 예측하기"
   ]
  },
  {
   "cell_type": "markdown",
   "metadata": {},
   "source": [
    "#table_of_contents"
   ]
  },
  {
   "cell_type": "markdown",
   "metadata": {},
   "source": [
    "## Import package"
   ]
  },
  {
   "cell_type": "code",
   "execution_count": 1,
   "metadata": {},
   "outputs": [],
   "source": [
    "import pandas as pd\n",
    "import numpy as np\n",
    "import missingno as msno\n",
    "\n",
    "import sys\n",
    "import warnings\n",
    "warnings.filterwarnings('ignore')"
   ]
  },
  {
   "cell_type": "markdown",
   "metadata": {},
   "source": [
    "## Load Data"
   ]
  },
  {
   "cell_type": "code",
   "execution_count": 2,
   "metadata": {},
   "outputs": [],
   "source": [
    "df_train = pd.read_csv('../../../input/ddareung/train.csv')\n",
    "df_test = pd.read_csv('../../../input/ddareung/test.csv')"
   ]
  },
  {
   "cell_type": "code",
   "execution_count": 3,
   "metadata": {},
   "outputs": [
    {
     "data": {
      "text/html": [
       "<div>\n",
       "<style scoped>\n",
       "    .dataframe tbody tr th:only-of-type {\n",
       "        vertical-align: middle;\n",
       "    }\n",
       "\n",
       "    .dataframe tbody tr th {\n",
       "        vertical-align: top;\n",
       "    }\n",
       "\n",
       "    .dataframe thead th {\n",
       "        text-align: right;\n",
       "    }\n",
       "</style>\n",
       "<table border=\"1\" class=\"dataframe\">\n",
       "  <thead>\n",
       "    <tr style=\"text-align: right;\">\n",
       "      <th></th>\n",
       "      <th>id</th>\n",
       "      <th>hour</th>\n",
       "      <th>hour_bef_temperature</th>\n",
       "      <th>hour_bef_precipitation</th>\n",
       "      <th>hour_bef_windspeed</th>\n",
       "      <th>hour_bef_humidity</th>\n",
       "      <th>hour_bef_visibility</th>\n",
       "      <th>hour_bef_ozone</th>\n",
       "      <th>hour_bef_pm10</th>\n",
       "      <th>hour_bef_pm2.5</th>\n",
       "      <th>count</th>\n",
       "    </tr>\n",
       "  </thead>\n",
       "  <tbody>\n",
       "    <tr>\n",
       "      <th>0</th>\n",
       "      <td>3</td>\n",
       "      <td>20</td>\n",
       "      <td>16.3</td>\n",
       "      <td>1.0</td>\n",
       "      <td>1.5</td>\n",
       "      <td>89.0</td>\n",
       "      <td>576.0</td>\n",
       "      <td>0.027</td>\n",
       "      <td>76.0</td>\n",
       "      <td>33.0</td>\n",
       "      <td>49.0</td>\n",
       "    </tr>\n",
       "    <tr>\n",
       "      <th>1</th>\n",
       "      <td>6</td>\n",
       "      <td>13</td>\n",
       "      <td>20.1</td>\n",
       "      <td>0.0</td>\n",
       "      <td>1.4</td>\n",
       "      <td>48.0</td>\n",
       "      <td>916.0</td>\n",
       "      <td>0.042</td>\n",
       "      <td>73.0</td>\n",
       "      <td>40.0</td>\n",
       "      <td>159.0</td>\n",
       "    </tr>\n",
       "    <tr>\n",
       "      <th>2</th>\n",
       "      <td>7</td>\n",
       "      <td>6</td>\n",
       "      <td>13.9</td>\n",
       "      <td>0.0</td>\n",
       "      <td>0.7</td>\n",
       "      <td>79.0</td>\n",
       "      <td>1382.0</td>\n",
       "      <td>0.033</td>\n",
       "      <td>32.0</td>\n",
       "      <td>19.0</td>\n",
       "      <td>26.0</td>\n",
       "    </tr>\n",
       "    <tr>\n",
       "      <th>3</th>\n",
       "      <td>8</td>\n",
       "      <td>23</td>\n",
       "      <td>8.1</td>\n",
       "      <td>0.0</td>\n",
       "      <td>2.7</td>\n",
       "      <td>54.0</td>\n",
       "      <td>946.0</td>\n",
       "      <td>0.040</td>\n",
       "      <td>75.0</td>\n",
       "      <td>64.0</td>\n",
       "      <td>57.0</td>\n",
       "    </tr>\n",
       "    <tr>\n",
       "      <th>4</th>\n",
       "      <td>9</td>\n",
       "      <td>18</td>\n",
       "      <td>29.5</td>\n",
       "      <td>0.0</td>\n",
       "      <td>4.8</td>\n",
       "      <td>7.0</td>\n",
       "      <td>2000.0</td>\n",
       "      <td>0.057</td>\n",
       "      <td>27.0</td>\n",
       "      <td>11.0</td>\n",
       "      <td>431.0</td>\n",
       "    </tr>\n",
       "  </tbody>\n",
       "</table>\n",
       "</div>"
      ],
      "text/plain": [
       "   id  hour  hour_bef_temperature  hour_bef_precipitation  hour_bef_windspeed  \\\n",
       "0   3    20                  16.3                     1.0                 1.5   \n",
       "1   6    13                  20.1                     0.0                 1.4   \n",
       "2   7     6                  13.9                     0.0                 0.7   \n",
       "3   8    23                   8.1                     0.0                 2.7   \n",
       "4   9    18                  29.5                     0.0                 4.8   \n",
       "\n",
       "   hour_bef_humidity  hour_bef_visibility  hour_bef_ozone  hour_bef_pm10  \\\n",
       "0               89.0                576.0           0.027           76.0   \n",
       "1               48.0                916.0           0.042           73.0   \n",
       "2               79.0               1382.0           0.033           32.0   \n",
       "3               54.0                946.0           0.040           75.0   \n",
       "4                7.0               2000.0           0.057           27.0   \n",
       "\n",
       "   hour_bef_pm2.5  count  \n",
       "0            33.0   49.0  \n",
       "1            40.0  159.0  \n",
       "2            19.0   26.0  \n",
       "3            64.0   57.0  \n",
       "4            11.0  431.0  "
      ]
     },
     "execution_count": 3,
     "metadata": {},
     "output_type": "execute_result"
    }
   ],
   "source": [
    "df_train.head()"
   ]
  },
  {
   "cell_type": "code",
   "execution_count": 4,
   "metadata": {},
   "outputs": [
    {
     "data": {
      "text/html": [
       "<div>\n",
       "<style scoped>\n",
       "    .dataframe tbody tr th:only-of-type {\n",
       "        vertical-align: middle;\n",
       "    }\n",
       "\n",
       "    .dataframe tbody tr th {\n",
       "        vertical-align: top;\n",
       "    }\n",
       "\n",
       "    .dataframe thead th {\n",
       "        text-align: right;\n",
       "    }\n",
       "</style>\n",
       "<table border=\"1\" class=\"dataframe\">\n",
       "  <thead>\n",
       "    <tr style=\"text-align: right;\">\n",
       "      <th></th>\n",
       "      <th>id</th>\n",
       "      <th>hour</th>\n",
       "      <th>hour_bef_temperature</th>\n",
       "      <th>hour_bef_precipitation</th>\n",
       "      <th>hour_bef_windspeed</th>\n",
       "      <th>hour_bef_humidity</th>\n",
       "      <th>hour_bef_visibility</th>\n",
       "      <th>hour_bef_ozone</th>\n",
       "      <th>hour_bef_pm10</th>\n",
       "      <th>hour_bef_pm2.5</th>\n",
       "    </tr>\n",
       "  </thead>\n",
       "  <tbody>\n",
       "    <tr>\n",
       "      <th>0</th>\n",
       "      <td>0</td>\n",
       "      <td>7</td>\n",
       "      <td>20.7</td>\n",
       "      <td>0.0</td>\n",
       "      <td>1.3</td>\n",
       "      <td>62.0</td>\n",
       "      <td>954.0</td>\n",
       "      <td>0.041</td>\n",
       "      <td>44.0</td>\n",
       "      <td>27.0</td>\n",
       "    </tr>\n",
       "    <tr>\n",
       "      <th>1</th>\n",
       "      <td>1</td>\n",
       "      <td>17</td>\n",
       "      <td>30.0</td>\n",
       "      <td>0.0</td>\n",
       "      <td>5.4</td>\n",
       "      <td>33.0</td>\n",
       "      <td>1590.0</td>\n",
       "      <td>0.061</td>\n",
       "      <td>49.0</td>\n",
       "      <td>36.0</td>\n",
       "    </tr>\n",
       "    <tr>\n",
       "      <th>2</th>\n",
       "      <td>2</td>\n",
       "      <td>13</td>\n",
       "      <td>19.0</td>\n",
       "      <td>1.0</td>\n",
       "      <td>2.1</td>\n",
       "      <td>95.0</td>\n",
       "      <td>193.0</td>\n",
       "      <td>0.020</td>\n",
       "      <td>36.0</td>\n",
       "      <td>28.0</td>\n",
       "    </tr>\n",
       "    <tr>\n",
       "      <th>3</th>\n",
       "      <td>4</td>\n",
       "      <td>6</td>\n",
       "      <td>22.5</td>\n",
       "      <td>0.0</td>\n",
       "      <td>2.5</td>\n",
       "      <td>60.0</td>\n",
       "      <td>1185.0</td>\n",
       "      <td>0.027</td>\n",
       "      <td>52.0</td>\n",
       "      <td>38.0</td>\n",
       "    </tr>\n",
       "    <tr>\n",
       "      <th>4</th>\n",
       "      <td>5</td>\n",
       "      <td>22</td>\n",
       "      <td>14.6</td>\n",
       "      <td>1.0</td>\n",
       "      <td>3.4</td>\n",
       "      <td>93.0</td>\n",
       "      <td>218.0</td>\n",
       "      <td>0.041</td>\n",
       "      <td>18.0</td>\n",
       "      <td>15.0</td>\n",
       "    </tr>\n",
       "  </tbody>\n",
       "</table>\n",
       "</div>"
      ],
      "text/plain": [
       "   id  hour  hour_bef_temperature  hour_bef_precipitation  hour_bef_windspeed  \\\n",
       "0   0     7                  20.7                     0.0                 1.3   \n",
       "1   1    17                  30.0                     0.0                 5.4   \n",
       "2   2    13                  19.0                     1.0                 2.1   \n",
       "3   4     6                  22.5                     0.0                 2.5   \n",
       "4   5    22                  14.6                     1.0                 3.4   \n",
       "\n",
       "   hour_bef_humidity  hour_bef_visibility  hour_bef_ozone  hour_bef_pm10  \\\n",
       "0               62.0                954.0           0.041           44.0   \n",
       "1               33.0               1590.0           0.061           49.0   \n",
       "2               95.0                193.0           0.020           36.0   \n",
       "3               60.0               1185.0           0.027           52.0   \n",
       "4               93.0                218.0           0.041           18.0   \n",
       "\n",
       "   hour_bef_pm2.5  \n",
       "0            27.0  \n",
       "1            36.0  \n",
       "2            28.0  \n",
       "3            38.0  \n",
       "4            15.0  "
      ]
     },
     "execution_count": 4,
     "metadata": {},
     "output_type": "execute_result"
    }
   ],
   "source": [
    "df_test.head()"
   ]
  },
  {
   "cell_type": "code",
   "execution_count": 5,
   "metadata": {},
   "outputs": [
    {
     "name": "stdout",
     "output_type": "stream",
     "text": [
      "(1459, 11)\n",
      "(715, 10)\n"
     ]
    }
   ],
   "source": [
    "print(df_train.shape)\n",
    "print(df_test.shape)"
   ]
  },
  {
   "cell_type": "markdown",
   "metadata": {},
   "source": [
    "### Column 자료형 확인"
   ]
  },
  {
   "cell_type": "markdown",
   "metadata": {},
   "source": [
    "- infro() : 각 column 정보 보기"
   ]
  },
  {
   "cell_type": "code",
   "execution_count": 6,
   "metadata": {},
   "outputs": [
    {
     "name": "stdout",
     "output_type": "stream",
     "text": [
      "<class 'pandas.core.frame.DataFrame'>\n",
      "RangeIndex: 1459 entries, 0 to 1458\n",
      "Data columns (total 11 columns):\n",
      " #   Column                  Non-Null Count  Dtype  \n",
      "---  ------                  --------------  -----  \n",
      " 0   id                      1459 non-null   int64  \n",
      " 1   hour                    1459 non-null   int64  \n",
      " 2   hour_bef_temperature    1457 non-null   float64\n",
      " 3   hour_bef_precipitation  1457 non-null   float64\n",
      " 4   hour_bef_windspeed      1450 non-null   float64\n",
      " 5   hour_bef_humidity       1457 non-null   float64\n",
      " 6   hour_bef_visibility     1457 non-null   float64\n",
      " 7   hour_bef_ozone          1383 non-null   float64\n",
      " 8   hour_bef_pm10           1369 non-null   float64\n",
      " 9   hour_bef_pm2.5          1342 non-null   float64\n",
      " 10  count                   1459 non-null   float64\n",
      "dtypes: float64(9), int64(2)\n",
      "memory usage: 125.5 KB\n"
     ]
    }
   ],
   "source": [
    "df_train.info()"
   ]
  },
  {
   "cell_type": "code",
   "execution_count": 7,
   "metadata": {},
   "outputs": [
    {
     "name": "stdout",
     "output_type": "stream",
     "text": [
      "<class 'pandas.core.frame.DataFrame'>\n",
      "RangeIndex: 715 entries, 0 to 714\n",
      "Data columns (total 10 columns):\n",
      " #   Column                  Non-Null Count  Dtype  \n",
      "---  ------                  --------------  -----  \n",
      " 0   id                      715 non-null    int64  \n",
      " 1   hour                    715 non-null    int64  \n",
      " 2   hour_bef_temperature    714 non-null    float64\n",
      " 3   hour_bef_precipitation  714 non-null    float64\n",
      " 4   hour_bef_windspeed      714 non-null    float64\n",
      " 5   hour_bef_humidity       714 non-null    float64\n",
      " 6   hour_bef_visibility     714 non-null    float64\n",
      " 7   hour_bef_ozone          680 non-null    float64\n",
      " 8   hour_bef_pm10           678 non-null    float64\n",
      " 9   hour_bef_pm2.5          679 non-null    float64\n",
      "dtypes: float64(8), int64(2)\n",
      "memory usage: 56.0 KB\n"
     ]
    }
   ],
   "source": [
    "df_test.info()"
   ]
  },
  {
   "cell_type": "markdown",
   "metadata": {},
   "source": [
    "## Exploratory Data Analysis (EDA)"
   ]
  },
  {
   "cell_type": "markdown",
   "metadata": {},
   "source": [
    "### missing data\n",
    "- hour_bef_temperature (2 missings)\n",
    "- hour_bef_precipitation \n",
    "- hour_bef_humidity\n",
    "- hour_bef_visibility\n",
    "- hour_bef_windspeed (9 missings)\n",
    "- hour_bef_ozone (76 missings)\n",
    "- hour_bef_pm10 (90 missings)\n",
    "- hour_bef_pm2.5 (117 missings)"
   ]
  },
  {
   "cell_type": "code",
   "execution_count": 8,
   "metadata": {},
   "outputs": [
    {
     "data": {
      "text/plain": [
       "<AxesSubplot:>"
      ]
     },
     "execution_count": 8,
     "metadata": {},
     "output_type": "execute_result"
    },
    {
     "data": {
      "image/png": "[encoded data removed]",
      "text/plain": [
       "<Figure size 1440x720 with 1 Axes>"
      ]
     },
     "metadata": {
      "needs_background": "light"
     },
     "output_type": "display_data"
    }
   ],
   "source": [
    "missing = df_train.isnull().sum()\n",
    "missing = missing[missing > 0]\n",
    "missing.sort_values(inplace=True)\n",
    "missing.plot.bar(figsize = (20,10))"
   ]
  },
  {
   "cell_type": "markdown",
   "metadata": {},
   "source": [
    "시간대별 대여수 파악"
   ]
  },
  {
   "cell_type": "code",
   "execution_count": 9,
   "metadata": {},
   "outputs": [
    {
     "data": {
      "text/plain": [
       "<AxesSubplot:xlabel='hour'>"
      ]
     },
     "execution_count": 9,
     "metadata": {},
     "output_type": "execute_result"
    },
    {
     "data": {
      "image/png": "[encoded data removed]",
      "text/plain": [
       "<Figure size 432x288 with 1 Axes>"
      ]
     },
     "metadata": {
      "needs_background": "light"
     },
     "output_type": "display_data"
    }
   ],
   "source": [
    "df_train.groupby('hour').mean()['count'].plot()"
   ]
  },
  {
   "cell_type": "markdown",
   "metadata": {},
   "source": [
    "### Visualization"
   ]
  },
  {
   "cell_type": "code",
   "execution_count": 10,
   "metadata": {},
   "outputs": [],
   "source": [
    "import matplotlib.pyplot as plt\n",
    "%matplotlib inline\n",
    "import seaborn as sns\n",
    "sns.set()"
   ]
  },
  {
   "cell_type": "code",
   "execution_count": 11,
   "metadata": {},
   "outputs": [
    {
     "data": {
      "text/plain": [
       "Text(18, 250, 'peak2')"
      ]
     },
     "execution_count": 11,
     "metadata": {},
     "output_type": "execute_result"
    },
    {
     "data": {
      "image/png": "[encoded data removed]",
      "text/plain": [
       "<Figure size 1440x720 with 1 Axes>"
      ]
     },
     "metadata": {},
     "output_type": "display_data"
    }
   ],
   "source": [
    "plt.figure(figsize = (20,10), facecolor='gray')\n",
    "plt.plot(df_train.groupby('hour').mean()['count'], 'bo-')\n",
    "plt.grid()\n",
    "\n",
    "plt.title('count by hours', fontsize = 15)\n",
    "plt.xlabel('hour', fontsize=12)\n",
    "plt.ylabel('count', fontsize=12)\n",
    "\n",
    "plt.axvline(8, color='r')\n",
    "plt.axvline(18, color='r')\n",
    "plt.text(8,120,'peak1',fontsize=10)\n",
    "plt.text(18,250,'peak2',fontsize=10)\n"
   ]
  },
  {
   "cell_type": "markdown",
   "metadata": {},
   "source": [
    "#### Correlation"
   ]
  },
  {
   "cell_type": "code",
   "execution_count": 12,
   "metadata": {},
   "outputs": [
    {
     "data": {
      "text/html": [
       "<div>\n",
       "<style scoped>\n",
       "    .dataframe tbody tr th:only-of-type {\n",
       "        vertical-align: middle;\n",
       "    }\n",
       "\n",
       "    .dataframe tbody tr th {\n",
       "        vertical-align: top;\n",
       "    }\n",
       "\n",
       "    .dataframe thead th {\n",
       "        text-align: right;\n",
       "    }\n",
       "</style>\n",
       "<table border=\"1\" class=\"dataframe\">\n",
       "  <thead>\n",
       "    <tr style=\"text-align: right;\">\n",
       "      <th></th>\n",
       "      <th>id</th>\n",
       "      <th>hour</th>\n",
       "      <th>hour_bef_temperature</th>\n",
       "      <th>hour_bef_precipitation</th>\n",
       "      <th>hour_bef_windspeed</th>\n",
       "      <th>hour_bef_humidity</th>\n",
       "      <th>hour_bef_visibility</th>\n",
       "      <th>hour_bef_ozone</th>\n",
       "      <th>hour_bef_pm10</th>\n",
       "      <th>hour_bef_pm2.5</th>\n",
       "      <th>count</th>\n",
       "    </tr>\n",
       "  </thead>\n",
       "  <tbody>\n",
       "    <tr>\n",
       "      <th>id</th>\n",
       "      <td>1.000000</td>\n",
       "      <td>-0.010901</td>\n",
       "      <td>-0.000029</td>\n",
       "      <td>-0.056267</td>\n",
       "      <td>-0.003353</td>\n",
       "      <td>-0.017948</td>\n",
       "      <td>0.008950</td>\n",
       "      <td>0.055234</td>\n",
       "      <td>-0.025510</td>\n",
       "      <td>0.003545</td>\n",
       "      <td>-0.002131</td>\n",
       "    </tr>\n",
       "    <tr>\n",
       "      <th>hour</th>\n",
       "      <td>-0.010901</td>\n",
       "      <td>1.000000</td>\n",
       "      <td>0.407306</td>\n",
       "      <td>0.021646</td>\n",
       "      <td>0.462797</td>\n",
       "      <td>-0.329612</td>\n",
       "      <td>0.176491</td>\n",
       "      <td>0.390188</td>\n",
       "      <td>-0.035907</td>\n",
       "      <td>-0.061229</td>\n",
       "      <td>0.626047</td>\n",
       "    </tr>\n",
       "    <tr>\n",
       "      <th>hour_bef_temperature</th>\n",
       "      <td>-0.000029</td>\n",
       "      <td>0.407306</td>\n",
       "      <td>1.000000</td>\n",
       "      <td>-0.097056</td>\n",
       "      <td>0.375618</td>\n",
       "      <td>-0.496088</td>\n",
       "      <td>0.197417</td>\n",
       "      <td>0.541228</td>\n",
       "      <td>-0.003830</td>\n",
       "      <td>-0.078665</td>\n",
       "      <td>0.619404</td>\n",
       "    </tr>\n",
       "    <tr>\n",
       "      <th>hour_bef_precipitation</th>\n",
       "      <td>-0.056267</td>\n",
       "      <td>0.021646</td>\n",
       "      <td>-0.097056</td>\n",
       "      <td>1.000000</td>\n",
       "      <td>0.022746</td>\n",
       "      <td>0.276481</td>\n",
       "      <td>-0.217155</td>\n",
       "      <td>-0.062461</td>\n",
       "      <td>-0.051266</td>\n",
       "      <td>0.004742</td>\n",
       "      <td>-0.163985</td>\n",
       "    </tr>\n",
       "    <tr>\n",
       "      <th>hour_bef_windspeed</th>\n",
       "      <td>-0.003353</td>\n",
       "      <td>0.462797</td>\n",
       "      <td>0.375618</td>\n",
       "      <td>0.022746</td>\n",
       "      <td>1.000000</td>\n",
       "      <td>-0.433012</td>\n",
       "      <td>0.252092</td>\n",
       "      <td>0.520526</td>\n",
       "      <td>0.010176</td>\n",
       "      <td>-0.199113</td>\n",
       "      <td>0.459906</td>\n",
       "    </tr>\n",
       "    <tr>\n",
       "      <th>hour_bef_humidity</th>\n",
       "      <td>-0.017948</td>\n",
       "      <td>-0.329612</td>\n",
       "      <td>-0.496088</td>\n",
       "      <td>0.276481</td>\n",
       "      <td>-0.433012</td>\n",
       "      <td>1.000000</td>\n",
       "      <td>-0.592244</td>\n",
       "      <td>-0.421047</td>\n",
       "      <td>-0.108106</td>\n",
       "      <td>0.167736</td>\n",
       "      <td>-0.471142</td>\n",
       "    </tr>\n",
       "    <tr>\n",
       "      <th>hour_bef_visibility</th>\n",
       "      <td>0.008950</td>\n",
       "      <td>0.176491</td>\n",
       "      <td>0.197417</td>\n",
       "      <td>-0.217155</td>\n",
       "      <td>0.252092</td>\n",
       "      <td>-0.592244</td>\n",
       "      <td>1.000000</td>\n",
       "      <td>0.101899</td>\n",
       "      <td>-0.403277</td>\n",
       "      <td>-0.644989</td>\n",
       "      <td>0.299094</td>\n",
       "    </tr>\n",
       "    <tr>\n",
       "      <th>hour_bef_ozone</th>\n",
       "      <td>0.055234</td>\n",
       "      <td>0.390188</td>\n",
       "      <td>0.541228</td>\n",
       "      <td>-0.062461</td>\n",
       "      <td>0.520526</td>\n",
       "      <td>-0.421047</td>\n",
       "      <td>0.101899</td>\n",
       "      <td>1.000000</td>\n",
       "      <td>0.113015</td>\n",
       "      <td>0.017313</td>\n",
       "      <td>0.477614</td>\n",
       "    </tr>\n",
       "    <tr>\n",
       "      <th>hour_bef_pm10</th>\n",
       "      <td>-0.025510</td>\n",
       "      <td>-0.035907</td>\n",
       "      <td>-0.003830</td>\n",
       "      <td>-0.051266</td>\n",
       "      <td>0.010176</td>\n",
       "      <td>-0.108106</td>\n",
       "      <td>-0.403277</td>\n",
       "      <td>0.113015</td>\n",
       "      <td>1.000000</td>\n",
       "      <td>0.489558</td>\n",
       "      <td>-0.114288</td>\n",
       "    </tr>\n",
       "    <tr>\n",
       "      <th>hour_bef_pm2.5</th>\n",
       "      <td>0.003545</td>\n",
       "      <td>-0.061229</td>\n",
       "      <td>-0.078665</td>\n",
       "      <td>0.004742</td>\n",
       "      <td>-0.199113</td>\n",
       "      <td>0.167736</td>\n",
       "      <td>-0.644989</td>\n",
       "      <td>0.017313</td>\n",
       "      <td>0.489558</td>\n",
       "      <td>1.000000</td>\n",
       "      <td>-0.134293</td>\n",
       "    </tr>\n",
       "    <tr>\n",
       "      <th>count</th>\n",
       "      <td>-0.002131</td>\n",
       "      <td>0.626047</td>\n",
       "      <td>0.619404</td>\n",
       "      <td>-0.163985</td>\n",
       "      <td>0.459906</td>\n",
       "      <td>-0.471142</td>\n",
       "      <td>0.299094</td>\n",
       "      <td>0.477614</td>\n",
       "      <td>-0.114288</td>\n",
       "      <td>-0.134293</td>\n",
       "      <td>1.000000</td>\n",
       "    </tr>\n",
       "  </tbody>\n",
       "</table>\n",
       "</div>"
      ],
      "text/plain": [
       "                              id      hour  hour_bef_temperature  \\\n",
       "id                      1.000000 -0.010901             -0.000029   \n",
       "hour                   -0.010901  1.000000              0.407306   \n",
       "hour_bef_temperature   -0.000029  0.407306              1.000000   \n",
       "hour_bef_precipitation -0.056267  0.021646             -0.097056   \n",
       "hour_bef_windspeed     -0.003353  0.462797              0.375618   \n",
       "hour_bef_humidity      -0.017948 -0.329612             -0.496088   \n",
       "hour_bef_visibility     0.008950  0.176491              0.197417   \n",
       "hour_bef_ozone          0.055234  0.390188              0.541228   \n",
       "hour_bef_pm10          -0.025510 -0.035907             -0.003830   \n",
       "hour_bef_pm2.5          0.003545 -0.061229             -0.078665   \n",
       "count                  -0.002131  0.626047              0.619404   \n",
       "\n",
       "                        hour_bef_precipitation  hour_bef_windspeed  \\\n",
       "id                                   -0.056267           -0.003353   \n",
       "hour                                  0.021646            0.462797   \n",
       "hour_bef_temperature                 -0.097056            0.375618   \n",
       "hour_bef_precipitation                1.000000            0.022746   \n",
       "hour_bef_windspeed                    0.022746            1.000000   \n",
       "hour_bef_humidity                     0.276481           -0.433012   \n",
       "hour_bef_visibility                  -0.217155            0.252092   \n",
       "hour_bef_ozone                       -0.062461            0.520526   \n",
       "hour_bef_pm10                        -0.051266            0.010176   \n",
       "hour_bef_pm2.5                        0.004742           -0.199113   \n",
       "count                                -0.163985            0.459906   \n",
       "\n",
       "                        hour_bef_humidity  hour_bef_visibility  \\\n",
       "id                              -0.017948             0.008950   \n",
       "hour                            -0.329612             0.176491   \n",
       "hour_bef_temperature            -0.496088             0.197417   \n",
       "hour_bef_precipitation           0.276481            -0.217155   \n",
       "hour_bef_windspeed              -0.433012             0.252092   \n",
       "hour_bef_humidity                1.000000            -0.592244   \n",
       "hour_bef_visibility             -0.592244             1.000000   \n",
       "hour_bef_ozone                  -0.421047             0.101899   \n",
       "hour_bef_pm10                   -0.108106            -0.403277   \n",
       "hour_bef_pm2.5                   0.167736            -0.644989   \n",
       "count                           -0.471142             0.299094   \n",
       "\n",
       "                        hour_bef_ozone  hour_bef_pm10  hour_bef_pm2.5  \\\n",
       "id                            0.055234      -0.025510        0.003545   \n",
       "hour                          0.390188      -0.035907       -0.061229   \n",
       "hour_bef_temperature          0.541228      -0.003830       -0.078665   \n",
       "hour_bef_precipitation       -0.062461      -0.051266        0.004742   \n",
       "hour_bef_windspeed            0.520526       0.010176       -0.199113   \n",
       "hour_bef_humidity            -0.421047      -0.108106        0.167736   \n",
       "hour_bef_visibility           0.101899      -0.403277       -0.644989   \n",
       "hour_bef_ozone                1.000000       0.113015        0.017313   \n",
       "hour_bef_pm10                 0.113015       1.000000        0.489558   \n",
       "hour_bef_pm2.5                0.017313       0.489558        1.000000   \n",
       "count                         0.477614      -0.114288       -0.134293   \n",
       "\n",
       "                           count  \n",
       "id                     -0.002131  \n",
       "hour                    0.626047  \n",
       "hour_bef_temperature    0.619404  \n",
       "hour_bef_precipitation -0.163985  \n",
       "hour_bef_windspeed      0.459906  \n",
       "hour_bef_humidity      -0.471142  \n",
       "hour_bef_visibility     0.299094  \n",
       "hour_bef_ozone          0.477614  \n",
       "hour_bef_pm10          -0.114288  \n",
       "hour_bef_pm2.5         -0.134293  \n",
       "count                   1.000000  "
      ]
     },
     "execution_count": 12,
     "metadata": {},
     "output_type": "execute_result"
    }
   ],
   "source": [
    "df_train.corr()"
   ]
  },
  {
   "cell_type": "code",
   "execution_count": 13,
   "metadata": {},
   "outputs": [
    {
     "data": {
      "text/plain": [
       "<AxesSubplot:>"
      ]
     },
     "execution_count": 13,
     "metadata": {},
     "output_type": "execute_result"
    },
    {
     "data": {
      "image/png": "[encoded data removed]",
      "text/plain": [
       "<Figure size 1440x720 with 2 Axes>"
      ]
     },
     "metadata": {},
     "output_type": "display_data"
    }
   ],
   "source": [
    "plt.figure(figsize=(20,10))\n",
    "sns.heatmap(df_train.corr(),annot=True,fmt='.2f')"
   ]
  },
  {
   "cell_type": "markdown",
   "metadata": {},
   "source": [
    "=> count와 correlation이 적은 features : pm10, pm2.5, precipitation"
   ]
  },
  {
   "cell_type": "code",
   "execution_count": 14,
   "metadata": {},
   "outputs": [
    {
     "data": {
      "text/plain": [
       "<function matplotlib.pyplot.show(close=None, block=None)>"
      ]
     },
     "execution_count": 14,
     "metadata": {},
     "output_type": "execute_result"
    },
    {
     "data": {
      "image/png": "[encoded data removed]",
      "text/plain": [
       "<Figure size 432x288 with 1 Axes>"
      ]
     },
     "metadata": {},
     "output_type": "display_data"
    }
   ],
   "source": [
    "sns.kdeplot(df_train['hour_bef_ozone'])\n",
    "plt.title(\"distribution of ozone\")\n",
    "plt.show"
   ]
  },
  {
   "cell_type": "code",
   "execution_count": 15,
   "metadata": {},
   "outputs": [
    {
     "data": {
      "text/plain": [
       "<function matplotlib.pyplot.show(close=None, block=None)>"
      ]
     },
     "execution_count": 15,
     "metadata": {},
     "output_type": "execute_result"
    },
    {
     "data": {
      "image/png": "[encoded data removed]",
      "text/plain": [
       "<Figure size 432x288 with 1 Axes>"
      ]
     },
     "metadata": {},
     "output_type": "display_data"
    }
   ],
   "source": [
    "sns.kdeplot(df_train['hour_bef_temperature'])\n",
    "plt.title(\"distribution of temperature\")\n",
    "plt.show"
   ]
  },
  {
   "cell_type": "code",
   "execution_count": 16,
   "metadata": {},
   "outputs": [
    {
     "data": {
      "text/plain": [
       "<function matplotlib.pyplot.show(close=None, block=None)>"
      ]
     },
     "execution_count": 16,
     "metadata": {},
     "output_type": "execute_result"
    },
    {
     "data": {
      "image/png": "[encoded data removed]",
      "text/plain": [
       "<Figure size 432x288 with 1 Axes>"
      ]
     },
     "metadata": {},
     "output_type": "display_data"
    }
   ],
   "source": [
    "sns.kdeplot(df_train['hour_bef_humidity'])\n",
    "plt.title(\"distribution of humidity\")\n",
    "plt.show"
   ]
  },
  {
   "cell_type": "code",
   "execution_count": 17,
   "metadata": {},
   "outputs": [
    {
     "data": {
      "text/plain": [
       "<function matplotlib.pyplot.show(close=None, block=None)>"
      ]
     },
     "execution_count": 17,
     "metadata": {},
     "output_type": "execute_result"
    },
    {
     "data": {
      "image/png": "[encoded data removed]",
      "text/plain": [
       "<Figure size 432x288 with 1 Axes>"
      ]
     },
     "metadata": {},
     "output_type": "display_data"
    }
   ],
   "source": [
    "sns.kdeplot(df_train['hour_bef_windspeed'])\n",
    "plt.title(\"distribution of windspeed\")\n",
    "plt.show"
   ]
  },
  {
   "cell_type": "code",
   "execution_count": 18,
   "metadata": {},
   "outputs": [
    {
     "data": {
      "text/plain": [
       "<function matplotlib.pyplot.show(close=None, block=None)>"
      ]
     },
     "execution_count": 18,
     "metadata": {},
     "output_type": "execute_result"
    },
    {
     "data": {
      "image/png": "[encoded data removed]",
      "text/plain": [
       "<Figure size 432x288 with 1 Axes>"
      ]
     },
     "metadata": {},
     "output_type": "display_data"
    }
   ],
   "source": [
    "sns.kdeplot(df_train['hour_bef_visibility'])\n",
    "plt.title(\"distribution of visibility\")\n",
    "plt.show"
   ]
  },
  {
   "cell_type": "markdown",
   "metadata": {},
   "source": [
    "## PreProcessing"
   ]
  },
  {
   "cell_type": "markdown",
   "metadata": {},
   "source": [
    "train, test data set 통합하여 다루기"
   ]
  },
  {
   "cell_type": "code",
   "execution_count": 19,
   "metadata": {},
   "outputs": [],
   "source": [
    "df_train_and_test = [df_train, df_test]"
   ]
  },
  {
   "cell_type": "markdown",
   "metadata": {},
   "source": [
    "missing data 채우기"
   ]
  },
  {
   "cell_type": "markdown",
   "metadata": {},
   "source": [
    "temperature, percipitation, humidity, windspeed"
   ]
  },
  {
   "cell_type": "code",
   "execution_count": 20,
   "metadata": {},
   "outputs": [
    {
     "data": {
      "text/html": [
       "<div>\n",
       "<style scoped>\n",
       "    .dataframe tbody tr th:only-of-type {\n",
       "        vertical-align: middle;\n",
       "    }\n",
       "\n",
       "    .dataframe tbody tr th {\n",
       "        vertical-align: top;\n",
       "    }\n",
       "\n",
       "    .dataframe thead th {\n",
       "        text-align: right;\n",
       "    }\n",
       "</style>\n",
       "<table border=\"1\" class=\"dataframe\">\n",
       "  <thead>\n",
       "    <tr style=\"text-align: right;\">\n",
       "      <th></th>\n",
       "      <th>id</th>\n",
       "      <th>hour</th>\n",
       "      <th>hour_bef_temperature</th>\n",
       "      <th>hour_bef_precipitation</th>\n",
       "      <th>hour_bef_windspeed</th>\n",
       "      <th>hour_bef_humidity</th>\n",
       "      <th>hour_bef_visibility</th>\n",
       "      <th>hour_bef_ozone</th>\n",
       "      <th>hour_bef_pm10</th>\n",
       "      <th>hour_bef_pm2.5</th>\n",
       "      <th>count</th>\n",
       "    </tr>\n",
       "  </thead>\n",
       "  <tbody>\n",
       "    <tr>\n",
       "      <th>934</th>\n",
       "      <td>1420</td>\n",
       "      <td>0</td>\n",
       "      <td>NaN</td>\n",
       "      <td>NaN</td>\n",
       "      <td>NaN</td>\n",
       "      <td>NaN</td>\n",
       "      <td>NaN</td>\n",
       "      <td>NaN</td>\n",
       "      <td>NaN</td>\n",
       "      <td>NaN</td>\n",
       "      <td>39.0</td>\n",
       "    </tr>\n",
       "    <tr>\n",
       "      <th>1035</th>\n",
       "      <td>1553</td>\n",
       "      <td>18</td>\n",
       "      <td>NaN</td>\n",
       "      <td>NaN</td>\n",
       "      <td>NaN</td>\n",
       "      <td>NaN</td>\n",
       "      <td>NaN</td>\n",
       "      <td>NaN</td>\n",
       "      <td>NaN</td>\n",
       "      <td>NaN</td>\n",
       "      <td>1.0</td>\n",
       "    </tr>\n",
       "  </tbody>\n",
       "</table>\n",
       "</div>"
      ],
      "text/plain": [
       "        id  hour  hour_bef_temperature  hour_bef_precipitation  \\\n",
       "934   1420     0                   NaN                     NaN   \n",
       "1035  1553    18                   NaN                     NaN   \n",
       "\n",
       "      hour_bef_windspeed  hour_bef_humidity  hour_bef_visibility  \\\n",
       "934                  NaN                NaN                  NaN   \n",
       "1035                 NaN                NaN                  NaN   \n",
       "\n",
       "      hour_bef_ozone  hour_bef_pm10  hour_bef_pm2.5  count  \n",
       "934              NaN            NaN             NaN   39.0  \n",
       "1035             NaN            NaN             NaN    1.0  "
      ]
     },
     "execution_count": 20,
     "metadata": {},
     "output_type": "execute_result"
    }
   ],
   "source": [
    "df_train_and_test[0][df_train_and_test[0]['hour_bef_temperature'].isna()]"
   ]
  },
  {
   "cell_type": "code",
   "execution_count": 21,
   "metadata": {},
   "outputs": [
    {
     "data": {
      "text/html": [
       "<div>\n",
       "<style scoped>\n",
       "    .dataframe tbody tr th:only-of-type {\n",
       "        vertical-align: middle;\n",
       "    }\n",
       "\n",
       "    .dataframe tbody tr th {\n",
       "        vertical-align: top;\n",
       "    }\n",
       "\n",
       "    .dataframe thead th {\n",
       "        text-align: right;\n",
       "    }\n",
       "</style>\n",
       "<table border=\"1\" class=\"dataframe\">\n",
       "  <thead>\n",
       "    <tr style=\"text-align: right;\">\n",
       "      <th></th>\n",
       "      <th>id</th>\n",
       "      <th>hour</th>\n",
       "      <th>hour_bef_temperature</th>\n",
       "      <th>hour_bef_precipitation</th>\n",
       "      <th>hour_bef_windspeed</th>\n",
       "      <th>hour_bef_humidity</th>\n",
       "      <th>hour_bef_visibility</th>\n",
       "      <th>hour_bef_ozone</th>\n",
       "      <th>hour_bef_pm10</th>\n",
       "      <th>hour_bef_pm2.5</th>\n",
       "    </tr>\n",
       "  </thead>\n",
       "  <tbody>\n",
       "    <tr>\n",
       "      <th>653</th>\n",
       "      <td>1943</td>\n",
       "      <td>19</td>\n",
       "      <td>NaN</td>\n",
       "      <td>NaN</td>\n",
       "      <td>NaN</td>\n",
       "      <td>NaN</td>\n",
       "      <td>NaN</td>\n",
       "      <td>NaN</td>\n",
       "      <td>NaN</td>\n",
       "      <td>NaN</td>\n",
       "    </tr>\n",
       "  </tbody>\n",
       "</table>\n",
       "</div>"
      ],
      "text/plain": [
       "       id  hour  hour_bef_temperature  hour_bef_precipitation  \\\n",
       "653  1943    19                   NaN                     NaN   \n",
       "\n",
       "     hour_bef_windspeed  hour_bef_humidity  hour_bef_visibility  \\\n",
       "653                 NaN                NaN                  NaN   \n",
       "\n",
       "     hour_bef_ozone  hour_bef_pm10  hour_bef_pm2.5  \n",
       "653             NaN            NaN             NaN  "
      ]
     },
     "execution_count": 21,
     "metadata": {},
     "output_type": "execute_result"
    }
   ],
   "source": [
    "df_train_and_test[1][df_train_and_test[1]['hour_bef_temperature'].isna()]"
   ]
  },
  {
   "cell_type": "code",
   "execution_count": 22,
   "metadata": {},
   "outputs": [
    {
     "data": {
      "text/html": [
       "<div>\n",
       "<style scoped>\n",
       "    .dataframe tbody tr th:only-of-type {\n",
       "        vertical-align: middle;\n",
       "    }\n",
       "\n",
       "    .dataframe tbody tr th {\n",
       "        vertical-align: top;\n",
       "    }\n",
       "\n",
       "    .dataframe thead th {\n",
       "        text-align: right;\n",
       "    }\n",
       "</style>\n",
       "<table border=\"1\" class=\"dataframe\">\n",
       "  <thead>\n",
       "    <tr style=\"text-align: right;\">\n",
       "      <th></th>\n",
       "      <th>id</th>\n",
       "      <th>hour</th>\n",
       "      <th>hour_bef_temperature</th>\n",
       "      <th>hour_bef_precipitation</th>\n",
       "      <th>hour_bef_windspeed</th>\n",
       "      <th>hour_bef_humidity</th>\n",
       "      <th>hour_bef_visibility</th>\n",
       "      <th>hour_bef_ozone</th>\n",
       "      <th>hour_bef_pm10</th>\n",
       "      <th>hour_bef_pm2.5</th>\n",
       "      <th>count</th>\n",
       "    </tr>\n",
       "  </thead>\n",
       "  <tbody>\n",
       "    <tr>\n",
       "      <th>934</th>\n",
       "      <td>1420</td>\n",
       "      <td>0</td>\n",
       "      <td>NaN</td>\n",
       "      <td>NaN</td>\n",
       "      <td>NaN</td>\n",
       "      <td>NaN</td>\n",
       "      <td>NaN</td>\n",
       "      <td>NaN</td>\n",
       "      <td>NaN</td>\n",
       "      <td>NaN</td>\n",
       "      <td>39.0</td>\n",
       "    </tr>\n",
       "    <tr>\n",
       "      <th>1035</th>\n",
       "      <td>1553</td>\n",
       "      <td>18</td>\n",
       "      <td>NaN</td>\n",
       "      <td>NaN</td>\n",
       "      <td>NaN</td>\n",
       "      <td>NaN</td>\n",
       "      <td>NaN</td>\n",
       "      <td>NaN</td>\n",
       "      <td>NaN</td>\n",
       "      <td>NaN</td>\n",
       "      <td>1.0</td>\n",
       "    </tr>\n",
       "  </tbody>\n",
       "</table>\n",
       "</div>"
      ],
      "text/plain": [
       "        id  hour  hour_bef_temperature  hour_bef_precipitation  \\\n",
       "934   1420     0                   NaN                     NaN   \n",
       "1035  1553    18                   NaN                     NaN   \n",
       "\n",
       "      hour_bef_windspeed  hour_bef_humidity  hour_bef_visibility  \\\n",
       "934                  NaN                NaN                  NaN   \n",
       "1035                 NaN                NaN                  NaN   \n",
       "\n",
       "      hour_bef_ozone  hour_bef_pm10  hour_bef_pm2.5  count  \n",
       "934              NaN            NaN             NaN   39.0  \n",
       "1035             NaN            NaN             NaN    1.0  "
      ]
     },
     "execution_count": 22,
     "metadata": {},
     "output_type": "execute_result"
    }
   ],
   "source": [
    "df_train_and_test[0][df_train_and_test[0]['hour_bef_humidity'].isna()]"
   ]
  },
  {
   "cell_type": "code",
   "execution_count": 23,
   "metadata": {},
   "outputs": [
    {
     "data": {
      "text/html": [
       "<div>\n",
       "<style scoped>\n",
       "    .dataframe tbody tr th:only-of-type {\n",
       "        vertical-align: middle;\n",
       "    }\n",
       "\n",
       "    .dataframe tbody tr th {\n",
       "        vertical-align: top;\n",
       "    }\n",
       "\n",
       "    .dataframe thead th {\n",
       "        text-align: right;\n",
       "    }\n",
       "</style>\n",
       "<table border=\"1\" class=\"dataframe\">\n",
       "  <thead>\n",
       "    <tr style=\"text-align: right;\">\n",
       "      <th></th>\n",
       "      <th>id</th>\n",
       "      <th>hour</th>\n",
       "      <th>hour_bef_temperature</th>\n",
       "      <th>hour_bef_precipitation</th>\n",
       "      <th>hour_bef_windspeed</th>\n",
       "      <th>hour_bef_humidity</th>\n",
       "      <th>hour_bef_visibility</th>\n",
       "      <th>hour_bef_ozone</th>\n",
       "      <th>hour_bef_pm10</th>\n",
       "      <th>hour_bef_pm2.5</th>\n",
       "    </tr>\n",
       "  </thead>\n",
       "  <tbody>\n",
       "    <tr>\n",
       "      <th>653</th>\n",
       "      <td>1943</td>\n",
       "      <td>19</td>\n",
       "      <td>NaN</td>\n",
       "      <td>NaN</td>\n",
       "      <td>NaN</td>\n",
       "      <td>NaN</td>\n",
       "      <td>NaN</td>\n",
       "      <td>NaN</td>\n",
       "      <td>NaN</td>\n",
       "      <td>NaN</td>\n",
       "    </tr>\n",
       "  </tbody>\n",
       "</table>\n",
       "</div>"
      ],
      "text/plain": [
       "       id  hour  hour_bef_temperature  hour_bef_precipitation  \\\n",
       "653  1943    19                   NaN                     NaN   \n",
       "\n",
       "     hour_bef_windspeed  hour_bef_humidity  hour_bef_visibility  \\\n",
       "653                 NaN                NaN                  NaN   \n",
       "\n",
       "     hour_bef_ozone  hour_bef_pm10  hour_bef_pm2.5  \n",
       "653             NaN            NaN             NaN  "
      ]
     },
     "execution_count": 23,
     "metadata": {},
     "output_type": "execute_result"
    }
   ],
   "source": [
    "df_train_and_test[1][df_train_and_test[1]['hour_bef_humidity'].isna()]"
   ]
  },
  {
   "cell_type": "code",
   "execution_count": 24,
   "metadata": {},
   "outputs": [
    {
     "data": {
      "text/html": [
       "<div>\n",
       "<style scoped>\n",
       "    .dataframe tbody tr th:only-of-type {\n",
       "        vertical-align: middle;\n",
       "    }\n",
       "\n",
       "    .dataframe tbody tr th {\n",
       "        vertical-align: top;\n",
       "    }\n",
       "\n",
       "    .dataframe thead th {\n",
       "        text-align: right;\n",
       "    }\n",
       "</style>\n",
       "<table border=\"1\" class=\"dataframe\">\n",
       "  <thead>\n",
       "    <tr style=\"text-align: right;\">\n",
       "      <th></th>\n",
       "      <th>id</th>\n",
       "      <th>hour</th>\n",
       "      <th>hour_bef_temperature</th>\n",
       "      <th>hour_bef_precipitation</th>\n",
       "      <th>hour_bef_windspeed</th>\n",
       "      <th>hour_bef_humidity</th>\n",
       "      <th>hour_bef_visibility</th>\n",
       "      <th>hour_bef_ozone</th>\n",
       "      <th>hour_bef_pm10</th>\n",
       "      <th>hour_bef_pm2.5</th>\n",
       "      <th>count</th>\n",
       "    </tr>\n",
       "  </thead>\n",
       "  <tbody>\n",
       "    <tr>\n",
       "      <th>18</th>\n",
       "      <td>33</td>\n",
       "      <td>13</td>\n",
       "      <td>22.6</td>\n",
       "      <td>0.0</td>\n",
       "      <td>NaN</td>\n",
       "      <td>41.0</td>\n",
       "      <td>987.0</td>\n",
       "      <td>0.046</td>\n",
       "      <td>64.0</td>\n",
       "      <td>39.0</td>\n",
       "      <td>208.0</td>\n",
       "    </tr>\n",
       "    <tr>\n",
       "      <th>244</th>\n",
       "      <td>381</td>\n",
       "      <td>1</td>\n",
       "      <td>14.1</td>\n",
       "      <td>0.0</td>\n",
       "      <td>NaN</td>\n",
       "      <td>55.0</td>\n",
       "      <td>1992.0</td>\n",
       "      <td>NaN</td>\n",
       "      <td>NaN</td>\n",
       "      <td>NaN</td>\n",
       "      <td>38.0</td>\n",
       "    </tr>\n",
       "    <tr>\n",
       "      <th>260</th>\n",
       "      <td>404</td>\n",
       "      <td>3</td>\n",
       "      <td>14.0</td>\n",
       "      <td>0.0</td>\n",
       "      <td>NaN</td>\n",
       "      <td>50.0</td>\n",
       "      <td>2000.0</td>\n",
       "      <td>0.049</td>\n",
       "      <td>35.0</td>\n",
       "      <td>22.0</td>\n",
       "      <td>17.0</td>\n",
       "    </tr>\n",
       "    <tr>\n",
       "      <th>376</th>\n",
       "      <td>570</td>\n",
       "      <td>0</td>\n",
       "      <td>14.3</td>\n",
       "      <td>0.0</td>\n",
       "      <td>NaN</td>\n",
       "      <td>49.0</td>\n",
       "      <td>2000.0</td>\n",
       "      <td>0.044</td>\n",
       "      <td>37.0</td>\n",
       "      <td>20.0</td>\n",
       "      <td>58.0</td>\n",
       "    </tr>\n",
       "    <tr>\n",
       "      <th>780</th>\n",
       "      <td>1196</td>\n",
       "      <td>20</td>\n",
       "      <td>16.5</td>\n",
       "      <td>0.0</td>\n",
       "      <td>NaN</td>\n",
       "      <td>31.0</td>\n",
       "      <td>2000.0</td>\n",
       "      <td>0.058</td>\n",
       "      <td>39.0</td>\n",
       "      <td>18.0</td>\n",
       "      <td>181.0</td>\n",
       "    </tr>\n",
       "    <tr>\n",
       "      <th>934</th>\n",
       "      <td>1420</td>\n",
       "      <td>0</td>\n",
       "      <td>NaN</td>\n",
       "      <td>NaN</td>\n",
       "      <td>NaN</td>\n",
       "      <td>NaN</td>\n",
       "      <td>NaN</td>\n",
       "      <td>NaN</td>\n",
       "      <td>NaN</td>\n",
       "      <td>NaN</td>\n",
       "      <td>39.0</td>\n",
       "    </tr>\n",
       "    <tr>\n",
       "      <th>1035</th>\n",
       "      <td>1553</td>\n",
       "      <td>18</td>\n",
       "      <td>NaN</td>\n",
       "      <td>NaN</td>\n",
       "      <td>NaN</td>\n",
       "      <td>NaN</td>\n",
       "      <td>NaN</td>\n",
       "      <td>NaN</td>\n",
       "      <td>NaN</td>\n",
       "      <td>NaN</td>\n",
       "      <td>1.0</td>\n",
       "    </tr>\n",
       "    <tr>\n",
       "      <th>1138</th>\n",
       "      <td>1717</td>\n",
       "      <td>12</td>\n",
       "      <td>21.4</td>\n",
       "      <td>0.0</td>\n",
       "      <td>NaN</td>\n",
       "      <td>44.0</td>\n",
       "      <td>1375.0</td>\n",
       "      <td>0.044</td>\n",
       "      <td>61.0</td>\n",
       "      <td>37.0</td>\n",
       "      <td>116.0</td>\n",
       "    </tr>\n",
       "    <tr>\n",
       "      <th>1229</th>\n",
       "      <td>1855</td>\n",
       "      <td>2</td>\n",
       "      <td>14.0</td>\n",
       "      <td>0.0</td>\n",
       "      <td>NaN</td>\n",
       "      <td>52.0</td>\n",
       "      <td>2000.0</td>\n",
       "      <td>0.044</td>\n",
       "      <td>37.0</td>\n",
       "      <td>20.0</td>\n",
       "      <td>20.0</td>\n",
       "    </tr>\n",
       "  </tbody>\n",
       "</table>\n",
       "</div>"
      ],
      "text/plain": [
       "        id  hour  hour_bef_temperature  hour_bef_precipitation  \\\n",
       "18      33    13                  22.6                     0.0   \n",
       "244    381     1                  14.1                     0.0   \n",
       "260    404     3                  14.0                     0.0   \n",
       "376    570     0                  14.3                     0.0   \n",
       "780   1196    20                  16.5                     0.0   \n",
       "934   1420     0                   NaN                     NaN   \n",
       "1035  1553    18                   NaN                     NaN   \n",
       "1138  1717    12                  21.4                     0.0   \n",
       "1229  1855     2                  14.0                     0.0   \n",
       "\n",
       "      hour_bef_windspeed  hour_bef_humidity  hour_bef_visibility  \\\n",
       "18                   NaN               41.0                987.0   \n",
       "244                  NaN               55.0               1992.0   \n",
       "260                  NaN               50.0               2000.0   \n",
       "376                  NaN               49.0               2000.0   \n",
       "780                  NaN               31.0               2000.0   \n",
       "934                  NaN                NaN                  NaN   \n",
       "1035                 NaN                NaN                  NaN   \n",
       "1138                 NaN               44.0               1375.0   \n",
       "1229                 NaN               52.0               2000.0   \n",
       "\n",
       "      hour_bef_ozone  hour_bef_pm10  hour_bef_pm2.5  count  \n",
       "18             0.046           64.0            39.0  208.0  \n",
       "244              NaN            NaN             NaN   38.0  \n",
       "260            0.049           35.0            22.0   17.0  \n",
       "376            0.044           37.0            20.0   58.0  \n",
       "780            0.058           39.0            18.0  181.0  \n",
       "934              NaN            NaN             NaN   39.0  \n",
       "1035             NaN            NaN             NaN    1.0  \n",
       "1138           0.044           61.0            37.0  116.0  \n",
       "1229           0.044           37.0            20.0   20.0  "
      ]
     },
     "execution_count": 24,
     "metadata": {},
     "output_type": "execute_result"
    }
   ],
   "source": [
    "df_train_and_test[0][df_train_and_test[0]['hour_bef_windspeed'].isna()]"
   ]
  },
  {
   "cell_type": "code",
   "execution_count": 25,
   "metadata": {},
   "outputs": [
    {
     "data": {
      "text/html": [
       "<div>\n",
       "<style scoped>\n",
       "    .dataframe tbody tr th:only-of-type {\n",
       "        vertical-align: middle;\n",
       "    }\n",
       "\n",
       "    .dataframe tbody tr th {\n",
       "        vertical-align: top;\n",
       "    }\n",
       "\n",
       "    .dataframe thead th {\n",
       "        text-align: right;\n",
       "    }\n",
       "</style>\n",
       "<table border=\"1\" class=\"dataframe\">\n",
       "  <thead>\n",
       "    <tr style=\"text-align: right;\">\n",
       "      <th></th>\n",
       "      <th>id</th>\n",
       "      <th>hour</th>\n",
       "      <th>hour_bef_temperature</th>\n",
       "      <th>hour_bef_precipitation</th>\n",
       "      <th>hour_bef_windspeed</th>\n",
       "      <th>hour_bef_humidity</th>\n",
       "      <th>hour_bef_visibility</th>\n",
       "      <th>hour_bef_ozone</th>\n",
       "      <th>hour_bef_pm10</th>\n",
       "      <th>hour_bef_pm2.5</th>\n",
       "    </tr>\n",
       "  </thead>\n",
       "  <tbody>\n",
       "    <tr>\n",
       "      <th>653</th>\n",
       "      <td>1943</td>\n",
       "      <td>19</td>\n",
       "      <td>NaN</td>\n",
       "      <td>NaN</td>\n",
       "      <td>NaN</td>\n",
       "      <td>NaN</td>\n",
       "      <td>NaN</td>\n",
       "      <td>NaN</td>\n",
       "      <td>NaN</td>\n",
       "      <td>NaN</td>\n",
       "    </tr>\n",
       "  </tbody>\n",
       "</table>\n",
       "</div>"
      ],
      "text/plain": [
       "       id  hour  hour_bef_temperature  hour_bef_precipitation  \\\n",
       "653  1943    19                   NaN                     NaN   \n",
       "\n",
       "     hour_bef_windspeed  hour_bef_humidity  hour_bef_visibility  \\\n",
       "653                 NaN                NaN                  NaN   \n",
       "\n",
       "     hour_bef_ozone  hour_bef_pm10  hour_bef_pm2.5  \n",
       "653             NaN            NaN             NaN  "
      ]
     },
     "execution_count": 25,
     "metadata": {},
     "output_type": "execute_result"
    }
   ],
   "source": [
    "df_train_and_test[1][df_train_and_test[1]['hour_bef_windspeed'].isna()]"
   ]
  },
  {
   "cell_type": "code",
   "execution_count": 26,
   "metadata": {},
   "outputs": [
    {
     "data": {
      "text/html": [
       "<div>\n",
       "<style scoped>\n",
       "    .dataframe tbody tr th:only-of-type {\n",
       "        vertical-align: middle;\n",
       "    }\n",
       "\n",
       "    .dataframe tbody tr th {\n",
       "        vertical-align: top;\n",
       "    }\n",
       "\n",
       "    .dataframe thead th {\n",
       "        text-align: right;\n",
       "    }\n",
       "</style>\n",
       "<table border=\"1\" class=\"dataframe\">\n",
       "  <thead>\n",
       "    <tr style=\"text-align: right;\">\n",
       "      <th></th>\n",
       "      <th>id</th>\n",
       "      <th>hour</th>\n",
       "      <th>hour_bef_temperature</th>\n",
       "      <th>hour_bef_precipitation</th>\n",
       "      <th>hour_bef_windspeed</th>\n",
       "      <th>hour_bef_humidity</th>\n",
       "      <th>hour_bef_visibility</th>\n",
       "      <th>hour_bef_ozone</th>\n",
       "      <th>hour_bef_pm10</th>\n",
       "      <th>hour_bef_pm2.5</th>\n",
       "      <th>count</th>\n",
       "    </tr>\n",
       "  </thead>\n",
       "  <tbody>\n",
       "    <tr>\n",
       "      <th>14</th>\n",
       "      <td>28</td>\n",
       "      <td>1</td>\n",
       "      <td>20.0</td>\n",
       "      <td>0.0</td>\n",
       "      <td>1.8</td>\n",
       "      <td>58.0</td>\n",
       "      <td>2000.0</td>\n",
       "      <td>NaN</td>\n",
       "      <td>NaN</td>\n",
       "      <td>NaN</td>\n",
       "      <td>74.0</td>\n",
       "    </tr>\n",
       "    <tr>\n",
       "      <th>44</th>\n",
       "      <td>76</td>\n",
       "      <td>17</td>\n",
       "      <td>21.7</td>\n",
       "      <td>0.0</td>\n",
       "      <td>3.0</td>\n",
       "      <td>35.0</td>\n",
       "      <td>2000.0</td>\n",
       "      <td>NaN</td>\n",
       "      <td>32.0</td>\n",
       "      <td>19.0</td>\n",
       "      <td>213.0</td>\n",
       "    </tr>\n",
       "    <tr>\n",
       "      <th>46</th>\n",
       "      <td>78</td>\n",
       "      <td>1</td>\n",
       "      <td>12.2</td>\n",
       "      <td>0.0</td>\n",
       "      <td>3.0</td>\n",
       "      <td>49.0</td>\n",
       "      <td>1071.0</td>\n",
       "      <td>NaN</td>\n",
       "      <td>NaN</td>\n",
       "      <td>NaN</td>\n",
       "      <td>36.0</td>\n",
       "    </tr>\n",
       "    <tr>\n",
       "      <th>84</th>\n",
       "      <td>130</td>\n",
       "      <td>1</td>\n",
       "      <td>9.4</td>\n",
       "      <td>0.0</td>\n",
       "      <td>2.5</td>\n",
       "      <td>65.0</td>\n",
       "      <td>1907.0</td>\n",
       "      <td>NaN</td>\n",
       "      <td>NaN</td>\n",
       "      <td>NaN</td>\n",
       "      <td>39.0</td>\n",
       "    </tr>\n",
       "    <tr>\n",
       "      <th>122</th>\n",
       "      <td>181</td>\n",
       "      <td>16</td>\n",
       "      <td>26.2</td>\n",
       "      <td>0.0</td>\n",
       "      <td>4.3</td>\n",
       "      <td>31.0</td>\n",
       "      <td>1718.0</td>\n",
       "      <td>NaN</td>\n",
       "      <td>47.0</td>\n",
       "      <td>23.0</td>\n",
       "      <td>136.0</td>\n",
       "    </tr>\n",
       "    <tr>\n",
       "      <th>...</th>\n",
       "      <td>...</td>\n",
       "      <td>...</td>\n",
       "      <td>...</td>\n",
       "      <td>...</td>\n",
       "      <td>...</td>\n",
       "      <td>...</td>\n",
       "      <td>...</td>\n",
       "      <td>...</td>\n",
       "      <td>...</td>\n",
       "      <td>...</td>\n",
       "      <td>...</td>\n",
       "    </tr>\n",
       "    <tr>\n",
       "      <th>1283</th>\n",
       "      <td>1941</td>\n",
       "      <td>1</td>\n",
       "      <td>16.6</td>\n",
       "      <td>0.0</td>\n",
       "      <td>2.1</td>\n",
       "      <td>35.0</td>\n",
       "      <td>2000.0</td>\n",
       "      <td>NaN</td>\n",
       "      <td>NaN</td>\n",
       "      <td>NaN</td>\n",
       "      <td>62.0</td>\n",
       "    </tr>\n",
       "    <tr>\n",
       "      <th>1322</th>\n",
       "      <td>1994</td>\n",
       "      <td>1</td>\n",
       "      <td>15.1</td>\n",
       "      <td>0.0</td>\n",
       "      <td>1.3</td>\n",
       "      <td>35.0</td>\n",
       "      <td>2000.0</td>\n",
       "      <td>NaN</td>\n",
       "      <td>NaN</td>\n",
       "      <td>NaN</td>\n",
       "      <td>40.0</td>\n",
       "    </tr>\n",
       "    <tr>\n",
       "      <th>1329</th>\n",
       "      <td>2005</td>\n",
       "      <td>1</td>\n",
       "      <td>17.7</td>\n",
       "      <td>0.0</td>\n",
       "      <td>1.0</td>\n",
       "      <td>43.0</td>\n",
       "      <td>1338.0</td>\n",
       "      <td>NaN</td>\n",
       "      <td>NaN</td>\n",
       "      <td>NaN</td>\n",
       "      <td>69.0</td>\n",
       "    </tr>\n",
       "    <tr>\n",
       "      <th>1361</th>\n",
       "      <td>2047</td>\n",
       "      <td>1</td>\n",
       "      <td>12.6</td>\n",
       "      <td>0.0</td>\n",
       "      <td>2.4</td>\n",
       "      <td>48.0</td>\n",
       "      <td>1805.0</td>\n",
       "      <td>NaN</td>\n",
       "      <td>NaN</td>\n",
       "      <td>NaN</td>\n",
       "      <td>43.0</td>\n",
       "    </tr>\n",
       "    <tr>\n",
       "      <th>1391</th>\n",
       "      <td>2086</td>\n",
       "      <td>1</td>\n",
       "      <td>11.5</td>\n",
       "      <td>0.0</td>\n",
       "      <td>3.2</td>\n",
       "      <td>23.0</td>\n",
       "      <td>2000.0</td>\n",
       "      <td>NaN</td>\n",
       "      <td>NaN</td>\n",
       "      <td>NaN</td>\n",
       "      <td>42.0</td>\n",
       "    </tr>\n",
       "  </tbody>\n",
       "</table>\n",
       "<p>76 rows × 11 columns</p>\n",
       "</div>"
      ],
      "text/plain": [
       "        id  hour  hour_bef_temperature  hour_bef_precipitation  \\\n",
       "14      28     1                  20.0                     0.0   \n",
       "44      76    17                  21.7                     0.0   \n",
       "46      78     1                  12.2                     0.0   \n",
       "84     130     1                   9.4                     0.0   \n",
       "122    181    16                  26.2                     0.0   \n",
       "...    ...   ...                   ...                     ...   \n",
       "1283  1941     1                  16.6                     0.0   \n",
       "1322  1994     1                  15.1                     0.0   \n",
       "1329  2005     1                  17.7                     0.0   \n",
       "1361  2047     1                  12.6                     0.0   \n",
       "1391  2086     1                  11.5                     0.0   \n",
       "\n",
       "      hour_bef_windspeed  hour_bef_humidity  hour_bef_visibility  \\\n",
       "14                   1.8               58.0               2000.0   \n",
       "44                   3.0               35.0               2000.0   \n",
       "46                   3.0               49.0               1071.0   \n",
       "84                   2.5               65.0               1907.0   \n",
       "122                  4.3               31.0               1718.0   \n",
       "...                  ...                ...                  ...   \n",
       "1283                 2.1               35.0               2000.0   \n",
       "1322                 1.3               35.0               2000.0   \n",
       "1329                 1.0               43.0               1338.0   \n",
       "1361                 2.4               48.0               1805.0   \n",
       "1391                 3.2               23.0               2000.0   \n",
       "\n",
       "      hour_bef_ozone  hour_bef_pm10  hour_bef_pm2.5  count  \n",
       "14               NaN            NaN             NaN   74.0  \n",
       "44               NaN           32.0            19.0  213.0  \n",
       "46               NaN            NaN             NaN   36.0  \n",
       "84               NaN            NaN             NaN   39.0  \n",
       "122              NaN           47.0            23.0  136.0  \n",
       "...              ...            ...             ...    ...  \n",
       "1283             NaN            NaN             NaN   62.0  \n",
       "1322             NaN            NaN             NaN   40.0  \n",
       "1329             NaN            NaN             NaN   69.0  \n",
       "1361             NaN            NaN             NaN   43.0  \n",
       "1391             NaN            NaN             NaN   42.0  \n",
       "\n",
       "[76 rows x 11 columns]"
      ]
     },
     "execution_count": 26,
     "metadata": {},
     "output_type": "execute_result"
    }
   ],
   "source": [
    "df_train_and_test[0][df_train_and_test[0]['hour_bef_ozone'].isna()]"
   ]
  },
  {
   "cell_type": "code",
   "execution_count": 27,
   "metadata": {},
   "outputs": [
    {
     "data": {
      "text/html": [
       "<div>\n",
       "<style scoped>\n",
       "    .dataframe tbody tr th:only-of-type {\n",
       "        vertical-align: middle;\n",
       "    }\n",
       "\n",
       "    .dataframe tbody tr th {\n",
       "        vertical-align: top;\n",
       "    }\n",
       "\n",
       "    .dataframe thead th {\n",
       "        text-align: right;\n",
       "    }\n",
       "</style>\n",
       "<table border=\"1\" class=\"dataframe\">\n",
       "  <thead>\n",
       "    <tr style=\"text-align: right;\">\n",
       "      <th></th>\n",
       "      <th>id</th>\n",
       "      <th>hour</th>\n",
       "      <th>hour_bef_temperature</th>\n",
       "      <th>hour_bef_precipitation</th>\n",
       "      <th>hour_bef_windspeed</th>\n",
       "      <th>hour_bef_humidity</th>\n",
       "      <th>hour_bef_visibility</th>\n",
       "      <th>hour_bef_ozone</th>\n",
       "      <th>hour_bef_pm10</th>\n",
       "      <th>hour_bef_pm2.5</th>\n",
       "    </tr>\n",
       "  </thead>\n",
       "  <tbody>\n",
       "    <tr>\n",
       "      <th>32</th>\n",
       "      <td>82</td>\n",
       "      <td>1</td>\n",
       "      <td>22.8</td>\n",
       "      <td>0.0</td>\n",
       "      <td>2.4</td>\n",
       "      <td>52.0</td>\n",
       "      <td>2000.0</td>\n",
       "      <td>NaN</td>\n",
       "      <td>NaN</td>\n",
       "      <td>NaN</td>\n",
       "    </tr>\n",
       "    <tr>\n",
       "      <th>40</th>\n",
       "      <td>115</td>\n",
       "      <td>1</td>\n",
       "      <td>21.5</td>\n",
       "      <td>1.0</td>\n",
       "      <td>0.5</td>\n",
       "      <td>90.0</td>\n",
       "      <td>347.0</td>\n",
       "      <td>NaN</td>\n",
       "      <td>NaN</td>\n",
       "      <td>NaN</td>\n",
       "    </tr>\n",
       "    <tr>\n",
       "      <th>47</th>\n",
       "      <td>147</td>\n",
       "      <td>1</td>\n",
       "      <td>22.8</td>\n",
       "      <td>0.0</td>\n",
       "      <td>1.2</td>\n",
       "      <td>57.0</td>\n",
       "      <td>1190.0</td>\n",
       "      <td>NaN</td>\n",
       "      <td>NaN</td>\n",
       "      <td>NaN</td>\n",
       "    </tr>\n",
       "    <tr>\n",
       "      <th>86</th>\n",
       "      <td>260</td>\n",
       "      <td>1</td>\n",
       "      <td>20.0</td>\n",
       "      <td>0.0</td>\n",
       "      <td>2.0</td>\n",
       "      <td>65.0</td>\n",
       "      <td>1662.0</td>\n",
       "      <td>NaN</td>\n",
       "      <td>NaN</td>\n",
       "      <td>NaN</td>\n",
       "    </tr>\n",
       "    <tr>\n",
       "      <th>92</th>\n",
       "      <td>270</td>\n",
       "      <td>1</td>\n",
       "      <td>20.0</td>\n",
       "      <td>0.0</td>\n",
       "      <td>1.7</td>\n",
       "      <td>31.0</td>\n",
       "      <td>2000.0</td>\n",
       "      <td>NaN</td>\n",
       "      <td>NaN</td>\n",
       "      <td>NaN</td>\n",
       "    </tr>\n",
       "    <tr>\n",
       "      <th>102</th>\n",
       "      <td>297</td>\n",
       "      <td>1</td>\n",
       "      <td>15.1</td>\n",
       "      <td>1.0</td>\n",
       "      <td>2.2</td>\n",
       "      <td>98.0</td>\n",
       "      <td>224.0</td>\n",
       "      <td>NaN</td>\n",
       "      <td>NaN</td>\n",
       "      <td>NaN</td>\n",
       "    </tr>\n",
       "    <tr>\n",
       "      <th>114</th>\n",
       "      <td>323</td>\n",
       "      <td>1</td>\n",
       "      <td>18.7</td>\n",
       "      <td>0.0</td>\n",
       "      <td>1.4</td>\n",
       "      <td>41.0</td>\n",
       "      <td>2000.0</td>\n",
       "      <td>NaN</td>\n",
       "      <td>NaN</td>\n",
       "      <td>NaN</td>\n",
       "    </tr>\n",
       "    <tr>\n",
       "      <th>126</th>\n",
       "      <td>352</td>\n",
       "      <td>1</td>\n",
       "      <td>19.2</td>\n",
       "      <td>0.0</td>\n",
       "      <td>1.4</td>\n",
       "      <td>80.0</td>\n",
       "      <td>1085.0</td>\n",
       "      <td>NaN</td>\n",
       "      <td>NaN</td>\n",
       "      <td>NaN</td>\n",
       "    </tr>\n",
       "    <tr>\n",
       "      <th>129</th>\n",
       "      <td>358</td>\n",
       "      <td>1</td>\n",
       "      <td>23.6</td>\n",
       "      <td>0.0</td>\n",
       "      <td>0.9</td>\n",
       "      <td>83.0</td>\n",
       "      <td>466.0</td>\n",
       "      <td>NaN</td>\n",
       "      <td>NaN</td>\n",
       "      <td>NaN</td>\n",
       "    </tr>\n",
       "    <tr>\n",
       "      <th>209</th>\n",
       "      <td>609</td>\n",
       "      <td>1</td>\n",
       "      <td>18.6</td>\n",
       "      <td>0.0</td>\n",
       "      <td>2.4</td>\n",
       "      <td>37.0</td>\n",
       "      <td>2000.0</td>\n",
       "      <td>NaN</td>\n",
       "      <td>NaN</td>\n",
       "      <td>NaN</td>\n",
       "    </tr>\n",
       "    <tr>\n",
       "      <th>212</th>\n",
       "      <td>614</td>\n",
       "      <td>15</td>\n",
       "      <td>25.2</td>\n",
       "      <td>0.0</td>\n",
       "      <td>3.7</td>\n",
       "      <td>50.0</td>\n",
       "      <td>1719.0</td>\n",
       "      <td>NaN</td>\n",
       "      <td>32.0</td>\n",
       "      <td>21.0</td>\n",
       "    </tr>\n",
       "    <tr>\n",
       "      <th>223</th>\n",
       "      <td>643</td>\n",
       "      <td>1</td>\n",
       "      <td>16.8</td>\n",
       "      <td>0.0</td>\n",
       "      <td>3.6</td>\n",
       "      <td>83.0</td>\n",
       "      <td>1839.0</td>\n",
       "      <td>NaN</td>\n",
       "      <td>NaN</td>\n",
       "      <td>NaN</td>\n",
       "    </tr>\n",
       "    <tr>\n",
       "      <th>272</th>\n",
       "      <td>781</td>\n",
       "      <td>1</td>\n",
       "      <td>20.1</td>\n",
       "      <td>0.0</td>\n",
       "      <td>3.1</td>\n",
       "      <td>81.0</td>\n",
       "      <td>266.0</td>\n",
       "      <td>NaN</td>\n",
       "      <td>NaN</td>\n",
       "      <td>NaN</td>\n",
       "    </tr>\n",
       "    <tr>\n",
       "      <th>307</th>\n",
       "      <td>890</td>\n",
       "      <td>1</td>\n",
       "      <td>20.9</td>\n",
       "      <td>0.0</td>\n",
       "      <td>0.4</td>\n",
       "      <td>73.0</td>\n",
       "      <td>1218.0</td>\n",
       "      <td>NaN</td>\n",
       "      <td>NaN</td>\n",
       "      <td>NaN</td>\n",
       "    </tr>\n",
       "    <tr>\n",
       "      <th>353</th>\n",
       "      <td>1034</td>\n",
       "      <td>1</td>\n",
       "      <td>23.7</td>\n",
       "      <td>0.0</td>\n",
       "      <td>2.0</td>\n",
       "      <td>78.0</td>\n",
       "      <td>332.0</td>\n",
       "      <td>NaN</td>\n",
       "      <td>NaN</td>\n",
       "      <td>NaN</td>\n",
       "    </tr>\n",
       "    <tr>\n",
       "      <th>355</th>\n",
       "      <td>1040</td>\n",
       "      <td>1</td>\n",
       "      <td>24.7</td>\n",
       "      <td>0.0</td>\n",
       "      <td>1.7</td>\n",
       "      <td>48.0</td>\n",
       "      <td>1864.0</td>\n",
       "      <td>NaN</td>\n",
       "      <td>NaN</td>\n",
       "      <td>NaN</td>\n",
       "    </tr>\n",
       "    <tr>\n",
       "      <th>360</th>\n",
       "      <td>1050</td>\n",
       "      <td>1</td>\n",
       "      <td>19.5</td>\n",
       "      <td>0.0</td>\n",
       "      <td>2.6</td>\n",
       "      <td>42.0</td>\n",
       "      <td>2000.0</td>\n",
       "      <td>NaN</td>\n",
       "      <td>NaN</td>\n",
       "      <td>NaN</td>\n",
       "    </tr>\n",
       "    <tr>\n",
       "      <th>386</th>\n",
       "      <td>1122</td>\n",
       "      <td>14</td>\n",
       "      <td>25.2</td>\n",
       "      <td>0.0</td>\n",
       "      <td>4.2</td>\n",
       "      <td>48.0</td>\n",
       "      <td>1809.0</td>\n",
       "      <td>NaN</td>\n",
       "      <td>29.0</td>\n",
       "      <td>13.0</td>\n",
       "    </tr>\n",
       "    <tr>\n",
       "      <th>393</th>\n",
       "      <td>1143</td>\n",
       "      <td>1</td>\n",
       "      <td>21.7</td>\n",
       "      <td>0.0</td>\n",
       "      <td>2.8</td>\n",
       "      <td>77.0</td>\n",
       "      <td>1829.0</td>\n",
       "      <td>NaN</td>\n",
       "      <td>NaN</td>\n",
       "      <td>NaN</td>\n",
       "    </tr>\n",
       "    <tr>\n",
       "      <th>418</th>\n",
       "      <td>1236</td>\n",
       "      <td>1</td>\n",
       "      <td>21.6</td>\n",
       "      <td>0.0</td>\n",
       "      <td>2.6</td>\n",
       "      <td>81.0</td>\n",
       "      <td>1340.0</td>\n",
       "      <td>NaN</td>\n",
       "      <td>NaN</td>\n",
       "      <td>NaN</td>\n",
       "    </tr>\n",
       "    <tr>\n",
       "      <th>419</th>\n",
       "      <td>1237</td>\n",
       "      <td>1</td>\n",
       "      <td>18.8</td>\n",
       "      <td>0.0</td>\n",
       "      <td>0.9</td>\n",
       "      <td>72.0</td>\n",
       "      <td>503.0</td>\n",
       "      <td>NaN</td>\n",
       "      <td>NaN</td>\n",
       "      <td>NaN</td>\n",
       "    </tr>\n",
       "    <tr>\n",
       "      <th>458</th>\n",
       "      <td>1356</td>\n",
       "      <td>1</td>\n",
       "      <td>23.2</td>\n",
       "      <td>0.0</td>\n",
       "      <td>1.5</td>\n",
       "      <td>65.0</td>\n",
       "      <td>1734.0</td>\n",
       "      <td>NaN</td>\n",
       "      <td>NaN</td>\n",
       "      <td>NaN</td>\n",
       "    </tr>\n",
       "    <tr>\n",
       "      <th>471</th>\n",
       "      <td>1395</td>\n",
       "      <td>1</td>\n",
       "      <td>21.4</td>\n",
       "      <td>0.0</td>\n",
       "      <td>1.8</td>\n",
       "      <td>74.0</td>\n",
       "      <td>1300.0</td>\n",
       "      <td>NaN</td>\n",
       "      <td>NaN</td>\n",
       "      <td>NaN</td>\n",
       "    </tr>\n",
       "    <tr>\n",
       "      <th>492</th>\n",
       "      <td>1462</td>\n",
       "      <td>1</td>\n",
       "      <td>20.9</td>\n",
       "      <td>0.0</td>\n",
       "      <td>2.5</td>\n",
       "      <td>41.0</td>\n",
       "      <td>2000.0</td>\n",
       "      <td>NaN</td>\n",
       "      <td>NaN</td>\n",
       "      <td>NaN</td>\n",
       "    </tr>\n",
       "    <tr>\n",
       "      <th>502</th>\n",
       "      <td>1512</td>\n",
       "      <td>1</td>\n",
       "      <td>21.4</td>\n",
       "      <td>0.0</td>\n",
       "      <td>1.1</td>\n",
       "      <td>73.0</td>\n",
       "      <td>713.0</td>\n",
       "      <td>NaN</td>\n",
       "      <td>NaN</td>\n",
       "      <td>NaN</td>\n",
       "    </tr>\n",
       "    <tr>\n",
       "      <th>523</th>\n",
       "      <td>1574</td>\n",
       "      <td>1</td>\n",
       "      <td>19.5</td>\n",
       "      <td>0.0</td>\n",
       "      <td>2.6</td>\n",
       "      <td>77.0</td>\n",
       "      <td>769.0</td>\n",
       "      <td>NaN</td>\n",
       "      <td>NaN</td>\n",
       "      <td>NaN</td>\n",
       "    </tr>\n",
       "    <tr>\n",
       "      <th>620</th>\n",
       "      <td>1857</td>\n",
       "      <td>1</td>\n",
       "      <td>21.2</td>\n",
       "      <td>0.0</td>\n",
       "      <td>1.6</td>\n",
       "      <td>68.0</td>\n",
       "      <td>839.0</td>\n",
       "      <td>NaN</td>\n",
       "      <td>NaN</td>\n",
       "      <td>NaN</td>\n",
       "    </tr>\n",
       "    <tr>\n",
       "      <th>626</th>\n",
       "      <td>1871</td>\n",
       "      <td>1</td>\n",
       "      <td>22.9</td>\n",
       "      <td>0.0</td>\n",
       "      <td>2.6</td>\n",
       "      <td>38.0</td>\n",
       "      <td>2000.0</td>\n",
       "      <td>NaN</td>\n",
       "      <td>NaN</td>\n",
       "      <td>NaN</td>\n",
       "    </tr>\n",
       "    <tr>\n",
       "      <th>637</th>\n",
       "      <td>1898</td>\n",
       "      <td>13</td>\n",
       "      <td>25.8</td>\n",
       "      <td>0.0</td>\n",
       "      <td>3.1</td>\n",
       "      <td>60.0</td>\n",
       "      <td>1549.0</td>\n",
       "      <td>NaN</td>\n",
       "      <td>21.0</td>\n",
       "      <td>15.0</td>\n",
       "    </tr>\n",
       "    <tr>\n",
       "      <th>642</th>\n",
       "      <td>1913</td>\n",
       "      <td>1</td>\n",
       "      <td>24.6</td>\n",
       "      <td>0.0</td>\n",
       "      <td>0.6</td>\n",
       "      <td>55.0</td>\n",
       "      <td>2000.0</td>\n",
       "      <td>NaN</td>\n",
       "      <td>NaN</td>\n",
       "      <td>NaN</td>\n",
       "    </tr>\n",
       "    <tr>\n",
       "      <th>653</th>\n",
       "      <td>1943</td>\n",
       "      <td>19</td>\n",
       "      <td>NaN</td>\n",
       "      <td>NaN</td>\n",
       "      <td>NaN</td>\n",
       "      <td>NaN</td>\n",
       "      <td>NaN</td>\n",
       "      <td>NaN</td>\n",
       "      <td>NaN</td>\n",
       "      <td>NaN</td>\n",
       "    </tr>\n",
       "    <tr>\n",
       "      <th>658</th>\n",
       "      <td>1959</td>\n",
       "      <td>14</td>\n",
       "      <td>28.2</td>\n",
       "      <td>0.0</td>\n",
       "      <td>1.8</td>\n",
       "      <td>51.0</td>\n",
       "      <td>1814.0</td>\n",
       "      <td>NaN</td>\n",
       "      <td>25.0</td>\n",
       "      <td>18.0</td>\n",
       "    </tr>\n",
       "    <tr>\n",
       "      <th>694</th>\n",
       "      <td>2104</td>\n",
       "      <td>1</td>\n",
       "      <td>21.7</td>\n",
       "      <td>0.0</td>\n",
       "      <td>1.7</td>\n",
       "      <td>75.0</td>\n",
       "      <td>957.0</td>\n",
       "      <td>NaN</td>\n",
       "      <td>NaN</td>\n",
       "      <td>NaN</td>\n",
       "    </tr>\n",
       "    <tr>\n",
       "      <th>710</th>\n",
       "      <td>2148</td>\n",
       "      <td>1</td>\n",
       "      <td>24.6</td>\n",
       "      <td>0.0</td>\n",
       "      <td>2.4</td>\n",
       "      <td>60.0</td>\n",
       "      <td>1745.0</td>\n",
       "      <td>NaN</td>\n",
       "      <td>NaN</td>\n",
       "      <td>NaN</td>\n",
       "    </tr>\n",
       "    <tr>\n",
       "      <th>711</th>\n",
       "      <td>2149</td>\n",
       "      <td>1</td>\n",
       "      <td>18.1</td>\n",
       "      <td>0.0</td>\n",
       "      <td>1.0</td>\n",
       "      <td>55.0</td>\n",
       "      <td>2000.0</td>\n",
       "      <td>NaN</td>\n",
       "      <td>NaN</td>\n",
       "      <td>NaN</td>\n",
       "    </tr>\n",
       "  </tbody>\n",
       "</table>\n",
       "</div>"
      ],
      "text/plain": [
       "       id  hour  hour_bef_temperature  hour_bef_precipitation  \\\n",
       "32     82     1                  22.8                     0.0   \n",
       "40    115     1                  21.5                     1.0   \n",
       "47    147     1                  22.8                     0.0   \n",
       "86    260     1                  20.0                     0.0   \n",
       "92    270     1                  20.0                     0.0   \n",
       "102   297     1                  15.1                     1.0   \n",
       "114   323     1                  18.7                     0.0   \n",
       "126   352     1                  19.2                     0.0   \n",
       "129   358     1                  23.6                     0.0   \n",
       "209   609     1                  18.6                     0.0   \n",
       "212   614    15                  25.2                     0.0   \n",
       "223   643     1                  16.8                     0.0   \n",
       "272   781     1                  20.1                     0.0   \n",
       "307   890     1                  20.9                     0.0   \n",
       "353  1034     1                  23.7                     0.0   \n",
       "355  1040     1                  24.7                     0.0   \n",
       "360  1050     1                  19.5                     0.0   \n",
       "386  1122    14                  25.2                     0.0   \n",
       "393  1143     1                  21.7                     0.0   \n",
       "418  1236     1                  21.6                     0.0   \n",
       "419  1237     1                  18.8                     0.0   \n",
       "458  1356     1                  23.2                     0.0   \n",
       "471  1395     1                  21.4                     0.0   \n",
       "492  1462     1                  20.9                     0.0   \n",
       "502  1512     1                  21.4                     0.0   \n",
       "523  1574     1                  19.5                     0.0   \n",
       "620  1857     1                  21.2                     0.0   \n",
       "626  1871     1                  22.9                     0.0   \n",
       "637  1898    13                  25.8                     0.0   \n",
       "642  1913     1                  24.6                     0.0   \n",
       "653  1943    19                   NaN                     NaN   \n",
       "658  1959    14                  28.2                     0.0   \n",
       "694  2104     1                  21.7                     0.0   \n",
       "710  2148     1                  24.6                     0.0   \n",
       "711  2149     1                  18.1                     0.0   \n",
       "\n",
       "     hour_bef_windspeed  hour_bef_humidity  hour_bef_visibility  \\\n",
       "32                  2.4               52.0               2000.0   \n",
       "40                  0.5               90.0                347.0   \n",
       "47                  1.2               57.0               1190.0   \n",
       "86                  2.0               65.0               1662.0   \n",
       "92                  1.7               31.0               2000.0   \n",
       "102                 2.2               98.0                224.0   \n",
       "114                 1.4               41.0               2000.0   \n",
       "126                 1.4               80.0               1085.0   \n",
       "129                 0.9               83.0                466.0   \n",
       "209                 2.4               37.0               2000.0   \n",
       "212                 3.7               50.0               1719.0   \n",
       "223                 3.6               83.0               1839.0   \n",
       "272                 3.1               81.0                266.0   \n",
       "307                 0.4               73.0               1218.0   \n",
       "353                 2.0               78.0                332.0   \n",
       "355                 1.7               48.0               1864.0   \n",
       "360                 2.6               42.0               2000.0   \n",
       "386                 4.2               48.0               1809.0   \n",
       "393                 2.8               77.0               1829.0   \n",
       "418                 2.6               81.0               1340.0   \n",
       "419                 0.9               72.0                503.0   \n",
       "458                 1.5               65.0               1734.0   \n",
       "471                 1.8               74.0               1300.0   \n",
       "492                 2.5               41.0               2000.0   \n",
       "502                 1.1               73.0                713.0   \n",
       "523                 2.6               77.0                769.0   \n",
       "620                 1.6               68.0                839.0   \n",
       "626                 2.6               38.0               2000.0   \n",
       "637                 3.1               60.0               1549.0   \n",
       "642                 0.6               55.0               2000.0   \n",
       "653                 NaN                NaN                  NaN   \n",
       "658                 1.8               51.0               1814.0   \n",
       "694                 1.7               75.0                957.0   \n",
       "710                 2.4               60.0               1745.0   \n",
       "711                 1.0               55.0               2000.0   \n",
       "\n",
       "     hour_bef_ozone  hour_bef_pm10  hour_bef_pm2.5  \n",
       "32              NaN            NaN             NaN  \n",
       "40              NaN            NaN             NaN  \n",
       "47              NaN            NaN             NaN  \n",
       "86              NaN            NaN             NaN  \n",
       "92              NaN            NaN             NaN  \n",
       "102             NaN            NaN             NaN  \n",
       "114             NaN            NaN             NaN  \n",
       "126             NaN            NaN             NaN  \n",
       "129             NaN            NaN             NaN  \n",
       "209             NaN            NaN             NaN  \n",
       "212             NaN           32.0            21.0  \n",
       "223             NaN            NaN             NaN  \n",
       "272             NaN            NaN             NaN  \n",
       "307             NaN            NaN             NaN  \n",
       "353             NaN            NaN             NaN  \n",
       "355             NaN            NaN             NaN  \n",
       "360             NaN            NaN             NaN  \n",
       "386             NaN           29.0            13.0  \n",
       "393             NaN            NaN             NaN  \n",
       "418             NaN            NaN             NaN  \n",
       "419             NaN            NaN             NaN  \n",
       "458             NaN            NaN             NaN  \n",
       "471             NaN            NaN             NaN  \n",
       "492             NaN            NaN             NaN  \n",
       "502             NaN            NaN             NaN  \n",
       "523             NaN            NaN             NaN  \n",
       "620             NaN            NaN             NaN  \n",
       "626             NaN            NaN             NaN  \n",
       "637             NaN           21.0            15.0  \n",
       "642             NaN            NaN             NaN  \n",
       "653             NaN            NaN             NaN  \n",
       "658             NaN           25.0            18.0  \n",
       "694             NaN            NaN             NaN  \n",
       "710             NaN            NaN             NaN  \n",
       "711             NaN            NaN             NaN  "
      ]
     },
     "execution_count": 27,
     "metadata": {},
     "output_type": "execute_result"
    }
   ],
   "source": [
    "df_train_and_test[1][df_train_and_test[1]['hour_bef_ozone'].isna()]"
   ]
  },
  {
   "cell_type": "code",
   "execution_count": 28,
   "metadata": {},
   "outputs": [
    {
     "data": {
      "text/html": [
       "<div>\n",
       "<style scoped>\n",
       "    .dataframe tbody tr th:only-of-type {\n",
       "        vertical-align: middle;\n",
       "    }\n",
       "\n",
       "    .dataframe tbody tr th {\n",
       "        vertical-align: top;\n",
       "    }\n",
       "\n",
       "    .dataframe thead th {\n",
       "        text-align: right;\n",
       "    }\n",
       "</style>\n",
       "<table border=\"1\" class=\"dataframe\">\n",
       "  <thead>\n",
       "    <tr style=\"text-align: right;\">\n",
       "      <th></th>\n",
       "      <th>id</th>\n",
       "      <th>hour</th>\n",
       "      <th>hour_bef_temperature</th>\n",
       "      <th>hour_bef_precipitation</th>\n",
       "      <th>hour_bef_windspeed</th>\n",
       "      <th>hour_bef_humidity</th>\n",
       "      <th>hour_bef_visibility</th>\n",
       "      <th>hour_bef_ozone</th>\n",
       "      <th>hour_bef_pm10</th>\n",
       "      <th>hour_bef_pm2.5</th>\n",
       "      <th>count</th>\n",
       "    </tr>\n",
       "  </thead>\n",
       "  <tbody>\n",
       "    <tr>\n",
       "      <th>934</th>\n",
       "      <td>1420</td>\n",
       "      <td>0</td>\n",
       "      <td>NaN</td>\n",
       "      <td>NaN</td>\n",
       "      <td>NaN</td>\n",
       "      <td>NaN</td>\n",
       "      <td>NaN</td>\n",
       "      <td>NaN</td>\n",
       "      <td>NaN</td>\n",
       "      <td>NaN</td>\n",
       "      <td>39.0</td>\n",
       "    </tr>\n",
       "    <tr>\n",
       "      <th>1035</th>\n",
       "      <td>1553</td>\n",
       "      <td>18</td>\n",
       "      <td>NaN</td>\n",
       "      <td>NaN</td>\n",
       "      <td>NaN</td>\n",
       "      <td>NaN</td>\n",
       "      <td>NaN</td>\n",
       "      <td>NaN</td>\n",
       "      <td>NaN</td>\n",
       "      <td>NaN</td>\n",
       "      <td>1.0</td>\n",
       "    </tr>\n",
       "  </tbody>\n",
       "</table>\n",
       "</div>"
      ],
      "text/plain": [
       "        id  hour  hour_bef_temperature  hour_bef_precipitation  \\\n",
       "934   1420     0                   NaN                     NaN   \n",
       "1035  1553    18                   NaN                     NaN   \n",
       "\n",
       "      hour_bef_windspeed  hour_bef_humidity  hour_bef_visibility  \\\n",
       "934                  NaN                NaN                  NaN   \n",
       "1035                 NaN                NaN                  NaN   \n",
       "\n",
       "      hour_bef_ozone  hour_bef_pm10  hour_bef_pm2.5  count  \n",
       "934              NaN            NaN             NaN   39.0  \n",
       "1035             NaN            NaN             NaN    1.0  "
      ]
     },
     "execution_count": 28,
     "metadata": {},
     "output_type": "execute_result"
    }
   ],
   "source": [
    "df_train_and_test[0][df_train_and_test[0]['hour_bef_visibility'].isna()]"
   ]
  },
  {
   "cell_type": "markdown",
   "metadata": {},
   "source": [
    "test set 결측치 채우기"
   ]
  },
  {
   "cell_type": "markdown",
   "metadata": {},
   "source": [
    "1. Deletion\n",
    "2. Imputation\n",
    "    - Mean Imputation\n",
    "    - Substitution\n",
    "    - Hot deck imputation : 다른 변수에서 비슷한 값을 갖는 데이터 중에서 하나를 랜덤 샘플링하여 복사함\n",
    "    - Cold deck imputation : 비슷한 양상의 데이터 중에서 하나를 랜덤 샘플링하는 것이 아니라 어떠한 규칙 하에서 복사할 값을 선정함\n",
    "    - Regression imputation : \n",
    "    - Stochastic regression imputation : \n",
    "    - Interpolation and extrapolation :"
   ]
  },
  {
   "cell_type": "markdown",
   "metadata": {},
   "source": [
    "1. windspeed"
   ]
  },
  {
   "cell_type": "code",
   "execution_count": 29,
   "metadata": {},
   "outputs": [
    {
     "data": {
      "image/png": "[encoded data removed]",
      "text/plain": [
       "<Figure size 432x288 with 1 Axes>"
      ]
     },
     "metadata": {},
     "output_type": "display_data"
    }
   ],
   "source": [
    "windspeedPerHous = df_train.groupby('hour').mean()['hour_bef_windspeed']\n",
    "\n",
    "plt.plot(windspeedPerHous, 'go-')\n",
    "plt.grid()\n",
    "\n",
    "plt.title('windspeed by hours', fontsize = 15)\n",
    "plt.xlabel('hour', fontsize=12)\n",
    "plt.ylabel('windspeed', fontsize=12)\n",
    "\n",
    "for i in range(0, len(windspeedPerHous)):\n",
    "    plt.text(i-0.2, windspeedPerHous[i]+0.1, f'{windspeedPerHous[i]:.2f}')"
   ]
  },
  {
   "cell_type": "code",
   "execution_count": 30,
   "metadata": {},
   "outputs": [
    {
     "name": "stdout",
     "output_type": "stream",
     "text": [
      "[0] hour : 1.966\n",
      "[1] hour : 1.837\n",
      "[2] hour : 1.633\n",
      "[3] hour : 1.620\n",
      "[4] hour : 1.410\n",
      "[5] hour : 1.297\n",
      "[6] hour : 1.331\n",
      "[7] hour : 1.262\n",
      "[8] hour : 1.633\n",
      "[9] hour : 1.830\n",
      "[10] hour : 2.123\n",
      "[11] hour : 2.485\n",
      "[12] hour : 2.767\n",
      "[13] hour : 3.281\n",
      "[14] hour : 3.523\n",
      "[15] hour : 3.769\n",
      "[16] hour : 3.820\n",
      "[17] hour : 3.802\n",
      "[18] hour : 3.838\n",
      "[19] hour : 3.595\n",
      "[20] hour : 3.278\n",
      "[21] hour : 2.755\n",
      "[22] hour : 2.498\n",
      "[23] hour : 2.195\n"
     ]
    }
   ],
   "source": [
    "for i in range(0,len(windspeedPerHous)):\n",
    "    print(f'[{i}] hour : {windspeedPerHous[i]:.3f}')"
   ]
  },
  {
   "cell_type": "code",
   "execution_count": 31,
   "metadata": {},
   "outputs": [
    {
     "data": {
      "text/plain": [
       "Int64Index([18, 244, 260, 376, 780, 934, 1035, 1138, 1229], dtype='int64')"
      ]
     },
     "execution_count": 31,
     "metadata": {},
     "output_type": "execute_result"
    }
   ],
   "source": [
    "windspeedNanIndx = df_train['hour_bef_windspeed'].index[df_train['hour_bef_windspeed'].apply(np.isnan)]\n",
    "windspeedNanIndx"
   ]
  },
  {
   "cell_type": "code",
   "execution_count": 32,
   "metadata": {},
   "outputs": [],
   "source": [
    "for fill_idx in range(0,len(windspeedNanIndx)):\n",
    "    tmp_hour = df_train_and_test[0]['hour'][windspeedNanIndx[fill_idx]]\n",
    "    df_train_and_test[0]['hour_bef_windspeed'][windspeedNanIndx[fill_idx]] = windspeedPerHous[tmp_hour]"
   ]
  },
  {
   "cell_type": "code",
   "execution_count": 33,
   "metadata": {},
   "outputs": [
    {
     "data": {
      "text/html": [
       "<div>\n",
       "<style scoped>\n",
       "    .dataframe tbody tr th:only-of-type {\n",
       "        vertical-align: middle;\n",
       "    }\n",
       "\n",
       "    .dataframe tbody tr th {\n",
       "        vertical-align: top;\n",
       "    }\n",
       "\n",
       "    .dataframe thead th {\n",
       "        text-align: right;\n",
       "    }\n",
       "</style>\n",
       "<table border=\"1\" class=\"dataframe\">\n",
       "  <thead>\n",
       "    <tr style=\"text-align: right;\">\n",
       "      <th></th>\n",
       "      <th>id</th>\n",
       "      <th>hour</th>\n",
       "      <th>hour_bef_temperature</th>\n",
       "      <th>hour_bef_precipitation</th>\n",
       "      <th>hour_bef_windspeed</th>\n",
       "      <th>hour_bef_humidity</th>\n",
       "      <th>hour_bef_visibility</th>\n",
       "      <th>hour_bef_ozone</th>\n",
       "      <th>hour_bef_pm10</th>\n",
       "      <th>hour_bef_pm2.5</th>\n",
       "      <th>count</th>\n",
       "    </tr>\n",
       "  </thead>\n",
       "  <tbody>\n",
       "  </tbody>\n",
       "</table>\n",
       "</div>"
      ],
      "text/plain": [
       "Empty DataFrame\n",
       "Columns: [id, hour, hour_bef_temperature, hour_bef_precipitation, hour_bef_windspeed, hour_bef_humidity, hour_bef_visibility, hour_bef_ozone, hour_bef_pm10, hour_bef_pm2.5, count]\n",
       "Index: []"
      ]
     },
     "execution_count": 33,
     "metadata": {},
     "output_type": "execute_result"
    }
   ],
   "source": [
    "df_train_and_test[0][df_train_and_test[0]['hour_bef_windspeed'].isna()]"
   ]
  },
  {
   "cell_type": "code",
   "execution_count": 34,
   "metadata": {},
   "outputs": [
    {
     "data": {
      "text/plain": [
       "Int64Index([653], dtype='int64')"
      ]
     },
     "execution_count": 34,
     "metadata": {},
     "output_type": "execute_result"
    }
   ],
   "source": [
    "windspeedNanIndx_test = df_test['hour_bef_windspeed'].index[df_test['hour_bef_windspeed'].apply(np.isnan)]\n",
    "windspeedNanIndx_test"
   ]
  },
  {
   "cell_type": "code",
   "execution_count": 35,
   "metadata": {},
   "outputs": [],
   "source": [
    "for fill_idx in range(0,len(windspeedNanIndx_test)):\n",
    "    tmp_hour = df_train_and_test[1]['hour'][windspeedNanIndx_test[fill_idx]]\n",
    "    df_train_and_test[1]['hour_bef_windspeed'][windspeedNanIndx_test[fill_idx]] = windspeedPerHous[tmp_hour]"
   ]
  },
  {
   "cell_type": "code",
   "execution_count": 36,
   "metadata": {},
   "outputs": [
    {
     "data": {
      "text/html": [
       "<div>\n",
       "<style scoped>\n",
       "    .dataframe tbody tr th:only-of-type {\n",
       "        vertical-align: middle;\n",
       "    }\n",
       "\n",
       "    .dataframe tbody tr th {\n",
       "        vertical-align: top;\n",
       "    }\n",
       "\n",
       "    .dataframe thead th {\n",
       "        text-align: right;\n",
       "    }\n",
       "</style>\n",
       "<table border=\"1\" class=\"dataframe\">\n",
       "  <thead>\n",
       "    <tr style=\"text-align: right;\">\n",
       "      <th></th>\n",
       "      <th>id</th>\n",
       "      <th>hour</th>\n",
       "      <th>hour_bef_temperature</th>\n",
       "      <th>hour_bef_precipitation</th>\n",
       "      <th>hour_bef_windspeed</th>\n",
       "      <th>hour_bef_humidity</th>\n",
       "      <th>hour_bef_visibility</th>\n",
       "      <th>hour_bef_ozone</th>\n",
       "      <th>hour_bef_pm10</th>\n",
       "      <th>hour_bef_pm2.5</th>\n",
       "    </tr>\n",
       "  </thead>\n",
       "  <tbody>\n",
       "  </tbody>\n",
       "</table>\n",
       "</div>"
      ],
      "text/plain": [
       "Empty DataFrame\n",
       "Columns: [id, hour, hour_bef_temperature, hour_bef_precipitation, hour_bef_windspeed, hour_bef_humidity, hour_bef_visibility, hour_bef_ozone, hour_bef_pm10, hour_bef_pm2.5]\n",
       "Index: []"
      ]
     },
     "execution_count": 36,
     "metadata": {},
     "output_type": "execute_result"
    }
   ],
   "source": [
    "df_train_and_test[1][df_train_and_test[1]['hour_bef_windspeed'].isna()]"
   ]
  },
  {
   "cell_type": "markdown",
   "metadata": {},
   "source": [
    "2. temperature"
   ]
  },
  {
   "cell_type": "code",
   "execution_count": 37,
   "metadata": {},
   "outputs": [
    {
     "data": {
      "image/png": "[encoded data removed]",
      "text/plain": [
       "<Figure size 432x288 with 1 Axes>"
      ]
     },
     "metadata": {},
     "output_type": "display_data"
    }
   ],
   "source": [
    "tmperaturePerHour = df_train.groupby('hour').mean()['hour_bef_temperature']\n",
    "\n",
    "plt.plot(tmperaturePerHour, 'go-')\n",
    "plt.grid()\n",
    "\n",
    "plt.title('temperature by hours', fontsize = 15)\n",
    "plt.xlabel('hour', fontsize=12)\n",
    "plt.ylabel('hour_bef_temperature', fontsize=12)\n",
    "\n",
    "for i in range(0, len(tmperaturePerHour)):\n",
    "    plt.text(i-0.2, tmperaturePerHour[i]+0.1, f'{tmperaturePerHour[i]:.2f}')"
   ]
  },
  {
   "cell_type": "code",
   "execution_count": 38,
   "metadata": {},
   "outputs": [
    {
     "name": "stdout",
     "output_type": "stream",
     "text": [
      "[0] hour : 14.788\n",
      "[1] hour : 14.156\n",
      "[2] hour : 13.748\n",
      "[3] hour : 13.357\n",
      "[4] hour : 13.002\n",
      "[5] hour : 12.674\n",
      "[6] hour : 12.377\n",
      "[7] hour : 12.192\n",
      "[8] hour : 12.600\n",
      "[9] hour : 14.318\n",
      "[10] hour : 16.243\n",
      "[11] hour : 18.020\n",
      "[12] hour : 19.457\n",
      "[13] hour : 20.648\n",
      "[14] hour : 21.234\n",
      "[15] hour : 21.744\n",
      "[16] hour : 22.015\n",
      "[17] hour : 21.603\n",
      "[18] hour : 20.927\n",
      "[19] hour : 19.705\n",
      "[20] hour : 18.192\n",
      "[21] hour : 16.978\n",
      "[22] hour : 16.064\n",
      "[23] hour : 15.418\n"
     ]
    }
   ],
   "source": [
    "for i in range(0,len(tmperaturePerHour)):\n",
    "    print(f'[{i}] hour : {tmperaturePerHour[i]:.3f}')"
   ]
  },
  {
   "cell_type": "code",
   "execution_count": 39,
   "metadata": {},
   "outputs": [],
   "source": [
    "temperature_nanIdx_train = df_train['hour_bef_temperature'].index[df_train['hour_bef_temperature'].apply(np.isnan)]\n",
    "temperature_nanIdx_test = df_test['hour_bef_temperature'].index[df_test['hour_bef_temperature'].apply(np.isnan)]\n",
    "\n",
    "for fill_idx in range(0,len(temperature_nanIdx_train)):\n",
    "    tmp_hour = df_train_and_test[0]['hour'][temperature_nanIdx_train[fill_idx]]\n",
    "    df_train_and_test[0]['hour_bef_temperature'][temperature_nanIdx_train[fill_idx]] = tmperaturePerHour[tmp_hour]\n",
    "\n",
    "for fill_idx in range(0,len(temperature_nanIdx_test)):\n",
    "    tmp_hour = df_train_and_test[1]['hour'][temperature_nanIdx_test[fill_idx]]\n",
    "    df_train_and_test[1]['hour_bef_temperature'][temperature_nanIdx_test[fill_idx]] = tmperaturePerHour[tmp_hour]"
   ]
  },
  {
   "cell_type": "code",
   "execution_count": 40,
   "metadata": {},
   "outputs": [
    {
     "data": {
      "text/html": [
       "<div>\n",
       "<style scoped>\n",
       "    .dataframe tbody tr th:only-of-type {\n",
       "        vertical-align: middle;\n",
       "    }\n",
       "\n",
       "    .dataframe tbody tr th {\n",
       "        vertical-align: top;\n",
       "    }\n",
       "\n",
       "    .dataframe thead th {\n",
       "        text-align: right;\n",
       "    }\n",
       "</style>\n",
       "<table border=\"1\" class=\"dataframe\">\n",
       "  <thead>\n",
       "    <tr style=\"text-align: right;\">\n",
       "      <th></th>\n",
       "      <th>id</th>\n",
       "      <th>hour</th>\n",
       "      <th>hour_bef_temperature</th>\n",
       "      <th>hour_bef_precipitation</th>\n",
       "      <th>hour_bef_windspeed</th>\n",
       "      <th>hour_bef_humidity</th>\n",
       "      <th>hour_bef_visibility</th>\n",
       "      <th>hour_bef_ozone</th>\n",
       "      <th>hour_bef_pm10</th>\n",
       "      <th>hour_bef_pm2.5</th>\n",
       "      <th>count</th>\n",
       "    </tr>\n",
       "  </thead>\n",
       "  <tbody>\n",
       "  </tbody>\n",
       "</table>\n",
       "</div>"
      ],
      "text/plain": [
       "Empty DataFrame\n",
       "Columns: [id, hour, hour_bef_temperature, hour_bef_precipitation, hour_bef_windspeed, hour_bef_humidity, hour_bef_visibility, hour_bef_ozone, hour_bef_pm10, hour_bef_pm2.5, count]\n",
       "Index: []"
      ]
     },
     "execution_count": 40,
     "metadata": {},
     "output_type": "execute_result"
    }
   ],
   "source": [
    "df_train_and_test[0][df_train_and_test[0]['hour_bef_temperature'].isna()]"
   ]
  },
  {
   "cell_type": "code",
   "execution_count": 41,
   "metadata": {},
   "outputs": [
    {
     "data": {
      "text/html": [
       "<div>\n",
       "<style scoped>\n",
       "    .dataframe tbody tr th:only-of-type {\n",
       "        vertical-align: middle;\n",
       "    }\n",
       "\n",
       "    .dataframe tbody tr th {\n",
       "        vertical-align: top;\n",
       "    }\n",
       "\n",
       "    .dataframe thead th {\n",
       "        text-align: right;\n",
       "    }\n",
       "</style>\n",
       "<table border=\"1\" class=\"dataframe\">\n",
       "  <thead>\n",
       "    <tr style=\"text-align: right;\">\n",
       "      <th></th>\n",
       "      <th>id</th>\n",
       "      <th>hour</th>\n",
       "      <th>hour_bef_temperature</th>\n",
       "      <th>hour_bef_precipitation</th>\n",
       "      <th>hour_bef_windspeed</th>\n",
       "      <th>hour_bef_humidity</th>\n",
       "      <th>hour_bef_visibility</th>\n",
       "      <th>hour_bef_ozone</th>\n",
       "      <th>hour_bef_pm10</th>\n",
       "      <th>hour_bef_pm2.5</th>\n",
       "    </tr>\n",
       "  </thead>\n",
       "  <tbody>\n",
       "  </tbody>\n",
       "</table>\n",
       "</div>"
      ],
      "text/plain": [
       "Empty DataFrame\n",
       "Columns: [id, hour, hour_bef_temperature, hour_bef_precipitation, hour_bef_windspeed, hour_bef_humidity, hour_bef_visibility, hour_bef_ozone, hour_bef_pm10, hour_bef_pm2.5]\n",
       "Index: []"
      ]
     },
     "execution_count": 41,
     "metadata": {},
     "output_type": "execute_result"
    }
   ],
   "source": [
    "df_train_and_test[1][df_train_and_test[1]['hour_bef_temperature'].isna()]"
   ]
  },
  {
   "cell_type": "markdown",
   "metadata": {},
   "source": [
    "3. humidity"
   ]
  },
  {
   "cell_type": "code",
   "execution_count": 42,
   "metadata": {},
   "outputs": [
    {
     "data": {
      "image/png": "[encoded data removed]",
      "text/plain": [
       "<Figure size 432x288 with 1 Axes>"
      ]
     },
     "metadata": {},
     "output_type": "display_data"
    }
   ],
   "source": [
    "humidityPerHour = df_train.groupby('hour').mean()['hour_bef_humidity']\n",
    "\n",
    "plt.plot(humidityPerHour, 'go-')\n",
    "plt.grid()\n",
    "\n",
    "plt.title('humidity by hours', fontsize = 15)\n",
    "plt.xlabel('hour', fontsize=12)\n",
    "plt.ylabel('hour_bef_humidity', fontsize=12)\n",
    "\n",
    "for i in range(0, len(humidityPerHour)):\n",
    "    plt.text(i-0.2, humidityPerHour[i]+0.1, f'{humidityPerHour[i]:.2f}')"
   ]
  },
  {
   "cell_type": "code",
   "execution_count": 43,
   "metadata": {},
   "outputs": [],
   "source": [
    "humidity_nanIdx_train = df_train['hour_bef_humidity'].index[df_train['hour_bef_humidity'].apply(np.isnan)]\n",
    "humidity_nanIdx_test = df_test['hour_bef_humidity'].index[df_test['hour_bef_humidity'].apply(np.isnan)]\n",
    "\n",
    "for fill_idx in range(0,len(humidity_nanIdx_train)):\n",
    "    tmp_hour = df_train_and_test[0]['hour'][humidity_nanIdx_train[fill_idx]]\n",
    "    df_train_and_test[0]['hour_bef_humidity'][humidity_nanIdx_train[fill_idx]] = humidityPerHour[tmp_hour]\n",
    "\n",
    "for fill_idx in range(0,len(humidity_nanIdx_test)):\n",
    "    tmp_hour = df_train_and_test[1]['hour'][humidity_nanIdx_test[fill_idx]]\n",
    "    df_train_and_test[1]['hour_bef_humidity'][humidity_nanIdx_test[fill_idx]] = humidityPerHour[tmp_hour]"
   ]
  },
  {
   "cell_type": "code",
   "execution_count": 44,
   "metadata": {},
   "outputs": [
    {
     "data": {
      "text/html": [
       "<div>\n",
       "<style scoped>\n",
       "    .dataframe tbody tr th:only-of-type {\n",
       "        vertical-align: middle;\n",
       "    }\n",
       "\n",
       "    .dataframe tbody tr th {\n",
       "        vertical-align: top;\n",
       "    }\n",
       "\n",
       "    .dataframe thead th {\n",
       "        text-align: right;\n",
       "    }\n",
       "</style>\n",
       "<table border=\"1\" class=\"dataframe\">\n",
       "  <thead>\n",
       "    <tr style=\"text-align: right;\">\n",
       "      <th></th>\n",
       "      <th>id</th>\n",
       "      <th>hour</th>\n",
       "      <th>hour_bef_temperature</th>\n",
       "      <th>hour_bef_precipitation</th>\n",
       "      <th>hour_bef_windspeed</th>\n",
       "      <th>hour_bef_humidity</th>\n",
       "      <th>hour_bef_visibility</th>\n",
       "      <th>hour_bef_ozone</th>\n",
       "      <th>hour_bef_pm10</th>\n",
       "      <th>hour_bef_pm2.5</th>\n",
       "      <th>count</th>\n",
       "    </tr>\n",
       "  </thead>\n",
       "  <tbody>\n",
       "  </tbody>\n",
       "</table>\n",
       "</div>"
      ],
      "text/plain": [
       "Empty DataFrame\n",
       "Columns: [id, hour, hour_bef_temperature, hour_bef_precipitation, hour_bef_windspeed, hour_bef_humidity, hour_bef_visibility, hour_bef_ozone, hour_bef_pm10, hour_bef_pm2.5, count]\n",
       "Index: []"
      ]
     },
     "execution_count": 44,
     "metadata": {},
     "output_type": "execute_result"
    }
   ],
   "source": [
    "df_train_and_test[0][df_train_and_test[0]['hour_bef_humidity'].isna()]"
   ]
  },
  {
   "cell_type": "code",
   "execution_count": 45,
   "metadata": {},
   "outputs": [
    {
     "data": {
      "text/html": [
       "<div>\n",
       "<style scoped>\n",
       "    .dataframe tbody tr th:only-of-type {\n",
       "        vertical-align: middle;\n",
       "    }\n",
       "\n",
       "    .dataframe tbody tr th {\n",
       "        vertical-align: top;\n",
       "    }\n",
       "\n",
       "    .dataframe thead th {\n",
       "        text-align: right;\n",
       "    }\n",
       "</style>\n",
       "<table border=\"1\" class=\"dataframe\">\n",
       "  <thead>\n",
       "    <tr style=\"text-align: right;\">\n",
       "      <th></th>\n",
       "      <th>id</th>\n",
       "      <th>hour</th>\n",
       "      <th>hour_bef_temperature</th>\n",
       "      <th>hour_bef_precipitation</th>\n",
       "      <th>hour_bef_windspeed</th>\n",
       "      <th>hour_bef_humidity</th>\n",
       "      <th>hour_bef_visibility</th>\n",
       "      <th>hour_bef_ozone</th>\n",
       "      <th>hour_bef_pm10</th>\n",
       "      <th>hour_bef_pm2.5</th>\n",
       "    </tr>\n",
       "  </thead>\n",
       "  <tbody>\n",
       "  </tbody>\n",
       "</table>\n",
       "</div>"
      ],
      "text/plain": [
       "Empty DataFrame\n",
       "Columns: [id, hour, hour_bef_temperature, hour_bef_precipitation, hour_bef_windspeed, hour_bef_humidity, hour_bef_visibility, hour_bef_ozone, hour_bef_pm10, hour_bef_pm2.5]\n",
       "Index: []"
      ]
     },
     "execution_count": 45,
     "metadata": {},
     "output_type": "execute_result"
    }
   ],
   "source": [
    "df_train_and_test[1][df_train_and_test[1]['hour_bef_humidity'].isna()]"
   ]
  },
  {
   "cell_type": "markdown",
   "metadata": {},
   "source": [
    "4. ozone"
   ]
  },
  {
   "cell_type": "code",
   "execution_count": 46,
   "metadata": {},
   "outputs": [
    {
     "name": "stderr",
     "output_type": "stream",
     "text": [
      "posx and posy should be finite values\n",
      "posx and posy should be finite values\n"
     ]
    },
    {
     "data": {
      "image/png": "[encoded data removed]",
      "text/plain": [
       "<Figure size 432x288 with 1 Axes>"
      ]
     },
     "metadata": {},
     "output_type": "display_data"
    }
   ],
   "source": [
    "ozonePerHour = df_train.groupby('hour').mean()['hour_bef_ozone']\n",
    "\n",
    "plt.plot(ozonePerHour, 'go-')\n",
    "plt.grid()\n",
    "\n",
    "plt.title('ozone by hours', fontsize = 15)\n",
    "plt.xlabel('hour', fontsize=12)\n",
    "plt.ylabel('hour_bef_ozone', fontsize=12)\n",
    "\n",
    "for i in range(0, len(ozonePerHour)):\n",
    "    plt.text(i-0.002, ozonePerHour[i]+0.001, f'{ozonePerHour[i]:.2f}')"
   ]
  },
  {
   "cell_type": "code",
   "execution_count": 47,
   "metadata": {},
   "outputs": [
    {
     "name": "stdout",
     "output_type": "stream",
     "text": [
      "[0] hour : 0.034\n",
      "[1] hour : nan\n",
      "[2] hour : 0.030\n",
      "[3] hour : 0.031\n",
      "[4] hour : 0.032\n",
      "[5] hour : 0.032\n",
      "[6] hour : 0.029\n",
      "[7] hour : 0.025\n",
      "[8] hour : 0.021\n",
      "[9] hour : 0.021\n",
      "[10] hour : 0.025\n",
      "[11] hour : 0.030\n",
      "[12] hour : 0.037\n",
      "[13] hour : 0.045\n",
      "[14] hour : 0.053\n",
      "[15] hour : 0.057\n",
      "[16] hour : 0.061\n",
      "[17] hour : 0.060\n",
      "[18] hour : 0.059\n",
      "[19] hour : 0.054\n",
      "[20] hour : 0.048\n",
      "[21] hour : 0.044\n",
      "[22] hour : 0.038\n",
      "[23] hour : 0.035\n"
     ]
    }
   ],
   "source": [
    "for i in range(0,len(ozonePerHour)):\n",
    "    print(f'[{i}] hour : {ozonePerHour[i]:.3f}')"
   ]
  },
  {
   "cell_type": "code",
   "execution_count": 48,
   "metadata": {},
   "outputs": [],
   "source": [
    "ozonePerHour[1] = 0"
   ]
  },
  {
   "cell_type": "code",
   "execution_count": 49,
   "metadata": {},
   "outputs": [],
   "source": [
    "ozone_nanIdx_train = df_train['hour_bef_ozone'].index[df_train['hour_bef_ozone'].apply(np.isnan)]\n",
    "ozone_nanIdx_test = df_test['hour_bef_ozone'].index[df_test['hour_bef_ozone'].apply(np.isnan)]\n",
    "\n",
    "for fill_idx in range(0,len(ozone_nanIdx_train)):\n",
    "    tmp_hour = df_train_and_test[0]['hour'][ozone_nanIdx_train[fill_idx]]\n",
    "    df_train_and_test[0]['hour_bef_ozone'][ozone_nanIdx_train[fill_idx]] = ozonePerHour[tmp_hour]\n",
    "\n",
    "for fill_idx in range(0,len(ozone_nanIdx_test)):\n",
    "    tmp_hour = df_train_and_test[1]['hour'][ozone_nanIdx_test[fill_idx]]\n",
    "    df_train_and_test[1]['hour_bef_ozone'][ozone_nanIdx_test[fill_idx]] = ozonePerHour[tmp_hour]"
   ]
  },
  {
   "cell_type": "code",
   "execution_count": 50,
   "metadata": {},
   "outputs": [
    {
     "data": {
      "text/html": [
       "<div>\n",
       "<style scoped>\n",
       "    .dataframe tbody tr th:only-of-type {\n",
       "        vertical-align: middle;\n",
       "    }\n",
       "\n",
       "    .dataframe tbody tr th {\n",
       "        vertical-align: top;\n",
       "    }\n",
       "\n",
       "    .dataframe thead th {\n",
       "        text-align: right;\n",
       "    }\n",
       "</style>\n",
       "<table border=\"1\" class=\"dataframe\">\n",
       "  <thead>\n",
       "    <tr style=\"text-align: right;\">\n",
       "      <th></th>\n",
       "      <th>id</th>\n",
       "      <th>hour</th>\n",
       "      <th>hour_bef_temperature</th>\n",
       "      <th>hour_bef_precipitation</th>\n",
       "      <th>hour_bef_windspeed</th>\n",
       "      <th>hour_bef_humidity</th>\n",
       "      <th>hour_bef_visibility</th>\n",
       "      <th>hour_bef_ozone</th>\n",
       "      <th>hour_bef_pm10</th>\n",
       "      <th>hour_bef_pm2.5</th>\n",
       "      <th>count</th>\n",
       "    </tr>\n",
       "  </thead>\n",
       "  <tbody>\n",
       "  </tbody>\n",
       "</table>\n",
       "</div>"
      ],
      "text/plain": [
       "Empty DataFrame\n",
       "Columns: [id, hour, hour_bef_temperature, hour_bef_precipitation, hour_bef_windspeed, hour_bef_humidity, hour_bef_visibility, hour_bef_ozone, hour_bef_pm10, hour_bef_pm2.5, count]\n",
       "Index: []"
      ]
     },
     "execution_count": 50,
     "metadata": {},
     "output_type": "execute_result"
    }
   ],
   "source": [
    "df_train_and_test[0][df_train_and_test[0]['hour_bef_ozone'].isna()]"
   ]
  },
  {
   "cell_type": "markdown",
   "metadata": {},
   "source": [
    "5. visibility"
   ]
  },
  {
   "cell_type": "code",
   "execution_count": 51,
   "metadata": {},
   "outputs": [
    {
     "data": {
      "image/png": "[encoded data removed]",
      "text/plain": [
       "<Figure size 432x288 with 1 Axes>"
      ]
     },
     "metadata": {},
     "output_type": "display_data"
    }
   ],
   "source": [
    "visPerHour = df_train.groupby('hour').mean()['hour_bef_visibility']\n",
    "\n",
    "plt.plot(visPerHour, 'go-')\n",
    "plt.grid()\n",
    "\n",
    "plt.title('visibility by hours', fontsize = 15)\n",
    "plt.xlabel('hour', fontsize=12)\n",
    "plt.ylabel('hour_bef_vis', fontsize=12)\n",
    "\n",
    "for i in range(0, len(visPerHour)):\n",
    "    plt.text(i-0.0002, visPerHour[i]+0.0001, f'{visPerHour[i]:.2f}')"
   ]
  },
  {
   "cell_type": "code",
   "execution_count": 52,
   "metadata": {},
   "outputs": [],
   "source": [
    "vis_nanIdx_train = df_train['hour_bef_visibility'].index[df_train['hour_bef_visibility'].apply(np.isnan)]\n",
    "vis_nanIdx_test = df_test['hour_bef_visibility'].index[df_test['hour_bef_visibility'].apply(np.isnan)]\n",
    "\n",
    "for fill_idx in range(0,len(vis_nanIdx_train)):\n",
    "    tmp_hour = df_train_and_test[0]['hour'][vis_nanIdx_train[fill_idx]]\n",
    "    df_train_and_test[0]['hour_bef_visibility'][vis_nanIdx_train[fill_idx]] = visPerHour[tmp_hour]\n",
    "\n",
    "for fill_idx in range(0,len(vis_nanIdx_test)):\n",
    "    tmp_hour = df_train_and_test[1]['hour'][vis_nanIdx_test[fill_idx]]\n",
    "    df_train_and_test[1]['hour_bef_visibility'][vis_nanIdx_test[fill_idx]] = visPerHour[tmp_hour]"
   ]
  },
  {
   "cell_type": "code",
   "execution_count": 53,
   "metadata": {},
   "outputs": [
    {
     "data": {
      "text/html": [
       "<div>\n",
       "<style scoped>\n",
       "    .dataframe tbody tr th:only-of-type {\n",
       "        vertical-align: middle;\n",
       "    }\n",
       "\n",
       "    .dataframe tbody tr th {\n",
       "        vertical-align: top;\n",
       "    }\n",
       "\n",
       "    .dataframe thead th {\n",
       "        text-align: right;\n",
       "    }\n",
       "</style>\n",
       "<table border=\"1\" class=\"dataframe\">\n",
       "  <thead>\n",
       "    <tr style=\"text-align: right;\">\n",
       "      <th></th>\n",
       "      <th>id</th>\n",
       "      <th>hour</th>\n",
       "      <th>hour_bef_temperature</th>\n",
       "      <th>hour_bef_precipitation</th>\n",
       "      <th>hour_bef_windspeed</th>\n",
       "      <th>hour_bef_humidity</th>\n",
       "      <th>hour_bef_visibility</th>\n",
       "      <th>hour_bef_ozone</th>\n",
       "      <th>hour_bef_pm10</th>\n",
       "      <th>hour_bef_pm2.5</th>\n",
       "      <th>count</th>\n",
       "    </tr>\n",
       "  </thead>\n",
       "  <tbody>\n",
       "  </tbody>\n",
       "</table>\n",
       "</div>"
      ],
      "text/plain": [
       "Empty DataFrame\n",
       "Columns: [id, hour, hour_bef_temperature, hour_bef_precipitation, hour_bef_windspeed, hour_bef_humidity, hour_bef_visibility, hour_bef_ozone, hour_bef_pm10, hour_bef_pm2.5, count]\n",
       "Index: []"
      ]
     },
     "execution_count": 53,
     "metadata": {},
     "output_type": "execute_result"
    }
   ],
   "source": [
    "df_train_and_test[0][df_train_and_test[0]['hour_bef_visibility'].isna()]"
   ]
  },
  {
   "cell_type": "markdown",
   "metadata": {},
   "source": [
    "feature drop"
   ]
  },
  {
   "cell_type": "code",
   "execution_count": 54,
   "metadata": {},
   "outputs": [],
   "source": [
    "features_drop=['hour_bef_precipitation','hour_bef_pm10','hour_bef_pm2.5','hour_bef_ozone']"
   ]
  },
  {
   "cell_type": "code",
   "execution_count": 55,
   "metadata": {},
   "outputs": [
    {
     "data": {
      "text/html": [
       "<div>\n",
       "<style scoped>\n",
       "    .dataframe tbody tr th:only-of-type {\n",
       "        vertical-align: middle;\n",
       "    }\n",
       "\n",
       "    .dataframe tbody tr th {\n",
       "        vertical-align: top;\n",
       "    }\n",
       "\n",
       "    .dataframe thead th {\n",
       "        text-align: right;\n",
       "    }\n",
       "</style>\n",
       "<table border=\"1\" class=\"dataframe\">\n",
       "  <thead>\n",
       "    <tr style=\"text-align: right;\">\n",
       "      <th></th>\n",
       "      <th>id</th>\n",
       "      <th>hour</th>\n",
       "      <th>hour_bef_temperature</th>\n",
       "      <th>hour_bef_precipitation</th>\n",
       "      <th>hour_bef_windspeed</th>\n",
       "      <th>hour_bef_humidity</th>\n",
       "      <th>hour_bef_visibility</th>\n",
       "      <th>hour_bef_ozone</th>\n",
       "      <th>hour_bef_pm10</th>\n",
       "      <th>hour_bef_pm2.5</th>\n",
       "      <th>count</th>\n",
       "    </tr>\n",
       "  </thead>\n",
       "  <tbody>\n",
       "    <tr>\n",
       "      <th>0</th>\n",
       "      <td>3</td>\n",
       "      <td>20</td>\n",
       "      <td>16.3</td>\n",
       "      <td>1.0</td>\n",
       "      <td>1.5</td>\n",
       "      <td>89.0</td>\n",
       "      <td>576.0</td>\n",
       "      <td>0.027</td>\n",
       "      <td>76.0</td>\n",
       "      <td>33.0</td>\n",
       "      <td>49.0</td>\n",
       "    </tr>\n",
       "    <tr>\n",
       "      <th>1</th>\n",
       "      <td>6</td>\n",
       "      <td>13</td>\n",
       "      <td>20.1</td>\n",
       "      <td>0.0</td>\n",
       "      <td>1.4</td>\n",
       "      <td>48.0</td>\n",
       "      <td>916.0</td>\n",
       "      <td>0.042</td>\n",
       "      <td>73.0</td>\n",
       "      <td>40.0</td>\n",
       "      <td>159.0</td>\n",
       "    </tr>\n",
       "    <tr>\n",
       "      <th>2</th>\n",
       "      <td>7</td>\n",
       "      <td>6</td>\n",
       "      <td>13.9</td>\n",
       "      <td>0.0</td>\n",
       "      <td>0.7</td>\n",
       "      <td>79.0</td>\n",
       "      <td>1382.0</td>\n",
       "      <td>0.033</td>\n",
       "      <td>32.0</td>\n",
       "      <td>19.0</td>\n",
       "      <td>26.0</td>\n",
       "    </tr>\n",
       "    <tr>\n",
       "      <th>3</th>\n",
       "      <td>8</td>\n",
       "      <td>23</td>\n",
       "      <td>8.1</td>\n",
       "      <td>0.0</td>\n",
       "      <td>2.7</td>\n",
       "      <td>54.0</td>\n",
       "      <td>946.0</td>\n",
       "      <td>0.040</td>\n",
       "      <td>75.0</td>\n",
       "      <td>64.0</td>\n",
       "      <td>57.0</td>\n",
       "    </tr>\n",
       "    <tr>\n",
       "      <th>4</th>\n",
       "      <td>9</td>\n",
       "      <td>18</td>\n",
       "      <td>29.5</td>\n",
       "      <td>0.0</td>\n",
       "      <td>4.8</td>\n",
       "      <td>7.0</td>\n",
       "      <td>2000.0</td>\n",
       "      <td>0.057</td>\n",
       "      <td>27.0</td>\n",
       "      <td>11.0</td>\n",
       "      <td>431.0</td>\n",
       "    </tr>\n",
       "    <tr>\n",
       "      <th>...</th>\n",
       "      <td>...</td>\n",
       "      <td>...</td>\n",
       "      <td>...</td>\n",
       "      <td>...</td>\n",
       "      <td>...</td>\n",
       "      <td>...</td>\n",
       "      <td>...</td>\n",
       "      <td>...</td>\n",
       "      <td>...</td>\n",
       "      <td>...</td>\n",
       "      <td>...</td>\n",
       "    </tr>\n",
       "    <tr>\n",
       "      <th>1454</th>\n",
       "      <td>2174</td>\n",
       "      <td>4</td>\n",
       "      <td>16.8</td>\n",
       "      <td>0.0</td>\n",
       "      <td>1.6</td>\n",
       "      <td>53.0</td>\n",
       "      <td>2000.0</td>\n",
       "      <td>0.031</td>\n",
       "      <td>37.0</td>\n",
       "      <td>27.0</td>\n",
       "      <td>21.0</td>\n",
       "    </tr>\n",
       "    <tr>\n",
       "      <th>1455</th>\n",
       "      <td>2175</td>\n",
       "      <td>3</td>\n",
       "      <td>10.8</td>\n",
       "      <td>0.0</td>\n",
       "      <td>3.8</td>\n",
       "      <td>45.0</td>\n",
       "      <td>2000.0</td>\n",
       "      <td>0.039</td>\n",
       "      <td>34.0</td>\n",
       "      <td>19.0</td>\n",
       "      <td>20.0</td>\n",
       "    </tr>\n",
       "    <tr>\n",
       "      <th>1456</th>\n",
       "      <td>2176</td>\n",
       "      <td>5</td>\n",
       "      <td>18.3</td>\n",
       "      <td>0.0</td>\n",
       "      <td>1.9</td>\n",
       "      <td>54.0</td>\n",
       "      <td>2000.0</td>\n",
       "      <td>0.009</td>\n",
       "      <td>30.0</td>\n",
       "      <td>21.0</td>\n",
       "      <td>22.0</td>\n",
       "    </tr>\n",
       "    <tr>\n",
       "      <th>1457</th>\n",
       "      <td>2178</td>\n",
       "      <td>21</td>\n",
       "      <td>20.7</td>\n",
       "      <td>0.0</td>\n",
       "      <td>3.7</td>\n",
       "      <td>37.0</td>\n",
       "      <td>1395.0</td>\n",
       "      <td>0.082</td>\n",
       "      <td>71.0</td>\n",
       "      <td>36.0</td>\n",
       "      <td>216.0</td>\n",
       "    </tr>\n",
       "    <tr>\n",
       "      <th>1458</th>\n",
       "      <td>2179</td>\n",
       "      <td>17</td>\n",
       "      <td>21.1</td>\n",
       "      <td>0.0</td>\n",
       "      <td>3.1</td>\n",
       "      <td>47.0</td>\n",
       "      <td>1973.0</td>\n",
       "      <td>0.046</td>\n",
       "      <td>38.0</td>\n",
       "      <td>17.0</td>\n",
       "      <td>170.0</td>\n",
       "    </tr>\n",
       "  </tbody>\n",
       "</table>\n",
       "<p>1459 rows × 11 columns</p>\n",
       "</div>"
      ],
      "text/plain": [
       "        id  hour  hour_bef_temperature  hour_bef_precipitation  \\\n",
       "0        3    20                  16.3                     1.0   \n",
       "1        6    13                  20.1                     0.0   \n",
       "2        7     6                  13.9                     0.0   \n",
       "3        8    23                   8.1                     0.0   \n",
       "4        9    18                  29.5                     0.0   \n",
       "...    ...   ...                   ...                     ...   \n",
       "1454  2174     4                  16.8                     0.0   \n",
       "1455  2175     3                  10.8                     0.0   \n",
       "1456  2176     5                  18.3                     0.0   \n",
       "1457  2178    21                  20.7                     0.0   \n",
       "1458  2179    17                  21.1                     0.0   \n",
       "\n",
       "      hour_bef_windspeed  hour_bef_humidity  hour_bef_visibility  \\\n",
       "0                    1.5               89.0                576.0   \n",
       "1                    1.4               48.0                916.0   \n",
       "2                    0.7               79.0               1382.0   \n",
       "3                    2.7               54.0                946.0   \n",
       "4                    4.8                7.0               2000.0   \n",
       "...                  ...                ...                  ...   \n",
       "1454                 1.6               53.0               2000.0   \n",
       "1455                 3.8               45.0               2000.0   \n",
       "1456                 1.9               54.0               2000.0   \n",
       "1457                 3.7               37.0               1395.0   \n",
       "1458                 3.1               47.0               1973.0   \n",
       "\n",
       "      hour_bef_ozone  hour_bef_pm10  hour_bef_pm2.5  count  \n",
       "0              0.027           76.0            33.0   49.0  \n",
       "1              0.042           73.0            40.0  159.0  \n",
       "2              0.033           32.0            19.0   26.0  \n",
       "3              0.040           75.0            64.0   57.0  \n",
       "4              0.057           27.0            11.0  431.0  \n",
       "...              ...            ...             ...    ...  \n",
       "1454           0.031           37.0            27.0   21.0  \n",
       "1455           0.039           34.0            19.0   20.0  \n",
       "1456           0.009           30.0            21.0   22.0  \n",
       "1457           0.082           71.0            36.0  216.0  \n",
       "1458           0.046           38.0            17.0  170.0  \n",
       "\n",
       "[1459 rows x 11 columns]"
      ]
     },
     "execution_count": 55,
     "metadata": {},
     "output_type": "execute_result"
    }
   ],
   "source": [
    "df_train_and_test[0]"
   ]
  },
  {
   "cell_type": "code",
   "execution_count": null,
   "metadata": {},
   "outputs": [],
   "source": []
  },
  {
   "cell_type": "markdown",
   "metadata": {},
   "source": [
    "Catergorization"
   ]
  },
  {
   "cell_type": "code",
   "execution_count": 56,
   "metadata": {},
   "outputs": [],
   "source": [
    "df_train=df_train_and_test[0].drop(features_drop,axis=1)\n",
    "df_test=df_train_and_test[1].drop(features_drop,axis=1)"
   ]
  },
  {
   "cell_type": "code",
   "execution_count": 57,
   "metadata": {},
   "outputs": [
    {
     "name": "stdout",
     "output_type": "stream",
     "text": [
      "<class 'pandas.core.frame.DataFrame'>\n",
      "RangeIndex: 1459 entries, 0 to 1458\n",
      "Data columns (total 7 columns):\n",
      " #   Column                Non-Null Count  Dtype  \n",
      "---  ------                --------------  -----  \n",
      " 0   id                    1459 non-null   int64  \n",
      " 1   hour                  1459 non-null   int64  \n",
      " 2   hour_bef_temperature  1459 non-null   float64\n",
      " 3   hour_bef_windspeed    1459 non-null   float64\n",
      " 4   hour_bef_humidity     1459 non-null   float64\n",
      " 5   hour_bef_visibility   1459 non-null   float64\n",
      " 6   count                 1459 non-null   float64\n",
      "dtypes: float64(5), int64(2)\n",
      "memory usage: 79.9 KB\n"
     ]
    }
   ],
   "source": [
    "df_train.info()"
   ]
  },
  {
   "cell_type": "code",
   "execution_count": null,
   "metadata": {},
   "outputs": [],
   "source": []
  },
  {
   "cell_type": "code",
   "execution_count": 58,
   "metadata": {},
   "outputs": [
    {
     "data": {
      "text/html": [
       "<div>\n",
       "<style scoped>\n",
       "    .dataframe tbody tr th:only-of-type {\n",
       "        vertical-align: middle;\n",
       "    }\n",
       "\n",
       "    .dataframe tbody tr th {\n",
       "        vertical-align: top;\n",
       "    }\n",
       "\n",
       "    .dataframe thead th {\n",
       "        text-align: right;\n",
       "    }\n",
       "</style>\n",
       "<table border=\"1\" class=\"dataframe\">\n",
       "  <thead>\n",
       "    <tr style=\"text-align: right;\">\n",
       "      <th></th>\n",
       "      <th>id</th>\n",
       "      <th>hour</th>\n",
       "      <th>hour_bef_temperature</th>\n",
       "      <th>hour_bef_windspeed</th>\n",
       "      <th>hour_bef_humidity</th>\n",
       "      <th>hour_bef_visibility</th>\n",
       "      <th>count</th>\n",
       "    </tr>\n",
       "  </thead>\n",
       "  <tbody>\n",
       "    <tr>\n",
       "      <th>0</th>\n",
       "      <td>3</td>\n",
       "      <td>20</td>\n",
       "      <td>16.3</td>\n",
       "      <td>1.5</td>\n",
       "      <td>89.0</td>\n",
       "      <td>576.0</td>\n",
       "      <td>49.0</td>\n",
       "    </tr>\n",
       "    <tr>\n",
       "      <th>1</th>\n",
       "      <td>6</td>\n",
       "      <td>13</td>\n",
       "      <td>20.1</td>\n",
       "      <td>1.4</td>\n",
       "      <td>48.0</td>\n",
       "      <td>916.0</td>\n",
       "      <td>159.0</td>\n",
       "    </tr>\n",
       "    <tr>\n",
       "      <th>2</th>\n",
       "      <td>7</td>\n",
       "      <td>6</td>\n",
       "      <td>13.9</td>\n",
       "      <td>0.7</td>\n",
       "      <td>79.0</td>\n",
       "      <td>1382.0</td>\n",
       "      <td>26.0</td>\n",
       "    </tr>\n",
       "    <tr>\n",
       "      <th>3</th>\n",
       "      <td>8</td>\n",
       "      <td>23</td>\n",
       "      <td>8.1</td>\n",
       "      <td>2.7</td>\n",
       "      <td>54.0</td>\n",
       "      <td>946.0</td>\n",
       "      <td>57.0</td>\n",
       "    </tr>\n",
       "    <tr>\n",
       "      <th>4</th>\n",
       "      <td>9</td>\n",
       "      <td>18</td>\n",
       "      <td>29.5</td>\n",
       "      <td>4.8</td>\n",
       "      <td>7.0</td>\n",
       "      <td>2000.0</td>\n",
       "      <td>431.0</td>\n",
       "    </tr>\n",
       "  </tbody>\n",
       "</table>\n",
       "</div>"
      ],
      "text/plain": [
       "   id  hour  hour_bef_temperature  hour_bef_windspeed  hour_bef_humidity  \\\n",
       "0   3    20                  16.3                 1.5               89.0   \n",
       "1   6    13                  20.1                 1.4               48.0   \n",
       "2   7     6                  13.9                 0.7               79.0   \n",
       "3   8    23                   8.1                 2.7               54.0   \n",
       "4   9    18                  29.5                 4.8                7.0   \n",
       "\n",
       "   hour_bef_visibility  count  \n",
       "0                576.0   49.0  \n",
       "1                916.0  159.0  \n",
       "2               1382.0   26.0  \n",
       "3                946.0   57.0  \n",
       "4               2000.0  431.0  "
      ]
     },
     "execution_count": 58,
     "metadata": {},
     "output_type": "execute_result"
    }
   ],
   "source": [
    "df_train.head()"
   ]
  },
  {
   "cell_type": "code",
   "execution_count": 59,
   "metadata": {},
   "outputs": [
    {
     "name": "stdout",
     "output_type": "stream",
     "text": [
      "<class 'pandas.core.frame.DataFrame'>\n",
      "RangeIndex: 715 entries, 0 to 714\n",
      "Data columns (total 6 columns):\n",
      " #   Column                Non-Null Count  Dtype  \n",
      "---  ------                --------------  -----  \n",
      " 0   id                    715 non-null    int64  \n",
      " 1   hour                  715 non-null    int64  \n",
      " 2   hour_bef_temperature  715 non-null    float64\n",
      " 3   hour_bef_windspeed    715 non-null    float64\n",
      " 4   hour_bef_humidity     715 non-null    float64\n",
      " 5   hour_bef_visibility   715 non-null    float64\n",
      "dtypes: float64(4), int64(2)\n",
      "memory usage: 33.6 KB\n"
     ]
    }
   ],
   "source": [
    "df_test.info()"
   ]
  },
  {
   "cell_type": "code",
   "execution_count": 60,
   "metadata": {},
   "outputs": [
    {
     "data": {
      "text/html": [
       "<div>\n",
       "<style scoped>\n",
       "    .dataframe tbody tr th:only-of-type {\n",
       "        vertical-align: middle;\n",
       "    }\n",
       "\n",
       "    .dataframe tbody tr th {\n",
       "        vertical-align: top;\n",
       "    }\n",
       "\n",
       "    .dataframe thead th {\n",
       "        text-align: right;\n",
       "    }\n",
       "</style>\n",
       "<table border=\"1\" class=\"dataframe\">\n",
       "  <thead>\n",
       "    <tr style=\"text-align: right;\">\n",
       "      <th></th>\n",
       "      <th>id</th>\n",
       "      <th>hour</th>\n",
       "      <th>hour_bef_temperature</th>\n",
       "      <th>hour_bef_windspeed</th>\n",
       "      <th>hour_bef_humidity</th>\n",
       "      <th>hour_bef_visibility</th>\n",
       "    </tr>\n",
       "  </thead>\n",
       "  <tbody>\n",
       "    <tr>\n",
       "      <th>0</th>\n",
       "      <td>0</td>\n",
       "      <td>7</td>\n",
       "      <td>20.7</td>\n",
       "      <td>1.3</td>\n",
       "      <td>62.0</td>\n",
       "      <td>954.0</td>\n",
       "    </tr>\n",
       "    <tr>\n",
       "      <th>1</th>\n",
       "      <td>1</td>\n",
       "      <td>17</td>\n",
       "      <td>30.0</td>\n",
       "      <td>5.4</td>\n",
       "      <td>33.0</td>\n",
       "      <td>1590.0</td>\n",
       "    </tr>\n",
       "    <tr>\n",
       "      <th>2</th>\n",
       "      <td>2</td>\n",
       "      <td>13</td>\n",
       "      <td>19.0</td>\n",
       "      <td>2.1</td>\n",
       "      <td>95.0</td>\n",
       "      <td>193.0</td>\n",
       "    </tr>\n",
       "    <tr>\n",
       "      <th>3</th>\n",
       "      <td>4</td>\n",
       "      <td>6</td>\n",
       "      <td>22.5</td>\n",
       "      <td>2.5</td>\n",
       "      <td>60.0</td>\n",
       "      <td>1185.0</td>\n",
       "    </tr>\n",
       "    <tr>\n",
       "      <th>4</th>\n",
       "      <td>5</td>\n",
       "      <td>22</td>\n",
       "      <td>14.6</td>\n",
       "      <td>3.4</td>\n",
       "      <td>93.0</td>\n",
       "      <td>218.0</td>\n",
       "    </tr>\n",
       "  </tbody>\n",
       "</table>\n",
       "</div>"
      ],
      "text/plain": [
       "   id  hour  hour_bef_temperature  hour_bef_windspeed  hour_bef_humidity  \\\n",
       "0   0     7                  20.7                 1.3               62.0   \n",
       "1   1    17                  30.0                 5.4               33.0   \n",
       "2   2    13                  19.0                 2.1               95.0   \n",
       "3   4     6                  22.5                 2.5               60.0   \n",
       "4   5    22                  14.6                 3.4               93.0   \n",
       "\n",
       "   hour_bef_visibility  \n",
       "0                954.0  \n",
       "1               1590.0  \n",
       "2                193.0  \n",
       "3               1185.0  \n",
       "4                218.0  "
      ]
     },
     "execution_count": 60,
     "metadata": {},
     "output_type": "execute_result"
    }
   ],
   "source": [
    "df_test.head()"
   ]
  },
  {
   "cell_type": "markdown",
   "metadata": {},
   "source": [
    "정답지 준비"
   ]
  },
  {
   "cell_type": "code",
   "execution_count": 61,
   "metadata": {},
   "outputs": [],
   "source": [
    "df_train_label = df_train['count']"
   ]
  },
  {
   "cell_type": "code",
   "execution_count": 62,
   "metadata": {},
   "outputs": [
    {
     "data": {
      "text/plain": [
       "0     49.0\n",
       "1    159.0\n",
       "2     26.0\n",
       "3     57.0\n",
       "4    431.0\n",
       "Name: count, dtype: float64"
      ]
     },
     "execution_count": 62,
     "metadata": {},
     "output_type": "execute_result"
    }
   ],
   "source": [
    "df_train_label.head()"
   ]
  },
  {
   "cell_type": "code",
   "execution_count": 63,
   "metadata": {},
   "outputs": [
    {
     "name": "stdout",
     "output_type": "stream",
     "text": [
      "<class 'pandas.core.series.Series'>\n",
      "RangeIndex: 1459 entries, 0 to 1458\n",
      "Series name: count\n",
      "Non-Null Count  Dtype  \n",
      "--------------  -----  \n",
      "1459 non-null   float64\n",
      "dtypes: float64(1)\n",
      "memory usage: 11.5 KB\n"
     ]
    }
   ],
   "source": [
    "df_train_label.info()"
   ]
  },
  {
   "cell_type": "markdown",
   "metadata": {},
   "source": [
    "train/test data set 준비"
   ]
  },
  {
   "cell_type": "code",
   "execution_count": 64,
   "metadata": {},
   "outputs": [],
   "source": [
    "df_train_data = df_train.drop(['id','count'], axis=1)"
   ]
  },
  {
   "cell_type": "code",
   "execution_count": 65,
   "metadata": {},
   "outputs": [
    {
     "data": {
      "text/html": [
       "<div>\n",
       "<style scoped>\n",
       "    .dataframe tbody tr th:only-of-type {\n",
       "        vertical-align: middle;\n",
       "    }\n",
       "\n",
       "    .dataframe tbody tr th {\n",
       "        vertical-align: top;\n",
       "    }\n",
       "\n",
       "    .dataframe thead th {\n",
       "        text-align: right;\n",
       "    }\n",
       "</style>\n",
       "<table border=\"1\" class=\"dataframe\">\n",
       "  <thead>\n",
       "    <tr style=\"text-align: right;\">\n",
       "      <th></th>\n",
       "      <th>hour</th>\n",
       "      <th>hour_bef_temperature</th>\n",
       "      <th>hour_bef_windspeed</th>\n",
       "      <th>hour_bef_humidity</th>\n",
       "      <th>hour_bef_visibility</th>\n",
       "    </tr>\n",
       "  </thead>\n",
       "  <tbody>\n",
       "    <tr>\n",
       "      <th>0</th>\n",
       "      <td>20</td>\n",
       "      <td>16.3</td>\n",
       "      <td>1.5</td>\n",
       "      <td>89.0</td>\n",
       "      <td>576.0</td>\n",
       "    </tr>\n",
       "    <tr>\n",
       "      <th>1</th>\n",
       "      <td>13</td>\n",
       "      <td>20.1</td>\n",
       "      <td>1.4</td>\n",
       "      <td>48.0</td>\n",
       "      <td>916.0</td>\n",
       "    </tr>\n",
       "    <tr>\n",
       "      <th>2</th>\n",
       "      <td>6</td>\n",
       "      <td>13.9</td>\n",
       "      <td>0.7</td>\n",
       "      <td>79.0</td>\n",
       "      <td>1382.0</td>\n",
       "    </tr>\n",
       "    <tr>\n",
       "      <th>3</th>\n",
       "      <td>23</td>\n",
       "      <td>8.1</td>\n",
       "      <td>2.7</td>\n",
       "      <td>54.0</td>\n",
       "      <td>946.0</td>\n",
       "    </tr>\n",
       "    <tr>\n",
       "      <th>4</th>\n",
       "      <td>18</td>\n",
       "      <td>29.5</td>\n",
       "      <td>4.8</td>\n",
       "      <td>7.0</td>\n",
       "      <td>2000.0</td>\n",
       "    </tr>\n",
       "    <tr>\n",
       "      <th>...</th>\n",
       "      <td>...</td>\n",
       "      <td>...</td>\n",
       "      <td>...</td>\n",
       "      <td>...</td>\n",
       "      <td>...</td>\n",
       "    </tr>\n",
       "    <tr>\n",
       "      <th>1454</th>\n",
       "      <td>4</td>\n",
       "      <td>16.8</td>\n",
       "      <td>1.6</td>\n",
       "      <td>53.0</td>\n",
       "      <td>2000.0</td>\n",
       "    </tr>\n",
       "    <tr>\n",
       "      <th>1455</th>\n",
       "      <td>3</td>\n",
       "      <td>10.8</td>\n",
       "      <td>3.8</td>\n",
       "      <td>45.0</td>\n",
       "      <td>2000.0</td>\n",
       "    </tr>\n",
       "    <tr>\n",
       "      <th>1456</th>\n",
       "      <td>5</td>\n",
       "      <td>18.3</td>\n",
       "      <td>1.9</td>\n",
       "      <td>54.0</td>\n",
       "      <td>2000.0</td>\n",
       "    </tr>\n",
       "    <tr>\n",
       "      <th>1457</th>\n",
       "      <td>21</td>\n",
       "      <td>20.7</td>\n",
       "      <td>3.7</td>\n",
       "      <td>37.0</td>\n",
       "      <td>1395.0</td>\n",
       "    </tr>\n",
       "    <tr>\n",
       "      <th>1458</th>\n",
       "      <td>17</td>\n",
       "      <td>21.1</td>\n",
       "      <td>3.1</td>\n",
       "      <td>47.0</td>\n",
       "      <td>1973.0</td>\n",
       "    </tr>\n",
       "  </tbody>\n",
       "</table>\n",
       "<p>1459 rows × 5 columns</p>\n",
       "</div>"
      ],
      "text/plain": [
       "      hour  hour_bef_temperature  hour_bef_windspeed  hour_bef_humidity  \\\n",
       "0       20                  16.3                 1.5               89.0   \n",
       "1       13                  20.1                 1.4               48.0   \n",
       "2        6                  13.9                 0.7               79.0   \n",
       "3       23                   8.1                 2.7               54.0   \n",
       "4       18                  29.5                 4.8                7.0   \n",
       "...    ...                   ...                 ...                ...   \n",
       "1454     4                  16.8                 1.6               53.0   \n",
       "1455     3                  10.8                 3.8               45.0   \n",
       "1456     5                  18.3                 1.9               54.0   \n",
       "1457    21                  20.7                 3.7               37.0   \n",
       "1458    17                  21.1                 3.1               47.0   \n",
       "\n",
       "      hour_bef_visibility  \n",
       "0                   576.0  \n",
       "1                   916.0  \n",
       "2                  1382.0  \n",
       "3                   946.0  \n",
       "4                  2000.0  \n",
       "...                   ...  \n",
       "1454               2000.0  \n",
       "1455               2000.0  \n",
       "1456               2000.0  \n",
       "1457               1395.0  \n",
       "1458               1973.0  \n",
       "\n",
       "[1459 rows x 5 columns]"
      ]
     },
     "execution_count": 65,
     "metadata": {},
     "output_type": "execute_result"
    }
   ],
   "source": [
    "df_train_data"
   ]
  },
  {
   "cell_type": "code",
   "execution_count": 66,
   "metadata": {},
   "outputs": [],
   "source": [
    "df_test_data = df_test.drop('id', axis=1)"
   ]
  },
  {
   "cell_type": "code",
   "execution_count": 67,
   "metadata": {},
   "outputs": [
    {
     "data": {
      "text/html": [
       "<div>\n",
       "<style scoped>\n",
       "    .dataframe tbody tr th:only-of-type {\n",
       "        vertical-align: middle;\n",
       "    }\n",
       "\n",
       "    .dataframe tbody tr th {\n",
       "        vertical-align: top;\n",
       "    }\n",
       "\n",
       "    .dataframe thead th {\n",
       "        text-align: right;\n",
       "    }\n",
       "</style>\n",
       "<table border=\"1\" class=\"dataframe\">\n",
       "  <thead>\n",
       "    <tr style=\"text-align: right;\">\n",
       "      <th></th>\n",
       "      <th>hour</th>\n",
       "      <th>hour_bef_temperature</th>\n",
       "      <th>hour_bef_windspeed</th>\n",
       "      <th>hour_bef_humidity</th>\n",
       "      <th>hour_bef_visibility</th>\n",
       "    </tr>\n",
       "  </thead>\n",
       "  <tbody>\n",
       "    <tr>\n",
       "      <th>0</th>\n",
       "      <td>7</td>\n",
       "      <td>20.7</td>\n",
       "      <td>1.3</td>\n",
       "      <td>62.0</td>\n",
       "      <td>954.0</td>\n",
       "    </tr>\n",
       "    <tr>\n",
       "      <th>1</th>\n",
       "      <td>17</td>\n",
       "      <td>30.0</td>\n",
       "      <td>5.4</td>\n",
       "      <td>33.0</td>\n",
       "      <td>1590.0</td>\n",
       "    </tr>\n",
       "    <tr>\n",
       "      <th>2</th>\n",
       "      <td>13</td>\n",
       "      <td>19.0</td>\n",
       "      <td>2.1</td>\n",
       "      <td>95.0</td>\n",
       "      <td>193.0</td>\n",
       "    </tr>\n",
       "    <tr>\n",
       "      <th>3</th>\n",
       "      <td>6</td>\n",
       "      <td>22.5</td>\n",
       "      <td>2.5</td>\n",
       "      <td>60.0</td>\n",
       "      <td>1185.0</td>\n",
       "    </tr>\n",
       "    <tr>\n",
       "      <th>4</th>\n",
       "      <td>22</td>\n",
       "      <td>14.6</td>\n",
       "      <td>3.4</td>\n",
       "      <td>93.0</td>\n",
       "      <td>218.0</td>\n",
       "    </tr>\n",
       "  </tbody>\n",
       "</table>\n",
       "</div>"
      ],
      "text/plain": [
       "   hour  hour_bef_temperature  hour_bef_windspeed  hour_bef_humidity  \\\n",
       "0     7                  20.7                 1.3               62.0   \n",
       "1    17                  30.0                 5.4               33.0   \n",
       "2    13                  19.0                 2.1               95.0   \n",
       "3     6                  22.5                 2.5               60.0   \n",
       "4    22                  14.6                 3.4               93.0   \n",
       "\n",
       "   hour_bef_visibility  \n",
       "0                954.0  \n",
       "1               1590.0  \n",
       "2                193.0  \n",
       "3               1185.0  \n",
       "4                218.0  "
      ]
     },
     "execution_count": 67,
     "metadata": {},
     "output_type": "execute_result"
    }
   ],
   "source": [
    "df_test_data.head()"
   ]
  },
  {
   "cell_type": "markdown",
   "metadata": {},
   "source": [
    "## Prediction by Model"
   ]
  },
  {
   "cell_type": "code",
   "execution_count": 68,
   "metadata": {},
   "outputs": [],
   "source": [
    "from sklearn.linear_model import LinearRegression, Ridge, Lasso\n",
    "from xgboost import XGBRegressor\n",
    "from sklearn.metrics import mean_squared_error"
   ]
  },
  {
   "cell_type": "code",
   "execution_count": 69,
   "metadata": {},
   "outputs": [],
   "source": [
    "def predict_by_model(model):\n",
    "    model.fit(df_train_data, df_train_label)\n",
    "    prediction = model.predict(df_test_data)\n",
    "    accuracy = mean_squared_error(df_train_label, model.predict(df_train_data))\n",
    "    print(\"MSE:\", np.sqrt(accuracy), \"%\")\n",
    "    return prediction"
   ]
  },
  {
   "cell_type": "code",
   "execution_count": 70,
   "metadata": {},
   "outputs": [
    {
     "name": "stdout",
     "output_type": "stream",
     "text": [
      "MSE: 53.7454540710541 %\n"
     ]
    }
   ],
   "source": [
    "lr_pred = predict_by_model(LinearRegression())"
   ]
  },
  {
   "cell_type": "code",
   "execution_count": 71,
   "metadata": {},
   "outputs": [
    {
     "name": "stdout",
     "output_type": "stream",
     "text": [
      "MSE: 53.745454148795496 %\n"
     ]
    }
   ],
   "source": [
    "ridge_pred = predict_by_model(Ridge())"
   ]
  },
  {
   "cell_type": "code",
   "execution_count": 72,
   "metadata": {},
   "outputs": [
    {
     "name": "stdout",
     "output_type": "stream",
     "text": [
      "MSE: 53.751520294948854 %\n"
     ]
    }
   ],
   "source": [
    "lasso_pred = predict_by_model(Lasso())"
   ]
  },
  {
   "cell_type": "code",
   "execution_count": 75,
   "metadata": {},
   "outputs": [
    {
     "name": "stdout",
     "output_type": "stream",
     "text": [
      "MSE: 6.801731604409469 %\n"
     ]
    }
   ],
   "source": [
    "xgb_pred = predict_by_model(XGBRegressor())"
   ]
  },
  {
   "cell_type": "markdown",
   "metadata": {},
   "source": [
    "## Submission"
   ]
  },
  {
   "cell_type": "code",
   "execution_count": 76,
   "metadata": {},
   "outputs": [],
   "source": [
    "# Final prediction\n",
    "predictions = xgb_pred\n",
    "predictions_df = pd.DataFrame(predictions)\n",
    "\n",
    "submission = pd.concat([df_test['id'], predictions_df], axis = 'columns')\n",
    "\n",
    "submission.columns = [\"id\", \"count\"]\n",
    "submission.to_csv('ddareungi_challenge_dg_2_xgb.csv', header=True, index=False)"
   ]
  },
  {
   "cell_type": "markdown",
   "metadata": {},
   "source": [
    "## Result"
   ]
  },
  {
   "cell_type": "markdown",
   "metadata": {},
   "source": [
    "XGBRegressor model score : 49.63617"
   ]
  }
 ],
 "metadata": {
  "kernelspec": {
   "display_name": "Python 3.9.12 ('base')",
   "language": "python",
   "name": "python3"
  },
  "language_info": {
   "codemirror_mode": {
    "name": "ipython",
    "version": 3
   },
   "file_extension": ".py",
   "mimetype": "text/x-python",
   "name": "python",
   "nbconvert_exporter": "python",
   "pygments_lexer": "ipython3",
   "version": "3.9.12"
  },
  "orig_nbformat": 4,
  "vscode": {
   "interpreter": {
    "hash": "9440880835e37bac7c63c3f48136335841922e005101bff80b0c6ac1b3d68689"
   }
  }
 },
 "nbformat": 4,
 "nbformat_minor": 2
}
