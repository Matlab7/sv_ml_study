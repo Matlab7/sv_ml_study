{
 "cells": [
  {
   "cell_type": "code",
   "execution_count": null,
   "id": "15bdcf28",
   "metadata": {},
   "outputs": [],
   "source": [
    "import numpy as np\n",
    "import pandas as pd"
   ]
  },
  {
   "cell_type": "code",
   "execution_count": null,
   "id": "68b60a07",
   "metadata": {},
   "outputs": [],
   "source": [
    "train = pd.read_csv(\"../../../input/titanic/train.csv\")\n",
    "test = pd.read_csv(\"../../../input/titanic/test.csv\")"
   ]
  },
  {
   "cell_type": "code",
   "execution_count": null,
   "id": "4a3bf922",
   "metadata": {},
   "outputs": [],
   "source": [
    "train.head()"
   ]
  },
  {
   "cell_type": "code",
   "execution_count": null,
   "id": "8612bbee",
   "metadata": {},
   "outputs": [],
   "source": [
    "train"
   ]
  },
  {
   "cell_type": "code",
   "execution_count": null,
   "id": "e6975ed9",
   "metadata": {},
   "outputs": [],
   "source": [
    "train.shape"
   ]
  },
  {
   "cell_type": "code",
   "execution_count": null,
   "id": "d2eb6077",
   "metadata": {},
   "outputs": [],
   "source": [
    "train.info()"
   ]
  },
  {
   "cell_type": "code",
   "execution_count": null,
   "id": "ca7da114",
   "metadata": {},
   "outputs": [],
   "source": [
    "test"
   ]
  },
  {
   "cell_type": "code",
   "execution_count": null,
   "id": "1f456322",
   "metadata": {},
   "outputs": [],
   "source": [
    "ntrain = train.shape[0]\n",
    "ntest = test.shape[0]\n",
    "\n",
    "y_train = train['Survived'].values\n",
    "passID = test['PassengerId']\n",
    "\n",
    "data = pd.concat((train, test))\n",
    "\n",
    "data"
   ]
  },
  {
   "cell_type": "code",
   "execution_count": null,
   "id": "5375ff07",
   "metadata": {},
   "outputs": [],
   "source": [
    "data['Sex'].value_counts()"
   ]
  },
  {
   "cell_type": "code",
   "execution_count": null,
   "id": "7011b317",
   "metadata": {},
   "outputs": [],
   "source": [
    "train[['Sex', 'Survived']].groupby(['Sex']).mean()"
   ]
  },
  {
   "cell_type": "code",
   "execution_count": null,
   "id": "b3205eef",
   "metadata": {},
   "outputs": [],
   "source": [
    "temp = data.copy()"
   ]
  },
  {
   "cell_type": "code",
   "execution_count": null,
   "id": "3702c58a",
   "metadata": {},
   "outputs": [],
   "source": [
    "temp"
   ]
  },
  {
   "cell_type": "code",
   "execution_count": null,
   "id": "cf1049f7",
   "metadata": {},
   "outputs": [],
   "source": [
    "temp['Age']"
   ]
  },
  {
   "cell_type": "code",
   "execution_count": null,
   "id": "1f1303d4",
   "metadata": {},
   "outputs": [],
   "source": [
    "temp['Age'].value_counts()"
   ]
  },
  {
   "cell_type": "code",
   "execution_count": null,
   "id": "c39d0e04",
   "metadata": {},
   "outputs": [],
   "source": [
    "temp['Age'].isnull().sum()"
   ]
  },
  {
   "cell_type": "code",
   "execution_count": null,
   "id": "ccacea6c",
   "metadata": {},
   "outputs": [],
   "source": [
    "temp['Initial'] = 0\n",
    "temp['Initial'] = data.Name.str.extract('([A-Za-z]+)\\.')\n",
    "temp['Initial'].value_counts()"
   ]
  },
  {
   "cell_type": "code",
   "execution_count": null,
   "id": "64d0d498",
   "metadata": {},
   "outputs": [],
   "source": [
    "temp.groupby('Initial').agg({'Age' : ['mean', 'count']})"
   ]
  },
  {
   "cell_type": "code",
   "execution_count": null,
   "id": "e75fba14",
   "metadata": {},
   "outputs": [],
   "source": [
    "temp = temp.reset_index(drop=True)\n",
    "temp['Age'] = temp.groupby('Initial')['Age'].apply(lambda x:x.fillna(x.mean()))\n",
    "temp[['Initial', 'Age']]"
   ]
  },
  {
   "cell_type": "code",
   "execution_count": null,
   "id": "de8e78bc",
   "metadata": {},
   "outputs": [],
   "source": [
    "temp['Age'].value_counts()"
   ]
  },
  {
   "cell_type": "code",
   "execution_count": null,
   "id": "6c7094fd",
   "metadata": {},
   "outputs": [],
   "source": [
    "temp['Age'].isnull().sum()"
   ]
  },
  {
   "cell_type": "code",
   "execution_count": null,
   "id": "9540ffa8",
   "metadata": {},
   "outputs": [],
   "source": [
    "temp.loc[(temp['Sex'] == 'male'), 'Sex'] = 1\n",
    "temp.loc[(temp['Sex'] == 'female'), 'Sex'] = 2\n",
    "temp.loc[(temp['Age'] <= 1), 'Sex'] = 3"
   ]
  },
  {
   "cell_type": "code",
   "execution_count": null,
   "id": "7a01aab2",
   "metadata": {},
   "outputs": [],
   "source": [
    "temp"
   ]
  },
  {
   "cell_type": "code",
   "execution_count": null,
   "id": "d2ddbed4",
   "metadata": {},
   "outputs": [],
   "source": [
    "temp[['Sex', 'Age'] == 3]"
   ]
  },
  {
   "cell_type": "code",
   "execution_count": null,
   "id": "af056d58",
   "metadata": {},
   "outputs": [],
   "source": [
    "temp['Sex'].value_counts()"
   ]
  },
  {
   "cell_type": "code",
   "execution_count": null,
   "id": "f7ca0eb8",
   "metadata": {},
   "outputs": [],
   "source": [
    "def survpct(col):\n",
    "    return temp.groupby(col)['Survived'].mean()"
   ]
  },
  {
   "cell_type": "code",
   "execution_count": null,
   "id": "e281f288",
   "metadata": {},
   "outputs": [],
   "source": [
    "survpct('Sex')"
   ]
  },
  {
   "cell_type": "code",
   "execution_count": null,
   "id": "b0986026",
   "metadata": {},
   "outputs": [],
   "source": []
  }
 ],
 "metadata": {
  "kernelspec": {
   "display_name": "Python 3 (ipykernel)",
   "language": "python",
   "name": "python3"
  },
  "language_info": {
   "codemirror_mode": {
    "name": "ipython",
    "version": 3
   },
   "file_extension": ".py",
   "mimetype": "text/x-python",
   "name": "python",
   "nbconvert_exporter": "python",
   "pygments_lexer": "ipython3",
   "version": "3.9.13"
  }
 },
 "nbformat": 4,
 "nbformat_minor": 5
}
