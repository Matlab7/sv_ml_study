{
 "cells": [
  {
   "cell_type": "markdown",
   "metadata": {},
   "source": [
    "[Week 02] Jinkyu Lee\n",
    "\n",
    "파이썬 머신러닝 완벽 가이드 3장 참고\n",
    "\n",
    "# Evaluation\n",
    "\n",
    "* 이진 분류의 평가 방법\n",
    "\n",
    "## Accuracy\n",
    "\n",
    "* Accuracy = 참 값의 데이터 수 / 전체 예측 데이터 수\n",
    "\n",
    "* 직관적으로 모델 예측 성능을 나타내는 평가 지표\n",
    "\n",
    "* 불균형한 레이블 값 분포에서는 모델의 성능을 왜곡할 수 있음\n",
    "\n",
    "### Example\n",
    "\n",
    "* MNIST 데이터를 예시로 불균형한 레이블 값 분포에서 발생하는 왜곡을 확인해보자\n",
    "\n",
    "* 7인 것만 True, 나머지 값은 모두 False로 변환하여 이진 분류 문제로 설정"
   ]
  },
  {
   "cell_type": "code",
   "execution_count": 47,
   "metadata": {},
   "outputs": [
    {
     "name": "stdout",
     "output_type": "stream",
     "text": [
      "레이블 테스트 세트 크기 : (450,)\n",
      "테스트 세트 레이블 0과 1의 분포도\n",
      "0    405\n",
      "1     45\n",
      "dtype: int64\n",
      "모든 예측을 0으로 하여도 정확도는: 0.900\n"
     ]
    }
   ],
   "source": [
    "from sklearn.datasets import load_digits\n",
    "from sklearn.model_selection import train_test_split\n",
    "from sklearn.base import BaseEstimator\n",
    "from sklearn.metrics import accuracy_score\n",
    "import numpy as np\n",
    "import pandas as pd\n",
    "\n",
    "class MyFakeClassifier(BaseEstimator):\n",
    "    def fit(self, X, y):\n",
    "        pass\n",
    "    \n",
    "    # 입력값으로 들어오는 X 데이터 세트의 크기만큼 모두 0값으로 만들어서 반환\n",
    "    def predict(self, X):\n",
    "        return np.zeros((len(X), 1), dtype=bool)\n",
    "    \n",
    "# 사이킷런의 내장 데이터 세트인 load_digits()를 이용해 MNIST 데이터 로딩\n",
    "digits = load_digits()\n",
    "\n",
    "# digits 번호가 7번이면 True이고 이를 astype(int)로 1로 변환, 7번이 아니면 False이고 0으로 변환\n",
    "y = (digits.target == 7).astype(int)\n",
    "X_train, X_test, y_train, y_test = train_test_split(digits.data, y, random_state=11)\n",
    "\n",
    "# 불균형한 레이블 데이터 분포도 확인\n",
    "print('레이블 테스트 세트 크기 :', y_test.shape)\n",
    "print('테스트 세트 레이블 0과 1의 분포도')\n",
    "print(pd.Series(y_test).value_counts())\n",
    "\n",
    "# Dummy Classifier로 학습/예측/정확도 평가\n",
    "fakeclf = MyFakeClassifier()\n",
    "fakeclf.fit(X_train, y_train)\n",
    "fakepred = fakeclf.predict(X_test)\n",
    "print('모든 예측을 0으로 하여도 정확도는: {:.3f}'.format(accuracy_score(y_test, fakepred)))"
   ]
  },
  {
   "cell_type": "markdown",
   "metadata": {},
   "source": [
    "* 모두 0으로 predict함에도 정확도는 90%임\n",
    "\n",
    "* 이러한 한계점을 극복하기 위해 여러 가지 분류 지표를 함께 적용하여 모델 성능을 평가해야 함"
   ]
  },
  {
   "cell_type": "markdown",
   "metadata": {},
   "source": [
    "## Confusion matrix\n",
    "\n",
    "![](https://velog.velcdn.com/images%2Fsset2323%2Fpost%2F2fb704cf-8556-40fc-87a2-75b8feb32986%2Fimage.png)\n",
    "\n",
    "* 어떤 유형의 예측 오류가 발생하는지"
   ]
  },
  {
   "cell_type": "code",
   "execution_count": 48,
   "metadata": {},
   "outputs": [
    {
     "data": {
      "text/plain": [
       "array([[405,   0],\n",
       "       [ 45,   0]], dtype=int64)"
      ]
     },
     "execution_count": 48,
     "metadata": {},
     "output_type": "execute_result"
    }
   ],
   "source": [
    "from sklearn.metrics import confusion_matrix\n",
    "\n",
    "confusion_matrix(y_test, fakepred)"
   ]
  },
  {
   "cell_type": "markdown",
   "metadata": {},
   "source": [
    "* Accuracy = (TN + TP) / (TN + FP + FN + TP)"
   ]
  },
  {
   "cell_type": "markdown",
   "metadata": {},
   "source": [
    "## Precision and recall\n",
    "\n",
    "* Precision = TP / (FP + TP)\n",
    "\n",
    "    * 예측을 positive로 한 대상 중 예측과 실제값이 positive로 일치한 데이터의 비율\n",
    "\n",
    "    * 실제 negative인 데이터 예측을 positive로 잘못 판단하게 되면(FP) 큰 문제가 되는 경우에 더 중요한 지표로 작용 (e.g. 스팸메일 여부 판단)\n",
    "\n",
    "* Recall = TP / (FN + TP)\n",
    "\n",
    "    * 실제 값이 positive인 대상 중 예측과 실제 값이 positive로 일치한 데이터의 비율\n",
    "\n",
    "    * 실제 positive인 데이터 예측을 negative로 잘못 판단하게 되면(FN) 큰 문제가 되는 경우에 더 중요한 지표로 작용 (e.g. 암 진단, 금융 사기 적발)"
   ]
  },
  {
   "cell_type": "code",
   "execution_count": 49,
   "metadata": {},
   "outputs": [],
   "source": [
    "import re\n",
    "from sklearn.metrics import accuracy_score, precision_score, recall_score, confusion_matrix\n",
    "\n",
    "def get_clf_eval(y_test, pred):\n",
    "    confusion = confusion_matrix(y_test, pred)\n",
    "    accuracy = accuracy_score(y_test, pred)\n",
    "    precision = precision_score(y_test, pred)\n",
    "    recall = recall_score(y_test, pred)\n",
    "    print('오차 행렬')\n",
    "    print(confusion)\n",
    "    print('정확도: {0:.4f}, 정밀도: {1:.4f}, 재현율: {2:.4f}'.format(accuracy, precision, recall))"
   ]
  },
  {
   "cell_type": "code",
   "execution_count": 50,
   "metadata": {},
   "outputs": [],
   "source": [
    "# 기본 데이터 정리 및 처리\n",
    "import numpy as np\n",
    "import pandas as pd\n",
    "\n",
    "# 경고 제거 (판다스가 에러 메세지를 자주 만들어 내기 때문에 이를 일단 무시하도록 설정합니다.)\n",
    "import sys\n",
    "import warnings\n",
    "\n",
    "import warnings\n",
    "warnings.filterwarnings('ignore')\n",
    "\n",
    "titanic_df = pd.read_csv('../../input/titanic/train.csv')\n",
    "y_titanic_df = titanic_df['Survived']\n",
    "X_titanic_df = titanic_df.drop('Survived', axis=1)\n",
    "\n",
    "# Initial 처리\n",
    "X_titanic_df['Initial'] = 0\n",
    "X_titanic_df['Initial'] = X_titanic_df.Name.str.extract('([A-Za-z]+)\\.')\n",
    "X_titanic_df['Initial'].replace(['Capt', 'Col', 'Countess', 'Don', 'Dona' , 'Dr', 'Jonkheer', 'Lady', 'Major', 'Master',  'Miss'  ,'Mlle', 'Mme', 'Mr', 'Mrs', 'Ms', 'Rev', 'Sir'], ['Sacrificed', 'Respected', 'Nobles', 'Mr', 'Mrs', 'Respected', 'Mr', 'Nobles', 'Respected', 'Kids', 'Miss', 'Nobles', 'Nobles', 'Mr', 'Mrs', 'Nobles', 'Sacrificed', 'Nobles'], inplace=True)\n",
    "X_titanic_df['Initial'].replace(['Kids', 'Miss', 'Mr', 'Mrs', 'Nobles', 'Respected', 'Sacrificed'], [4, 4, 2, 5, 6, 3, 1], inplace=True)\n",
    "X_titanic_df['LastName'] = X_titanic_df.Name.str.extract('([A-Za-z]+)')\n",
    "X_titanic_df.loc[X_titanic_df['Initial'] == 'Dona', 'Initial'] = 'Mrs'\n",
    "X_titanic_df['NumName'] = X_titanic_df['LastName'].factorize()[0]\n",
    "\n",
    "# Age 처리\n",
    "X_titanic_df = X_titanic_df.reset_index(drop=True)\n",
    "X_titanic_df['Age'] = X_titanic_df.groupby('Initial')['Age'].apply(lambda x: x.fillna(x.mean()))\n",
    "X_titanic_df['Age_Range'] = pd.qcut(X_titanic_df['Age'], 10)\n",
    "X_titanic_df['Agroup'] = 0\n",
    "X_titanic_df.loc[X_titanic_df['Age'] < 1.0, 'Agroup'] = 1\n",
    "X_titanic_df.loc[(X_titanic_df['Age'] >=1.0) & (X_titanic_df['Age'] <= 3.0), 'Agroup'] = 2\n",
    "X_titanic_df.loc[(X_titanic_df['Age'] > 3.0) & (X_titanic_df['Age'] < 11.0), 'Agroup'] = 7\n",
    "X_titanic_df.loc[(X_titanic_df['Age'] >= 11.0) & (X_titanic_df['Age'] < 15.0), 'Agroup'] = 13\n",
    "X_titanic_df.loc[(X_titanic_df['Age'] >= 15.0) & (X_titanic_df['Age'] < 18.0), 'Agroup'] = 16\n",
    "X_titanic_df.loc[(X_titanic_df['Age'] >= 18.0) & (X_titanic_df['Age'] <=  20.0), 'Agroup'] = 18\n",
    "X_titanic_df.loc[(X_titanic_df['Age'] > 20.0) & (X_titanic_df['Age'] <= 22.0), 'Agroup'] = 21\n",
    "X_titanic_df.loc[(X_titanic_df['Age'] > 22.0) & (X_titanic_df['Age'] <= 26.0), 'Agroup'] = 24\n",
    "X_titanic_df.loc[(X_titanic_df['Age'] > 26.0) & (X_titanic_df['Age'] <= 30.0), 'Agroup'] = 28\n",
    "X_titanic_df.loc[(X_titanic_df['Age'] > 30.0) & (X_titanic_df['Age'] <= 32.0), 'Agroup'] = 31\n",
    "X_titanic_df.loc[(X_titanic_df['Age'] > 32.0) & (X_titanic_df['Age'] <= 34.0), 'Agroup'] = 33\n",
    "X_titanic_df.loc[(X_titanic_df['Age'] > 34.0) & (X_titanic_df['Age'] <= 38.0), 'Agroup'] = 36\n",
    "X_titanic_df.loc[(X_titanic_df['Age'] > 38.0) & (X_titanic_df['Age'] <= 52.0), 'Agroup'] = 45\n",
    "X_titanic_df.loc[(X_titanic_df['Age'] > 52.0) & (X_titanic_df['Age'] <= 75.0), 'Agroup'] = 60\n",
    "X_titanic_df.loc[X_titanic_df['Age'] > 75.0, 'Agroup'] = 78\n",
    "\n",
    "# Sex 처리\n",
    "X_titanic_df.loc[(X_titanic_df['Sex'] == 'male'), 'Sex'] = 1\n",
    "X_titanic_df.loc[(X_titanic_df['Sex'] == 'female'), 'Sex'] = 2\n",
    "X_titanic_df.loc[(X_titanic_df['Age'] < 1), 'Sex'] = 3\n",
    "\n",
    "# Family 처리\n",
    "X_titanic_df.loc[(X_titanic_df['SibSp'] == 0) & (X_titanic_df['Parch'] == 0), 'Alone'] = 1\n",
    "X_titanic_df['Family'] = X_titanic_df['Parch'] + X_titanic_df['SibSp'] + 1\n",
    "\n",
    "# Fare 처리\n",
    "X_titanic_df['Fgroup'] = 0\n",
    "X_titanic_df.loc[X_titanic_df['Fare'] <= 0,'Fgroup'] = 0\n",
    "X_titanic_df.loc[(X_titanic_df['Fare'] > 0) & (X_titanic_df['Fare'] <= 7.125), 'Fgroup'] = 1\n",
    "X_titanic_df.loc[(X_titanic_df['Fare'] > 7.125) & (X_titanic_df['Fare'] <= 7.9), 'Fgroup'] = 2\n",
    "X_titanic_df.loc[(X_titanic_df['Fare'] > 7.9) & (X_titanic_df['Fare'] <= 8.03), 'Fgroup'] = 3\n",
    "X_titanic_df.loc[(X_titanic_df['Fare'] > 8.03) & (X_titanic_df['Fare'] < 10.5), 'Fgroup'] = 4\n",
    "X_titanic_df.loc[(X_titanic_df['Fare'] >= 10.5) & (X_titanic_df['Fare'] < 23.0), 'Fgroup'] = 5\n",
    "X_titanic_df.loc[(X_titanic_df['Fare'] >= 23.0) & (X_titanic_df['Fare'] <= 27.8), 'Fgroup'] = 6\n",
    "X_titanic_df.loc[(X_titanic_df['Fare'] > 27.8) & (X_titanic_df['Fare'] <= 51.0), 'Fgroup'] = 7\n",
    "X_titanic_df.loc[(X_titanic_df['Fare'] > 51.0) & (X_titanic_df['Fare'] <= 73.5), 'Fgroup'] = 8\n",
    "X_titanic_df.loc[X_titanic_df['Fare'] > 73.5, 'Fgroup'] = 9\n",
    "\n",
    "X_titanic_df['F1'] = X_titanic_df['Agroup']\n",
    "X_titanic_df['F2'] = X_titanic_df['Initial']\n",
    "X_titanic_df['F3'] = X_titanic_df['Fgroup']\n",
    "X_titanic_df['F4'] = X_titanic_df['Family']\n",
    "X_titanic_df['F5'] = X_titanic_df['Sex']\n",
    "X_titanic_df['F6'] = X_titanic_df['Pclass']\n",
    "good_columns = ['F1', 'F2', 'F3', 'F4', 'F5', 'F6']\n",
    "\n",
    "X_train, X_test, y_train, y_test = train_test_split(X_titanic_df[good_columns], y_titanic_df, test_size = 0.20, random_state=11)\n"
   ]
  },
  {
   "cell_type": "code",
   "execution_count": 51,
   "metadata": {},
   "outputs": [
    {
     "name": "stdout",
     "output_type": "stream",
     "text": [
      "오차 행렬\n",
      "[[108  10]\n",
      " [ 12  49]]\n",
      "정확도: 0.8771, 정밀도: 0.8305, 재현율: 0.8033\n"
     ]
    }
   ],
   "source": [
    "# 로지스틱 회귀 기반으로 타이타닉 생존자를 예측하고, confusion matrix, accuracy, precision, recall 평가를 해보자\n",
    "\n",
    "import pandas as pd\n",
    "from sklearn.model_selection import train_test_split\n",
    "from sklearn.linear_model import LogisticRegression\n",
    "\n",
    "lr_clf = LogisticRegression(solver='liblinear')\n",
    "\n",
    "lr_clf.fit(X_train, y_train)\n",
    "\n",
    "pred = lr_clf.predict(X_test)\n",
    "get_clf_eval(y_test, pred)"
   ]
  },
  {
   "cell_type": "markdown",
   "metadata": {},
   "source": [
    "### Precison / recall trade-off\n",
    "\n",
    "* 분류 결정 threshold 조정"
   ]
  },
  {
   "cell_type": "code",
   "execution_count": 52,
   "metadata": {},
   "outputs": [
    {
     "name": "stdout",
     "output_type": "stream",
     "text": [
      "pred_proba() 결과 Shape : (179, 2)\n",
      "pred_proba array에서 앞 3개만 샘플로 추출 \n",
      ": [[0.2820151  0.7179849 ]\n",
      " [0.88942979 0.11057021]\n",
      " [0.92600838 0.07399162]]\n",
      "두개의 class 중에서 더 큰 확률을 클래스 값으로 예측 \n",
      " [[0.2820151  0.7179849  1.        ]\n",
      " [0.88942979 0.11057021 0.        ]\n",
      " [0.92600838 0.07399162 0.        ]]\n"
     ]
    }
   ],
   "source": [
    "pred_proba = lr_clf.predict_proba(X_test)\n",
    "pred = lr_clf.predict(X_test)\n",
    "print('pred_proba() 결과 Shape : {0}'.format(pred_proba.shape))\n",
    "print('pred_proba array에서 앞 3개만 샘플로 추출 \\n:', pred_proba[:3])\n",
    "\n",
    "# 예측 확률 array 와 예측 결과값 array 를 concatenate 하여 예측 확률과 결과값을 한눈에 확인\n",
    "pred_proba_result = np.concatenate([pred_proba , pred.reshape(-1,1)], axis=1)\n",
    "print('두개의 class 중에서 더 큰 확률을 클래스 값으로 예측 \\n', pred_proba_result[:3])"
   ]
  },
  {
   "cell_type": "code",
   "execution_count": 53,
   "metadata": {},
   "outputs": [
    {
     "name": "stdout",
     "output_type": "stream",
     "text": [
      "[[0. 0. 1.]\n",
      " [1. 0. 0.]\n",
      " [0. 0. 1.]]\n"
     ]
    }
   ],
   "source": [
    "from sklearn.preprocessing import Binarizer\n",
    "\n",
    "X = [[ 1, -1,  2],\n",
    "     [ 2,  0,  0],\n",
    "     [ 0,  1.1, 1.2]]\n",
    "\n",
    "# threshold 기준값보다 같거나 작으면 0을, 크면 1을 반환\n",
    "binarizer = Binarizer(threshold=1.1)                     \n",
    "print(binarizer.fit_transform(X))"
   ]
  },
  {
   "cell_type": "code",
   "execution_count": 54,
   "metadata": {},
   "outputs": [
    {
     "name": "stdout",
     "output_type": "stream",
     "text": [
      "오차 행렬\n",
      "[[108  10]\n",
      " [ 12  49]]\n",
      "정확도: 0.8771, 정밀도: 0.8305, 재현율: 0.8033\n"
     ]
    }
   ],
   "source": [
    "# 분류 결정 임계값 0.5 기반에서 Binarizer를 이용하여 예측값 변환\n",
    "\n",
    "#Binarizer의 threshold 설정값. 분류 결정 임곗값임.  \n",
    "custom_threshold = 0.5\n",
    "\n",
    "# predict_proba( ) 반환값의 두번째 컬럼 , 즉 Positive 클래스 컬럼 하나만 추출하여 Binarizer를 적용\n",
    "pred_proba_1 = pred_proba[:,1].reshape(-1,1)\n",
    "\n",
    "binarizer = Binarizer(threshold=custom_threshold).fit(pred_proba_1) \n",
    "custom_predict = binarizer.transform(pred_proba_1)\n",
    "\n",
    "get_clf_eval(y_test, custom_predict)"
   ]
  },
  {
   "cell_type": "code",
   "execution_count": 55,
   "metadata": {},
   "outputs": [
    {
     "name": "stdout",
     "output_type": "stream",
     "text": [
      "오차 행렬\n",
      "[[104  14]\n",
      " [  8  53]]\n",
      "정확도: 0.8771, 정밀도: 0.7910, 재현율: 0.8689\n"
     ]
    }
   ],
   "source": [
    "# Binarizer의 threshold 설정값을 0.4로 설정. 즉 분류 결정 임곗값을 0.5에서 0.4로 낮춤  \n",
    "custom_threshold = 0.4\n",
    "pred_proba_1 = pred_proba[:,1].reshape(-1,1)\n",
    "binarizer = Binarizer(threshold=custom_threshold).fit(pred_proba_1) \n",
    "custom_predict = binarizer.transform(pred_proba_1)\n",
    "\n",
    "get_clf_eval(y_test , custom_predict)"
   ]
  },
  {
   "cell_type": "code",
   "execution_count": 56,
   "metadata": {},
   "outputs": [
    {
     "name": "stdout",
     "output_type": "stream",
     "text": [
      "임곗값: 0.4\n",
      "오차 행렬\n",
      "[[104  14]\n",
      " [  8  53]]\n",
      "정확도: 0.8771, 정밀도: 0.7910, 재현율: 0.8689\n",
      "임곗값: 0.45\n",
      "오차 행렬\n",
      "[[105  13]\n",
      " [ 10  51]]\n",
      "정확도: 0.8715, 정밀도: 0.7969, 재현율: 0.8361\n",
      "임곗값: 0.5\n",
      "오차 행렬\n",
      "[[108  10]\n",
      " [ 12  49]]\n",
      "정확도: 0.8771, 정밀도: 0.8305, 재현율: 0.8033\n",
      "임곗값: 0.55\n",
      "오차 행렬\n",
      "[[110   8]\n",
      " [ 14  47]]\n",
      "정확도: 0.8771, 정밀도: 0.8545, 재현율: 0.7705\n",
      "임곗값: 0.6\n",
      "오차 행렬\n",
      "[[111   7]\n",
      " [ 16  45]]\n",
      "정확도: 0.8715, 정밀도: 0.8654, 재현율: 0.7377\n"
     ]
    }
   ],
   "source": [
    "# 여러개의 분류 결정 임곗값을 변경하면서 Binarizer를 이용하여 예측값 변환\n",
    "\n",
    "thresholds = [0.4, 0.45, 0.50, 0.55, 0.60]\n",
    "\n",
    "def get_eval_by_threshold(y_test , pred_proba_c1, thresholds):\n",
    "    # thresholds list객체내의 값을 차례로 iteration하면서 Evaluation 수행.\n",
    "    for custom_threshold in thresholds:\n",
    "        binarizer = Binarizer(threshold=custom_threshold).fit(pred_proba_c1) \n",
    "        custom_predict = binarizer.transform(pred_proba_c1)\n",
    "        print('임곗값:',custom_threshold)\n",
    "        get_clf_eval(y_test , custom_predict)\n",
    "\n",
    "get_eval_by_threshold(y_test ,pred_proba[:,1].reshape(-1,1), thresholds )"
   ]
  },
  {
   "cell_type": "code",
   "execution_count": 57,
   "metadata": {},
   "outputs": [
    {
     "name": "stdout",
     "output_type": "stream",
     "text": [
      "반환된 분류 결정 임곗값 배열의 Shape: (113,)\n",
      "반환된 precisions 배열의 Shape: (114,)\n",
      "반환된 recalls 배열의 Shape: (114,)\n",
      "thresholds 5 sample: [0.07399162 0.07536269 0.0789755  0.07916802 0.08101948]\n",
      "precisions 5 sample: [0.38853503 0.4137931  0.41666667 0.41258741 0.41428571]\n",
      "recalls 5 sample: [1.         0.98360656 0.98360656 0.96721311 0.95081967]\n",
      "샘플 추출을 위한 임계값 배열의 index 8개: [  0  15  30  45  60  75  90 105]\n",
      "샘플용 8개의 임곗값:  [0.07 0.11 0.18 0.28 0.49 0.68 0.83 0.95]\n",
      "샘플 임계값별 정밀도:  [0.389 0.467 0.56  0.671 0.833 0.902 0.92  1.   ]\n",
      "샘플 임계값별 재현율:  [1.    0.934 0.918 0.902 0.82  0.607 0.377 0.164]\n"
     ]
    }
   ],
   "source": [
    "from sklearn.metrics import precision_recall_curve\n",
    "\n",
    "# 레이블 값이 1일때의 예측 확률을 추출 \n",
    "pred_proba_class1 = lr_clf.predict_proba(X_test)[:, 1] \n",
    "\n",
    "# 실제값 데이터 셋과 레이블 값이 1일 때의 예측 확률을 precision_recall_curve 인자로 입력 \n",
    "precisions, recalls, thresholds = precision_recall_curve(y_test, pred_proba_class1)\n",
    "print('반환된 분류 결정 임곗값 배열의 Shape:', thresholds.shape)\n",
    "print('반환된 precisions 배열의 Shape:', precisions.shape)\n",
    "print('반환된 recalls 배열의 Shape:', recalls.shape)\n",
    "\n",
    "print(\"thresholds 5 sample:\", thresholds[:5])\n",
    "print(\"precisions 5 sample:\", precisions[:5])\n",
    "print(\"recalls 5 sample:\", recalls[:5])\n",
    "\n",
    "#반환된 임계값 배열 로우가 147건이므로 샘플로 8건만 추출하되, 임곗값을 15 Step으로 추출. \n",
    "thr_index = np.arange(0, thresholds.shape[0], 15)\n",
    "print('샘플 추출을 위한 임계값 배열의 index 8개:', thr_index)\n",
    "print('샘플용 8개의 임곗값: ', np.round(thresholds[thr_index], 2))\n",
    "\n",
    "# 15 step 단위로 추출된 임계값에 따른 정밀도와 재현율 값 \n",
    "print('샘플 임계값별 정밀도: ', np.round(precisions[thr_index], 3))\n",
    "print('샘플 임계값별 재현율: ', np.round(recalls[thr_index], 3))"
   ]
  },
  {
   "cell_type": "code",
   "execution_count": 58,
   "metadata": {},
   "outputs": [
    {
     "data": {
      "image/png": "[encoded data removed]",
      "text/plain": [
       "<Figure size 800x600 with 1 Axes>"
      ]
     },
     "metadata": {},
     "output_type": "display_data"
    }
   ],
   "source": [
    "import matplotlib.pyplot as plt\n",
    "import matplotlib.ticker as ticker\n",
    "%matplotlib inline\n",
    "\n",
    "def precision_recall_curve_plot(y_test , pred_proba_c1):\n",
    "    # threshold ndarray와 이 threshold에 따른 정밀도, 재현율 ndarray 추출. \n",
    "    precisions, recalls, thresholds = precision_recall_curve( y_test, pred_proba_c1)\n",
    "    \n",
    "    # X축을 threshold값으로, Y축은 정밀도, 재현율 값으로 각각 Plot 수행. 정밀도는 점선으로 표시\n",
    "    plt.figure(figsize=(8, 6))\n",
    "    threshold_boundary = thresholds.shape[0]\n",
    "    plt.plot(thresholds, precisions[0:threshold_boundary], linestyle='--', label='precision')\n",
    "    plt.plot(thresholds, recalls[0:threshold_boundary],label='recall')\n",
    "    \n",
    "    # threshold 값 X 축의 Scale을 0.1 단위로 변경\n",
    "    start, end = plt.xlim()\n",
    "    plt.xticks(np.round(np.arange(start, end, 0.1), 2))\n",
    "    \n",
    "    # x축, y축 label과 legend, 그리고 grid 설정\n",
    "    plt.xlabel('Threshold value'); plt.ylabel('Precision and Recall value')\n",
    "    plt.legend(); plt.grid()\n",
    "    plt.show()\n",
    "    \n",
    "precision_recall_curve_plot( y_test, lr_clf.predict_proba(X_test)[:, 1] )"
   ]
  },
  {
   "cell_type": "markdown",
   "metadata": {},
   "source": [
    "### Precision과 recall의 맹점\n",
    "\n",
    "#### Precision이 100%가 되는 방법\n",
    "\n",
    "* 확실한 기준이 되는 경우만 positive로 예측하고 나머지는 모두 negative로 예측\n",
    "\n",
    "* 예를 들어 암 진단에서 80세 이상이고, 비만이며, 이전에 암 진단을 받았고, 암 세포의 크기가 상위 0.1% 이상이면 무조건 positive, 나머지는 negative로 예측\n",
    "\n",
    "* Precision = TP / (TP + FP)\n",
    "    * FP = 0 -> Precision = 100%\n",
    "\n",
    "#### Recall이 100%가 되는 방법\n",
    "\n",
    "* 모든 환자를 positive로 예측\n",
    "\n",
    "* Recall = TP / (TP + FN)\n",
    "    * FN = 0 -> Recall = 100%"
   ]
  },
  {
   "cell_type": "markdown",
   "metadata": {},
   "source": [
    "## F1 score\n",
    "\n",
    "* Precision과 recall을 결합한 지표\n",
    "\n",
    "* Presicion과 recall이 어느 한 쪽으로 치우치지 않는 경우 상대적으로 높은 값을 가짐\n",
    "\n",
    "![](https://velog.velcdn.com/images%2Fjadon%2Fpost%2Ff06f1d40-605d-4f13-b6ce-35c220c82968%2Fimage.png)"
   ]
  },
  {
   "cell_type": "code",
   "execution_count": 59,
   "metadata": {},
   "outputs": [
    {
     "name": "stdout",
     "output_type": "stream",
     "text": [
      "F1 스코어: 0.8167\n"
     ]
    }
   ],
   "source": [
    "from sklearn.metrics import f1_score \n",
    "f1 = f1_score(y_test , pred)\n",
    "print('F1 스코어: {0:.4f}'.format(f1))"
   ]
  },
  {
   "cell_type": "code",
   "execution_count": 60,
   "metadata": {},
   "outputs": [
    {
     "name": "stdout",
     "output_type": "stream",
     "text": [
      "임곗값: 0.4\n",
      "오차 행렬\n",
      "[[104  14]\n",
      " [  8  53]]\n",
      "정확도: 0.8771, 정밀도: 0.7910, 재현율: 0.8689, F1:0.8281\n",
      "임곗값: 0.45\n",
      "오차 행렬\n",
      "[[105  13]\n",
      " [ 10  51]]\n",
      "정확도: 0.8715, 정밀도: 0.7969, 재현율: 0.8361, F1:0.8160\n",
      "임곗값: 0.5\n",
      "오차 행렬\n",
      "[[108  10]\n",
      " [ 12  49]]\n",
      "정확도: 0.8771, 정밀도: 0.8305, 재현율: 0.8033, F1:0.8167\n",
      "임곗값: 0.55\n",
      "오차 행렬\n",
      "[[110   8]\n",
      " [ 14  47]]\n",
      "정확도: 0.8771, 정밀도: 0.8545, 재현율: 0.7705, F1:0.8103\n",
      "임곗값: 0.6\n",
      "오차 행렬\n",
      "[[111   7]\n",
      " [ 16  45]]\n",
      "정확도: 0.8715, 정밀도: 0.8654, 재현율: 0.7377, F1:0.7965\n"
     ]
    }
   ],
   "source": [
    "def get_clf_eval(y_test , pred):\n",
    "    confusion = confusion_matrix( y_test, pred)\n",
    "    accuracy = accuracy_score(y_test , pred)\n",
    "    precision = precision_score(y_test , pred)\n",
    "    recall = recall_score(y_test , pred)\n",
    "    # F1 스코어 추가\n",
    "    f1 = f1_score(y_test,pred)\n",
    "    print('오차 행렬')\n",
    "    print(confusion)\n",
    "    # f1 score print 추가\n",
    "    print('정확도: {0:.4f}, 정밀도: {1:.4f}, 재현율: {2:.4f}, F1:{3:.4f}'.format(accuracy, precision, recall, f1))\n",
    "\n",
    "thresholds = [0.4 , 0.45 , 0.50 , 0.55 , 0.60]\n",
    "pred_proba = lr_clf.predict_proba(X_test)\n",
    "get_eval_by_threshold(y_test, pred_proba[:,1].reshape(-1,1), thresholds)"
   ]
  },
  {
   "cell_type": "markdown",
   "metadata": {},
   "source": [
    "## ROC and AUC\n",
    "\n",
    "### ROC(receiver operation characteristic curve)\n",
    "\n",
    "* FPR(false positive rate)이 변할 때 TPR(true positive rate)이 어떻게 변하는지를 나타내는 곡선\n",
    "\n",
    "* TPR = sensitivity = recall\n",
    "\n",
    "* TNR (true negative rate) = specificity = TN / (FP + TN)\n",
    "\n",
    "* FPR = FP / (FP + TN) = 1 - TNR = 1 - specificity"
   ]
  },
  {
   "cell_type": "code",
   "execution_count": 61,
   "metadata": {},
   "outputs": [
    {
     "name": "stdout",
     "output_type": "stream",
     "text": [
      "샘플 추출을 위한 임곗값 배열의 index: [ 1  6 11 16 21 26 31 36 41 46 51 56 61]\n",
      "샘플 index로 추출한 임곗값:  [0.99 0.84 0.68 0.62 0.49 0.35 0.29 0.24 0.14 0.1  0.09 0.07 0.  ]\n",
      "샘플 임곗값별 FPR:  [0.    0.008 0.034 0.051 0.093 0.127 0.203 0.297 0.441 0.559 0.678 0.814\n",
      " 1.   ]\n",
      "샘플 임곗값별 TPR:  [0.033 0.377 0.607 0.738 0.836 0.885 0.902 0.918 0.918 0.934 0.951 1.\n",
      " 1.   ]\n"
     ]
    }
   ],
   "source": [
    "from sklearn.metrics import roc_curve\n",
    "\n",
    "# 레이블 값이 1일때의 예측 확률을 추출 \n",
    "pred_proba_class1 = lr_clf.predict_proba(X_test)[:, 1] \n",
    "\n",
    "fprs , tprs , thresholds = roc_curve(y_test, pred_proba_class1)\n",
    "# 반환된 임곗값 배열에서 샘플로 데이터를 추출하되, 임곗값을 5 Step으로 추출. \n",
    "# thresholds[0]은 max(예측확률)+1로 임의 설정됨. 이를 제외하기 위해 np.arange는 1부터 시작\n",
    "thr_index = np.arange(1, thresholds.shape[0], 5)\n",
    "print('샘플 추출을 위한 임곗값 배열의 index:', thr_index)\n",
    "print('샘플 index로 추출한 임곗값: ', np.round(thresholds[thr_index], 2))\n",
    "\n",
    "# 5 step 단위로 추출된 임계값에 따른 FPR, TPR 값\n",
    "print('샘플 임곗값별 FPR: ', np.round(fprs[thr_index], 3))\n",
    "print('샘플 임곗값별 TPR: ', np.round(tprs[thr_index], 3))"
   ]
  },
  {
   "cell_type": "code",
   "execution_count": 62,
   "metadata": {},
   "outputs": [
    {
     "data": {
      "image/png": "[encoded data removed]",
      "text/plain": [
       "<Figure size 640x480 with 1 Axes>"
      ]
     },
     "metadata": {},
     "output_type": "display_data"
    }
   ],
   "source": [
    "def roc_curve_plot(y_test , pred_proba_c1):\n",
    "    # 임곗값에 따른 FPR, TPR 값을 반환 받음. \n",
    "    fprs , tprs , thresholds = roc_curve(y_test ,pred_proba_c1)\n",
    "\n",
    "    # ROC Curve를 plot 곡선으로 그림. \n",
    "    plt.plot(fprs , tprs, label='ROC')\n",
    "    # 가운데 대각선 직선을 그림. \n",
    "    plt.plot([0, 1], [0, 1], 'k--', label='Random')\n",
    "    \n",
    "    # FPR X 축의 Scale을 0.1 단위로 변경, X,Y 축명 설정등   \n",
    "    start, end = plt.xlim()\n",
    "    plt.xticks(np.round(np.arange(start, end, 0.1),2))\n",
    "    plt.xlim(0,1); plt.ylim(0,1)\n",
    "    plt.xlabel('FPR( 1 - Specificity )'); plt.ylabel('TPR( Recall )')\n",
    "    plt.legend()\n",
    "    plt.show()\n",
    "    \n",
    "roc_curve_plot(y_test, lr_clf.predict_proba(X_test)[:, 1] )"
   ]
  },
  {
   "cell_type": "markdown",
   "metadata": {},
   "source": [
    "### AUC(area under curve)\n",
    "\n",
    "* ROC 곡선 밑의 면적\n",
    "\n",
    "* 1에 가까울수록 좋은 수치\n",
    "\n",
    "* 가운데 대각선 직선은 랜덤 수준의 분류기"
   ]
  },
  {
   "cell_type": "code",
   "execution_count": 63,
   "metadata": {},
   "outputs": [
    {
     "name": "stdout",
     "output_type": "stream",
     "text": [
      "ROC AUC 값: 0.9128\n"
     ]
    }
   ],
   "source": [
    "from sklearn.metrics import roc_auc_score\n",
    "pred_proba = lr_clf.predict_proba(X_test)[:, 1]\n",
    "roc_score = roc_auc_score(y_test, pred_proba)\n",
    "print('ROC AUC 값: {0:.4f}'.format(roc_score))"
   ]
  },
  {
   "cell_type": "code",
   "execution_count": 64,
   "metadata": {},
   "outputs": [],
   "source": [
    "def get_clf_eval(y_test, pred=None, pred_proba=None):\n",
    "    confusion = confusion_matrix( y_test, pred)\n",
    "    accuracy = accuracy_score(y_test , pred)\n",
    "    precision = precision_score(y_test , pred)\n",
    "    recall = recall_score(y_test , pred)\n",
    "    f1 = f1_score(y_test,pred)\n",
    "    # ROC-AUC 추가 \n",
    "    roc_auc = roc_auc_score(y_test, pred_proba)\n",
    "    print('오차 행렬')\n",
    "    print(confusion)\n",
    "    # ROC-AUC print 추가\n",
    "    print('정확도: {0:.4f}, 정밀도: {1:.4f}, 재현율: {2:.4f},\\\n",
    "          F1: {3:.4f}, AUC:{4:.4f}'.format(accuracy, precision, recall, f1, roc_auc))"
   ]
  }
 ],
 "metadata": {
  "kernelspec": {
   "display_name": "Python 3.9.13 ('ml_study')",
   "language": "python",
   "name": "python3"
  },
  "language_info": {
   "codemirror_mode": {
    "name": "ipython",
    "version": 3
   },
   "file_extension": ".py",
   "mimetype": "text/x-python",
   "name": "python",
   "nbconvert_exporter": "python",
   "pygments_lexer": "ipython3",
   "version": "3.9.13"
  },
  "orig_nbformat": 4,
  "vscode": {
   "interpreter": {
    "hash": "74d49a78ed5495c50a491997d91d424a8327086adeb867e83a4bc575369c2592"
   }
  }
 },
 "nbformat": 4,
 "nbformat_minor": 2
}
